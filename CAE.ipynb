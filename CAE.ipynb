{
 "metadata": {
  "name": ""
 },
 "nbformat": 3,
 "nbformat_minor": 0,
 "worksheets": [
  {
   "cells": [
    {
     "cell_type": "code",
     "collapsed": false,
     "input": [
      "import sys\n",
      "import os\n",
      "import time\n",
      "import cPickle as pickle\n",
      "import numpy as np\n",
      "import theano\n",
      "import theano.tensor as T\n",
      "from IPython.display import Image as IPImage\n",
      "from PIL import Image\n",
      "import lasagne\n",
      "import matplotlib.pyplot as plt\n",
      "\n",
      "from lasagne.layers import get_output, InputLayer, DenseLayer, Upscale2DLayer, ReshapeLayer\n",
      "from lasagne.nonlinearities import rectify, leaky_rectify, tanh\n",
      "from lasagne.updates import nesterov_momentum\n",
      "from lasagne.objectives import categorical_crossentropy\n",
      "from nolearn.lasagne import NeuralNet, BatchIterator, PrintLayerInfo\n",
      "\n",
      "from lasagne.layers import Conv2DLayer as Conv2DLayer\n",
      "from lasagne.layers import MaxPool2DLayer as MaxPool2DLayer"
     ],
     "language": "python",
     "metadata": {},
     "outputs": [],
     "prompt_number": 19
    },
    {
     "cell_type": "code",
     "collapsed": false,
     "input": [
      "def load_dataset():\n",
      "    # We first define a download function, supporting both Python 2 and 3.                                                                                                                                  \n",
      "    if sys.version_info[0] == 2:\n",
      "        from urllib import urlretrieve\n",
      "    else:\n",
      "        from urllib.request import urlretrieve\n",
      "\n",
      "    def download(filename, source='http://yann.lecun.com/exdb/mnist/'):\n",
      "        print(\"Downloading %s\" % filename)\n",
      "        urlretrieve(source + filename, filename)\n",
      "\n",
      "    # We then define functions for loading MNIST images and labels.                                                                                                                                         \n",
      "    # For convenience, they also download the requested files if needed.                                                                                                                                    \n",
      "    import gzip\n",
      "\n",
      "    def load_mnist_images(filename):\n",
      "        if not os.path.exists(filename):\n",
      "            download(filename)\n",
      "        # Read the inputs in Yann LeCun's binary format.                                                                                                                                                    \n",
      "        with gzip.open(filename, 'rb') as f:\n",
      "            data = np.frombuffer(f.read(), np.uint8, offset=16)\n",
      "        # The inputs are vectors now, we reshape them to monochrome 2D images,                                                                                                                              \n",
      "        # following the shape convention: (examples, channels, rows, columns)                                                                                                                               \n",
      "        data = data.reshape(-1, 1, 28, 28)\n",
      "        # The inputs come as bytes, we convert them to float32 in range [0,1].                                                                                                                              \n",
      "        # (Actually to range [0, 255/256], for compatibility to the version                                                                                                                                 \n",
      "        # provided at http://deeplearning.net/data/mnist/mnist.pkl.gz.)                                                                                                                                     \n",
      "        return data / np.float32(256)\n",
      "\n",
      "    def load_mnist_labels(filename):\n",
      "        if not os.path.exists(filename):\n",
      "            download(filename)\n",
      "        # Read the labels in Yann LeCun's binary format.                                                                                                                                                    \n",
      "        with gzip.open(filename, 'rb') as f:\n",
      "            data = np.frombuffer(f.read(), np.uint8, offset=8)\n",
      "        # The labels are vectors of integers now, that's exactly what we want.                                                                                                                              \n",
      "        return data\n",
      "\n",
      "    # We can now download and read the training and test set images and labels.                                                                                                                             \n",
      "    X_train = load_mnist_images('train-images-idx3-ubyte.gz')\n",
      "    y_train = load_mnist_labels('train-labels-idx1-ubyte.gz')\n",
      "    X_test = load_mnist_images('t10k-images-idx3-ubyte.gz')\n",
      "    y_test = load_mnist_labels('t10k-labels-idx1-ubyte.gz')\n",
      "\n",
      "    # We reserve the last 10000 training examples for validation.                                                                                                                                           \n",
      "    X_train, X_val = X_train[:-10000], X_train[-10000:]\n",
      "    y_train, y_val = y_train[:-10000], y_train[-10000:]\n",
      "\n",
      "    # We just return all the arrays in order, as expected in main().                                                                                                                                        \n",
      "    # (It doesn't matter how we do this as long as we can read them again.)                                                                                                                                 \n",
      "    return X_train, y_train, X_val, y_val, X_test, y_test\n"
     ],
     "language": "python",
     "metadata": {},
     "outputs": [],
     "prompt_number": 20
    },
    {
     "cell_type": "code",
     "collapsed": false,
     "input": [
      "X_train, y_train, X_val, y_val, X_test, y_test = load_dataset()"
     ],
     "language": "python",
     "metadata": {},
     "outputs": [],
     "prompt_number": 3
    },
    {
     "cell_type": "code",
     "collapsed": false,
     "input": [
      "def build_cnn(input_var=None):\n",
      "    \n",
      "    conv_num_filters = 16\n",
      "    filter_size = 3\n",
      "    pool_size = 2\n",
      "    encode_size = 16\n",
      "    dense_mid_size = 128\n",
      "    pad_in = 'valid'\n",
      "    pad_out = 'full'\n",
      "\n",
      "    # Input layer, as usual:                                                                                                                                                                                \n",
      "    network = InputLayer(shape=(None, 1, 28, 28),\n",
      "                                        input_var=input_var,name=\"InputLayer_0\")                                                                                                                                   \n",
      "    network = Conv2DLayer(\n",
      "            network, num_filters=conv_num_filters, filter_size=(filter_size, filter_size),pad=pad_in,name = \"Conv2DLayer_1\")\n",
      "    \n",
      "    network = Conv2DLayer(\n",
      "            network, num_filters=conv_num_filters, filter_size=(filter_size, filter_size),pad=pad_in,name = \"Conv2DLayer_2\")\n",
      "                                                                                                                                        \n",
      "    network = MaxPool2DLayer(network, pool_size=(pool_size, pool_size),name = \"MaxPool2DLayer_3\")\n",
      "                                                                                                                                     \n",
      "    network = Conv2DLayer(\n",
      "            network, num_filters=2*conv_num_filters, filter_size=(filter_size, filter_size),pad=pad_in,name = \"Conv2DLayer_4\")\n",
      "\n",
      "    network = MaxPool2DLayer(network, pool_size=(pool_size, pool_size),name = \"MaxPool2DLayer_5\")\n",
      "\n",
      "    network = ReshapeLayer(network, shape=(([0], -1)),name = \"ReshapeLayer_6\")\n",
      "    \n",
      "    network = DenseLayer(network,num_units=dense_mid_size,name = \"dense_mid_7\")\n",
      "    \n",
      "    network = DenseLayer(network,num_units=encode_size,name = \"encode\")\n",
      "    \n",
      "    network = DenseLayer(network,num_units=dense_mid_size,name = \"dense_mid_9\")\n",
      "    \n",
      "    network = DenseLayer(network,num_units=800,name = \"dense_mid_10\")\n",
      "    \n",
      "    network = ReshapeLayer(network, shape = (([0], 2*conv_num_filters, 5, 5)),name = \"ReshapeLayer_11\")\n",
      "    \n",
      "    network = Upscale2DLayer(network, scale_factor=(pool_size, pool_size),name = \"Upscale2DLayer_12\")\n",
      "    \n",
      "    network = Conv2DLayer(\n",
      "            network, num_filters=2*conv_num_filters, filter_size=(filter_size, filter_size),pad=pad_out,name = \"Conv2DLayer_13\")\n",
      "    \n",
      "    network = Upscale2DLayer(network, scale_factor=(pool_size, pool_size),name = \"Upscale2DLayer_14\")\n",
      "    \n",
      "    network = Conv2DLayer(\n",
      "            network, num_filters=conv_num_filters, filter_size=(filter_size, filter_size),pad=pad_out,name = \"Conv2DLayer_15\")\n",
      "    \n",
      "    network = Conv2DLayer(\n",
      "            network, num_filters=1, filter_size=(filter_size, filter_size),pad=pad_out, name = \"Conv2DLayer_16\")\n",
      "    \n",
      "    network = ReshapeLayer(network, shape=(([0], -1)),name = \"ReshapeLayer_17\")\n",
      "\n",
      "    return network\n"
     ],
     "language": "python",
     "metadata": {},
     "outputs": [],
     "prompt_number": 4
    },
    {
     "cell_type": "code",
     "collapsed": false,
     "input": [
      "def iterate_minibatches(inputs, targets, batchsize, shuffle=False):\n",
      "    assert len(inputs) == len(targets)\n",
      "    if shuffle:\n",
      "        indices = np.arange(len(inputs))\n",
      "        np.random.shuffle(indices)\n",
      "    for start_idx in range(0, len(inputs) - batchsize + 1, batchsize):\n",
      "        if shuffle:\n",
      "            excerpt = indices[start_idx:start_idx + batchsize]\n",
      "        else:\n",
      "            excerpt = slice(start_idx, start_idx + batchsize)\n",
      "        yield inputs[excerpt], targets[excerpt]\n",
      "\n",
      "def iterator(X, batchsize):\n",
      "    indices = np.arange(len(X))\n",
      "    for i in range(0, len(X) - batchsize + 1, batchsize):\n",
      "        sli = indices[i:i+batchsize]\n",
      "        yield X[sli]"
     ],
     "language": "python",
     "metadata": {},
     "outputs": [],
     "prompt_number": 5
    },
    {
     "cell_type": "code",
     "collapsed": false,
     "input": [
      "def save_params(model, fn):\n",
      "    with open(fn, 'w') as wr:\n",
      "        pickle.dump(lasagne.layers.get_all_param_values(model), wr)"
     ],
     "language": "python",
     "metadata": {},
     "outputs": [],
     "prompt_number": 6
    },
    {
     "cell_type": "code",
     "collapsed": false,
     "input": [
      "def main(model='cnn', num_epochs=500):\n",
      "    # Load the dataset                                                                                                                                                                                      \n",
      "    print(\"Loading data...\")\n",
      "    X_train, y_train, X_val, y_val, X_test, y_test = load_dataset()\n",
      "\n",
      "    # Prepare Theano variables for inputs and targets                                                                                                                                                       \n",
      "    input_var = T.tensor4('inputs')\n",
      "    #target_var = T.ivector('targets')\n",
      "\n",
      "    # Create neural network model (depending on first command line parameter)                                                                                                                               \n",
      "    print(\"Building model and compiling functions...\")\n",
      "\n",
      "    network = build_cnn(input_var)\n",
      "    laylist = lasagne.layers.get_all_layers(network)\n",
      "    \n",
      "    for l in laylist:\n",
      "        print l.name, lasagne.layers.get_output_shape(l)\n",
      "        \n",
      "    # Create a loss expression for training, i.e., a scalar objective we want                                                                                                                               \n",
      "    # to minimize (for our multi-class problem, it is the cross-entropy loss):                                                                                                                              \n",
      "    prediction = lasagne.layers.get_output(network)\n",
      "    loss = lasagne.objectives.squared_error(prediction, input_var.flatten(2))\n",
      "    loss = loss.mean()\n",
      "    # We could add some weight decay as well here, see lasagne.regularization.                                                                                                                              \n",
      "\n",
      "    # Create update expressions for training, i.e., how to modify the                                                                                                                                       \n",
      "    # parameters at each training step. Here, we'll use Stochastic Gradient                                                                                                                                 \n",
      "    # Descent (SGD) with Nesterov momentum, but Lasagne offers plenty more.                                                                                                                                 \n",
      "    params = lasagne.layers.get_all_params(network, trainable=True)\n",
      "    updates = lasagne.updates.nesterov_momentum(\n",
      "            loss, params, learning_rate=0.01, momentum=0.9)\n",
      "\n",
      "    # Create a loss expression for validation/testing. The crucial difference                                                                                                                               \n",
      "    # here is that we do a deterministic forward pass through the network,                                                                                                                                  \n",
      "    # disabling dropout layers.                                                                                                                                                                             \n",
      "    test_prediction = lasagne.layers.get_output(network, deterministic=True)\n",
      "    test_loss = lasagne.objectives.squared_error(test_prediction,\n",
      "                                                            input_var.flatten(2))\n",
      "    test_loss = test_loss.mean()\n",
      "    # As a bonus, also create an expression for the classification accuracy:                                                                                                                                \n",
      "    #test_acc = T.mean(T.eq(T.argmax(test_prediction, axis=1), input_var.flatten(2)),dtype=theano.config.floatX)\n",
      "\n",
      "    # Compile a function performing a training step on a mini-batch (by giving                                                                                                                              \n",
      "    # the updates dictionary) and returning the corresponding training loss:                                                                                                                                \n",
      "    #train_fn = theano.function([input_var, target_var], loss, updates=updates)\n",
      "    train_fn = theano.function([input_var], loss, updates=updates)\n",
      "    #out_fn = theano.function([input_var],prediction)\n",
      "    #loss_fn = theano.function([input_var],loss)\n",
      "    # Compile a second function computing the validation loss and accuracy:                                                                                                                                 \n",
      "    #val_fn = theano.function([input_var, target_var], [test_loss, test_acc])\n",
      "    val_fn = theano.function([input_var], test_loss)\n",
      "    # Finally, launch the training loop.                                                                                                                                                                    \n",
      "    print(\"Starting training...\")\n",
      "    # We iterate over epochs:                                                                                                                                                                               \n",
      "    for epoch in range(num_epochs):\n",
      "        # In each epoch, we do a full pass over the training data:                                                                                                                                          \n",
      "        train_err = 0\n",
      "        train_batches = 0\n",
      "        start_time = time.time()\n",
      "            \n",
      "        for batch in iterator(X_train, 500):\n",
      "            train_err += train_fn(batch)\n",
      "            train_batches += 1\n",
      "\n",
      "        \n",
      "        # And a full pass over the validation data:                                                                                                                                                         \n",
      "        val_err = 0\n",
      "        val_acc = 0\n",
      "        val_batches = 0\n",
      "        \n",
      "        for batch in iterator(X_val, 500):\n",
      "            err = val_fn(batch)\n",
      "            val_err += err\n",
      "            val_batches += 1\n",
      "\n",
      "        # Then we print the results for this epoch:                                                                                                                                                         \n",
      "        print(\"Epoch {} of {} took {:.3f}s\".format(epoch + 1, num_epochs, time.time() - start_time))\n",
      "        print(\"  training loss:\\t\\t{:.6f}\".format(train_err / train_batches))\n",
      "        print(\"  validation loss:\\t\\t{:.6f}\".format(val_err / val_batches))\n",
      "        \n",
      "    # After training, we compute and print the test error:                                                                                                                                                  \n",
      "    test_err = 0\n",
      "    test_acc = 0\n",
      "    test_batches = 0\n",
      "    for batch in iterator(X_test,500):\n",
      "        err = val_fn(batch)\n",
      "        test_err += err\n",
      "        test_batches += 1\n",
      "        \n",
      "    print(\"Final results:\")\n",
      "    print(\"  test loss:\\t\\t\\t{:.6f}\".format(test_err / test_batches))\n",
      "    \n",
      "    # Optionally, you could now dump the network weights to a file like this:                                                                                                                               \n",
      "    np.savez('model.npz', *lasagne.layers.get_all_param_values(network))                                                                                                                                  \n",
      "    #                                                                                                                                                                                                       \n",
      "    # And load them again later on like this:                                                                                                                                                               \n",
      "    # with np.load('model.npz') as f:                                                                                                                                                                       \n",
      "    #     param_values = [f['arr_%d' % i] for i in range(len(f.files))]                                                                                                                                     \n",
      "    # lasagne.layers.set_all_param_values(network, param_values)  \n"
     ],
     "language": "python",
     "metadata": {},
     "outputs": [],
     "prompt_number": 61
    },
    {
     "cell_type": "code",
     "collapsed": false,
     "input": [
      "main()"
     ],
     "language": "python",
     "metadata": {},
     "outputs": [
      {
       "output_type": "stream",
       "stream": "stdout",
       "text": [
        "Loading data...\n",
        "Building model and compiling functions..."
       ]
      },
      {
       "output_type": "stream",
       "stream": "stdout",
       "text": [
        "\n",
        "InputLayer_0 (None, 1, 28, 28)\n",
        "Conv2DLayer_1 (None, 16, 26, 26)\n",
        "Conv2DLayer_2 (None, 16, 24, 24)\n",
        "MaxPool2DLayer_3 (None, 16, 12, 12)\n",
        "Conv2DLayer_4 (None, 32, 10, 10)\n",
        "MaxPool2DLayer_5 (None, 32, 5, 5)\n",
        "ReshapeLayer_6 (None, 800)\n",
        "dense_mid_7 (None, 128)\n",
        "encode (None, 16)\n",
        "dense_mid_9 (None, 128)\n",
        "dense_mid_10 (None, 800)\n",
        "ReshapeLayer_11 (None, 32, 5, 5)\n",
        "Upscale2DLayer_12 (None, 32, 10, 10)\n",
        "Conv2DLayer_13 (None, 32, 12, 12)\n",
        "Upscale2DLayer_14 (None, 32, 24, 24)\n",
        "Conv2DLayer_15 (None, 16, 26, 26)\n",
        "Conv2DLayer_16 (None, 1, 28, 28)\n",
        "ReshapeLayer_17 (None, 784)\n",
        "Starting training..."
       ]
      },
      {
       "output_type": "stream",
       "stream": "stdout",
       "text": [
        "\n",
        "Epoch 1 of 500 took 13.770s"
       ]
      },
      {
       "output_type": "stream",
       "stream": "stdout",
       "text": [
        "\n",
        "  training loss:\t\t0.090297\n",
        "  validation loss:\t\t0.083305\n",
        "Epoch 2 of 500 took 13.762s"
       ]
      },
      {
       "output_type": "stream",
       "stream": "stdout",
       "text": [
        "\n",
        "  training loss:\t\t0.077331\n",
        "  validation loss:\t\t0.068039\n",
        "Epoch 3 of 500 took 13.760s"
       ]
      },
      {
       "output_type": "stream",
       "stream": "stdout",
       "text": [
        "\n",
        "  training loss:\t\t0.065797\n",
        "  validation loss:\t\t0.063444\n",
        "Epoch 4 of 500 took 13.755s"
       ]
      },
      {
       "output_type": "stream",
       "stream": "stdout",
       "text": [
        "\n",
        "  training loss:\t\t0.062487\n",
        "  validation loss:\t\t0.060812\n",
        "Epoch 5 of 500 took 13.759s"
       ]
      },
      {
       "output_type": "stream",
       "stream": "stdout",
       "text": [
        "\n",
        "  training loss:\t\t0.059824\n",
        "  validation loss:\t\t0.058034\n",
        "Epoch 6 of 500 took 13.755s"
       ]
      },
      {
       "output_type": "stream",
       "stream": "stdout",
       "text": [
        "\n",
        "  training loss:\t\t0.056448\n",
        "  validation loss:\t\t0.054374\n",
        "Epoch 7 of 500 took 13.763s"
       ]
      },
      {
       "output_type": "stream",
       "stream": "stdout",
       "text": [
        "\n",
        "  training loss:\t\t0.052702\n",
        "  validation loss:\t\t0.050988\n",
        "Epoch 8 of 500 took 13.766s"
       ]
      },
      {
       "output_type": "stream",
       "stream": "stdout",
       "text": [
        "\n",
        "  training loss:\t\t0.049523\n",
        "  validation loss:\t\t0.048128\n",
        "Epoch 9 of 500 took 13.773s"
       ]
      },
      {
       "output_type": "stream",
       "stream": "stdout",
       "text": [
        "\n",
        "  training loss:\t\t0.046738\n",
        "  validation loss:\t\t0.045436\n",
        "Epoch 10 of 500 took 13.767s"
       ]
      },
      {
       "output_type": "stream",
       "stream": "stdout",
       "text": [
        "\n",
        "  training loss:\t\t0.044179\n",
        "  validation loss:\t\t0.043042\n",
        "Epoch 11 of 500 took 13.765s"
       ]
      },
      {
       "output_type": "stream",
       "stream": "stdout",
       "text": [
        "\n",
        "  training loss:\t\t0.041997\n",
        "  validation loss:\t\t0.041086\n",
        "Epoch 12 of 500 took 13.767s"
       ]
      },
      {
       "output_type": "stream",
       "stream": "stdout",
       "text": [
        "\n",
        "  training loss:\t\t0.040213\n",
        "  validation loss:\t\t0.039475\n",
        "Epoch 13 of 500 took 13.765s"
       ]
      },
      {
       "output_type": "stream",
       "stream": "stdout",
       "text": [
        "\n",
        "  training loss:\t\t0.038705\n",
        "  validation loss:\t\t0.038060\n",
        "Epoch 14 of 500 took 13.749s"
       ]
      },
      {
       "output_type": "stream",
       "stream": "stdout",
       "text": [
        "\n",
        "  training loss:\t\t0.037359\n",
        "  validation loss:\t\t0.036769\n",
        "Epoch 15 of 500 took 13.748s"
       ]
      },
      {
       "output_type": "stream",
       "stream": "stdout",
       "text": [
        "\n",
        "  training loss:\t\t0.036136\n",
        "  validation loss:\t\t0.035609\n",
        "Epoch 16 of 500 took 13.779s"
       ]
      },
      {
       "output_type": "stream",
       "stream": "stdout",
       "text": [
        "\n",
        "  training loss:\t\t0.035054\n",
        "  validation loss:\t\t0.034603\n",
        "Epoch 17 of 500 took 13.867s"
       ]
      },
      {
       "output_type": "stream",
       "stream": "stdout",
       "text": [
        "\n",
        "  training loss:\t\t0.034122\n",
        "  validation loss:\t\t0.033736\n",
        "Epoch 18 of 500 took 13.769s"
       ]
      },
      {
       "output_type": "stream",
       "stream": "stdout",
       "text": [
        "\n",
        "  training loss:\t\t0.033308\n",
        "  validation loss:\t\t0.032970\n",
        "Epoch 19 of 500 took 13.747s"
       ]
      },
      {
       "output_type": "stream",
       "stream": "stdout",
       "text": [
        "\n",
        "  training loss:\t\t0.032580\n",
        "  validation loss:\t\t0.032280\n",
        "Epoch 20 of 500 took 13.751s"
       ]
      },
      {
       "output_type": "stream",
       "stream": "stdout",
       "text": [
        "\n",
        "  training loss:\t\t0.031928\n",
        "  validation loss:\t\t0.031662\n",
        "Epoch 21 of 500 took 13.751s"
       ]
      },
      {
       "output_type": "stream",
       "stream": "stdout",
       "text": [
        "\n",
        "  training loss:\t\t0.031347\n",
        "  validation loss:\t\t0.031112\n",
        "Epoch 22 of 500 took 13.749s"
       ]
      },
      {
       "output_type": "stream",
       "stream": "stdout",
       "text": [
        "\n",
        "  training loss:\t\t0.030830\n",
        "  validation loss:\t\t0.030623\n",
        "Epoch 23 of 500 took 13.748s"
       ]
      },
      {
       "output_type": "stream",
       "stream": "stdout",
       "text": [
        "\n",
        "  training loss:\t\t0.030372\n",
        "  validation loss:\t\t0.030190\n",
        "Epoch 24 of 500 took 13.750s"
       ]
      },
      {
       "output_type": "stream",
       "stream": "stdout",
       "text": [
        "\n",
        "  training loss:\t\t0.029963\n",
        "  validation loss:\t\t0.029798\n",
        "Epoch 25 of 500 took 13.765s"
       ]
      },
      {
       "output_type": "stream",
       "stream": "stdout",
       "text": [
        "\n",
        "  training loss:\t\t0.029594\n",
        "  validation loss:\t\t0.029443\n",
        "Epoch 26 of 500 took 13.764s"
       ]
      },
      {
       "output_type": "stream",
       "stream": "stdout",
       "text": [
        "\n",
        "  training loss:\t\t0.029258\n",
        "  validation loss:\t\t0.029117\n",
        "Epoch 27 of 500 took 13.762s"
       ]
      },
      {
       "output_type": "stream",
       "stream": "stdout",
       "text": [
        "\n",
        "  training loss:\t\t0.028949\n",
        "  validation loss:\t\t0.028815\n",
        "Epoch 28 of 500 took 13.764s"
       ]
      },
      {
       "output_type": "stream",
       "stream": "stdout",
       "text": [
        "\n",
        "  training loss:\t\t0.028667\n",
        "  validation loss:\t\t0.028535\n",
        "Epoch 29 of 500 took 13.773s"
       ]
      },
      {
       "output_type": "stream",
       "stream": "stdout",
       "text": [
        "\n",
        "  training loss:\t\t0.028419\n",
        "  validation loss:\t\t0.028275\n",
        "Epoch 30 of 500 took 13.766s"
       ]
      },
      {
       "output_type": "stream",
       "stream": "stdout",
       "text": [
        "\n",
        "  training loss:\t\t0.028215\n",
        "  validation loss:\t\t0.028030\n",
        "Epoch 31 of 500 took 13.767s"
       ]
      },
      {
       "output_type": "stream",
       "stream": "stdout",
       "text": [
        "\n",
        "  training loss:\t\t0.028041\n",
        "  validation loss:\t\t0.027799\n",
        "Epoch 32 of 500 took 13.751s"
       ]
      },
      {
       "output_type": "stream",
       "stream": "stdout",
       "text": [
        "\n",
        "  training loss:\t\t0.027863\n",
        "  validation loss:\t\t0.027581\n",
        "Epoch 33 of 500 took 13.748s"
       ]
      },
      {
       "output_type": "stream",
       "stream": "stdout",
       "text": [
        "\n",
        "  training loss:\t\t0.027673\n",
        "  validation loss:\t\t0.027372\n",
        "Epoch 34 of 500 took 13.756s"
       ]
      },
      {
       "output_type": "stream",
       "stream": "stdout",
       "text": [
        "\n",
        "  training loss:\t\t0.027488\n",
        "  validation loss:\t\t0.027173\n",
        "Epoch 35 of 500 took 13.762s"
       ]
      },
      {
       "output_type": "stream",
       "stream": "stdout",
       "text": [
        "\n",
        "  training loss:\t\t0.027313\n",
        "  validation loss:\t\t0.026981\n",
        "Epoch 36 of 500 took 13.758s"
       ]
      },
      {
       "output_type": "stream",
       "stream": "stdout",
       "text": [
        "\n",
        "  training loss:\t\t0.027130\n",
        "  validation loss:\t\t0.026800\n",
        "Epoch 37 of 500 took 13.755s"
       ]
      },
      {
       "output_type": "stream",
       "stream": "stdout",
       "text": [
        "\n",
        "  training loss:\t\t0.026958\n",
        "  validation loss:\t\t0.026626\n",
        "Epoch 38 of 500 took 13.769s"
       ]
      },
      {
       "output_type": "stream",
       "stream": "stdout",
       "text": [
        "\n",
        "  training loss:\t\t0.026794\n",
        "  validation loss:\t\t0.026453\n",
        "Epoch 39 of 500 took 13.749s"
       ]
      },
      {
       "output_type": "stream",
       "stream": "stdout",
       "text": [
        "\n",
        "  training loss:\t\t0.026632\n",
        "  validation loss:\t\t0.026284\n",
        "Epoch 40 of 500 took 13.755s"
       ]
      },
      {
       "output_type": "stream",
       "stream": "stdout",
       "text": [
        "\n",
        "  training loss:\t\t0.026477\n",
        "  validation loss:\t\t0.026124\n",
        "Epoch 41 of 500 took 13.758s"
       ]
      },
      {
       "output_type": "stream",
       "stream": "stdout",
       "text": [
        "\n",
        "  training loss:\t\t0.026328\n",
        "  validation loss:\t\t0.025974\n",
        "Epoch 42 of 500 took 13.752s"
       ]
      },
      {
       "output_type": "stream",
       "stream": "stdout",
       "text": [
        "\n",
        "  training loss:\t\t0.026181\n",
        "  validation loss:\t\t0.025827\n",
        "Epoch 43 of 500 took 13.755s"
       ]
      },
      {
       "output_type": "stream",
       "stream": "stdout",
       "text": [
        "\n",
        "  training loss:\t\t0.026038\n",
        "  validation loss:\t\t0.025684\n",
        "Epoch 44 of 500 took 13.749s"
       ]
      },
      {
       "output_type": "stream",
       "stream": "stdout",
       "text": [
        "\n",
        "  training loss:\t\t0.025901\n",
        "  validation loss:\t\t0.025543\n",
        "Epoch 45 of 500 took 13.774s"
       ]
      },
      {
       "output_type": "stream",
       "stream": "stdout",
       "text": [
        "\n",
        "  training loss:\t\t0.025760\n",
        "  validation loss:\t\t0.025408\n",
        "Epoch 46 of 500 took 13.754s"
       ]
      },
      {
       "output_type": "stream",
       "stream": "stdout",
       "text": [
        "\n",
        "  training loss:\t\t0.025623\n",
        "  validation loss:\t\t0.025273\n",
        "Epoch 47 of 500 took 13.760s"
       ]
      },
      {
       "output_type": "stream",
       "stream": "stdout",
       "text": [
        "\n",
        "  training loss:\t\t0.025492\n",
        "  validation loss:\t\t0.025141\n",
        "Epoch 48 of 500 took 13.750s"
       ]
      },
      {
       "output_type": "stream",
       "stream": "stdout",
       "text": [
        "\n",
        "  training loss:\t\t0.025355\n",
        "  validation loss:\t\t0.025012\n",
        "Epoch 49 of 500 took 13.765s"
       ]
      },
      {
       "output_type": "stream",
       "stream": "stdout",
       "text": [
        "\n",
        "  training loss:\t\t0.025233\n",
        "  validation loss:\t\t0.024886\n",
        "Epoch 50 of 500 took 13.755s"
       ]
      },
      {
       "output_type": "stream",
       "stream": "stdout",
       "text": [
        "\n",
        "  training loss:\t\t0.025107\n",
        "  validation loss:\t\t0.024763\n",
        "Epoch 51 of 500 took 13.758s"
       ]
      },
      {
       "output_type": "stream",
       "stream": "stdout",
       "text": [
        "\n",
        "  training loss:\t\t0.024980\n",
        "  validation loss:\t\t0.024644\n",
        "Epoch 52 of 500 took 13.748s"
       ]
      },
      {
       "output_type": "stream",
       "stream": "stdout",
       "text": [
        "\n",
        "  training loss:\t\t0.024865\n",
        "  validation loss:\t\t0.024527\n",
        "Epoch 53 of 500 took 13.768s"
       ]
      },
      {
       "output_type": "stream",
       "stream": "stdout",
       "text": [
        "\n",
        "  training loss:\t\t0.024744\n",
        "  validation loss:\t\t0.024411\n",
        "Epoch 54 of 500 took 13.769s"
       ]
      },
      {
       "output_type": "stream",
       "stream": "stdout",
       "text": [
        "\n",
        "  training loss:\t\t0.024632\n",
        "  validation loss:\t\t0.024299\n",
        "Epoch 55 of 500 took 13.758s"
       ]
      },
      {
       "output_type": "stream",
       "stream": "stdout",
       "text": [
        "\n",
        "  training loss:\t\t0.024524\n",
        "  validation loss:\t\t0.024188\n",
        "Epoch 56 of 500 took 13.774s"
       ]
      },
      {
       "output_type": "stream",
       "stream": "stdout",
       "text": [
        "\n",
        "  training loss:\t\t0.024409\n",
        "  validation loss:\t\t0.024080\n",
        "Epoch 57 of 500 took 13.771s"
       ]
      },
      {
       "output_type": "stream",
       "stream": "stdout",
       "text": [
        "\n",
        "  training loss:\t\t0.024302\n",
        "  validation loss:\t\t0.023973\n",
        "Epoch 58 of 500 took 13.768s"
       ]
      },
      {
       "output_type": "stream",
       "stream": "stdout",
       "text": [
        "\n",
        "  training loss:\t\t0.024195\n",
        "  validation loss:\t\t0.023867\n",
        "Epoch 59 of 500 took 13.763s"
       ]
      },
      {
       "output_type": "stream",
       "stream": "stdout",
       "text": [
        "\n",
        "  training loss:\t\t0.024088\n",
        "  validation loss:\t\t0.023765\n",
        "Epoch 60 of 500 took 13.770s"
       ]
      },
      {
       "output_type": "stream",
       "stream": "stdout",
       "text": [
        "\n",
        "  training loss:\t\t0.023981\n",
        "  validation loss:\t\t0.023666\n",
        "Epoch 61 of 500 took 13.761s"
       ]
      },
      {
       "output_type": "stream",
       "stream": "stdout",
       "text": [
        "\n",
        "  training loss:\t\t0.023880\n",
        "  validation loss:\t\t0.023568\n",
        "Epoch 62 of 500 took 13.754s"
       ]
      },
      {
       "output_type": "stream",
       "stream": "stdout",
       "text": [
        "\n",
        "  training loss:\t\t0.023780\n",
        "  validation loss:\t\t0.023474\n",
        "Epoch 63 of 500 took 13.752s"
       ]
      },
      {
       "output_type": "stream",
       "stream": "stdout",
       "text": [
        "\n",
        "  training loss:\t\t0.023686\n",
        "  validation loss:\t\t0.023380\n",
        "Epoch 64 of 500 took 13.755s"
       ]
      },
      {
       "output_type": "stream",
       "stream": "stdout",
       "text": [
        "\n",
        "  training loss:\t\t0.023595\n",
        "  validation loss:\t\t0.023288\n",
        "Epoch 65 of 500 took 13.773s"
       ]
      },
      {
       "output_type": "stream",
       "stream": "stdout",
       "text": [
        "\n",
        "  training loss:\t\t0.023508\n",
        "  validation loss:\t\t0.023199\n",
        "Epoch 66 of 500 took 13.752s"
       ]
      },
      {
       "output_type": "stream",
       "stream": "stdout",
       "text": [
        "\n",
        "  training loss:\t\t0.023418\n",
        "  validation loss:\t\t0.023112\n",
        "Epoch 67 of 500 took 13.766s"
       ]
      },
      {
       "output_type": "stream",
       "stream": "stdout",
       "text": [
        "\n",
        "  training loss:\t\t0.023326\n",
        "  validation loss:\t\t0.023025\n",
        "Epoch 68 of 500 took 13.764s"
       ]
      },
      {
       "output_type": "stream",
       "stream": "stdout",
       "text": [
        "\n",
        "  training loss:\t\t0.023253\n",
        "  validation loss:\t\t0.022940\n",
        "Epoch 69 of 500 took 13.759s"
       ]
      },
      {
       "output_type": "stream",
       "stream": "stdout",
       "text": [
        "\n",
        "  training loss:\t\t0.023159\n",
        "  validation loss:\t\t0.022858\n",
        "Epoch 70 of 500 took 13.765s"
       ]
      },
      {
       "output_type": "stream",
       "stream": "stdout",
       "text": [
        "\n",
        "  training loss:\t\t0.023077\n",
        "  validation loss:\t\t0.022776\n",
        "Epoch 71 of 500 took 13.760s"
       ]
      },
      {
       "output_type": "stream",
       "stream": "stdout",
       "text": [
        "\n",
        "  training loss:\t\t0.022995\n",
        "  validation loss:\t\t0.022697\n",
        "Epoch 72 of 500 took 13.759s"
       ]
      },
      {
       "output_type": "stream",
       "stream": "stdout",
       "text": [
        "\n",
        "  training loss:\t\t0.022922\n",
        "  validation loss:\t\t0.022620\n",
        "Epoch 73 of 500 took 13.833s"
       ]
      },
      {
       "output_type": "stream",
       "stream": "stdout",
       "text": [
        "\n",
        "  training loss:\t\t0.022840\n",
        "  validation loss:\t\t0.022544\n",
        "Epoch 74 of 500 took 13.774s"
       ]
      },
      {
       "output_type": "stream",
       "stream": "stdout",
       "text": [
        "\n",
        "  training loss:\t\t0.022762\n",
        "  validation loss:\t\t0.022470\n",
        "Epoch 75 of 500 took 13.773s"
       ]
      },
      {
       "output_type": "stream",
       "stream": "stdout",
       "text": [
        "\n",
        "  training loss:\t\t0.022682\n",
        "  validation loss:\t\t0.022397\n",
        "Epoch 76 of 500 took 13.749s"
       ]
      },
      {
       "output_type": "stream",
       "stream": "stdout",
       "text": [
        "\n",
        "  training loss:\t\t0.022618\n",
        "  validation loss:\t\t0.022326\n",
        "Epoch 77 of 500 took 13.754s"
       ]
      },
      {
       "output_type": "stream",
       "stream": "stdout",
       "text": [
        "\n",
        "  training loss:\t\t0.022542\n",
        "  validation loss:\t\t0.022257\n",
        "Epoch 78 of 500 took 13.795s"
       ]
      },
      {
       "output_type": "stream",
       "stream": "stdout",
       "text": [
        "\n",
        "  training loss:\t\t0.022470\n",
        "  validation loss:\t\t0.022188\n",
        "Epoch 79 of 500 took 13.758s"
       ]
      },
      {
       "output_type": "stream",
       "stream": "stdout",
       "text": [
        "\n",
        "  training loss:\t\t0.022399\n",
        "  validation loss:\t\t0.022119\n",
        "Epoch 80 of 500 took 13.751s"
       ]
      },
      {
       "output_type": "stream",
       "stream": "stdout",
       "text": [
        "\n",
        "  training loss:\t\t0.022336\n",
        "  validation loss:\t\t0.022053\n",
        "Epoch 81 of 500 took 13.756s"
       ]
      },
      {
       "output_type": "stream",
       "stream": "stdout",
       "text": [
        "\n",
        "  training loss:\t\t0.022275\n",
        "  validation loss:\t\t0.021988\n",
        "Epoch 82 of 500 took 13.762s"
       ]
      },
      {
       "output_type": "stream",
       "stream": "stdout",
       "text": [
        "\n",
        "  training loss:\t\t0.022198\n",
        "  validation loss:\t\t0.021924\n",
        "Epoch 83 of 500 took 13.753s"
       ]
      },
      {
       "output_type": "stream",
       "stream": "stdout",
       "text": [
        "\n",
        "  training loss:\t\t0.022134\n",
        "  validation loss:\t\t0.021862\n",
        "Epoch 84 of 500 took 13.754s"
       ]
      },
      {
       "output_type": "stream",
       "stream": "stdout",
       "text": [
        "\n",
        "  training loss:\t\t0.022069\n",
        "  validation loss:\t\t0.021800\n",
        "Epoch 85 of 500 took 13.765s"
       ]
      },
      {
       "output_type": "stream",
       "stream": "stdout",
       "text": [
        "\n",
        "  training loss:\t\t0.022003\n",
        "  validation loss:\t\t0.021739\n",
        "Epoch 86 of 500 took 13.769s"
       ]
      },
      {
       "output_type": "stream",
       "stream": "stdout",
       "text": [
        "\n",
        "  training loss:\t\t0.021941\n",
        "  validation loss:\t\t0.021681\n",
        "Epoch 87 of 500 took 13.768s"
       ]
      },
      {
       "output_type": "stream",
       "stream": "stdout",
       "text": [
        "\n",
        "  training loss:\t\t0.021879\n",
        "  validation loss:\t\t0.021623\n",
        "Epoch 88 of 500 took 13.757s"
       ]
      },
      {
       "output_type": "stream",
       "stream": "stdout",
       "text": [
        "\n",
        "  training loss:\t\t0.021819\n",
        "  validation loss:\t\t0.021565\n",
        "Epoch 89 of 500 took 13.755s"
       ]
      },
      {
       "output_type": "stream",
       "stream": "stdout",
       "text": [
        "\n",
        "  training loss:\t\t0.021761\n",
        "  validation loss:\t\t0.021508\n",
        "Epoch 90 of 500 took 13.762s"
       ]
      },
      {
       "output_type": "stream",
       "stream": "stdout",
       "text": [
        "\n",
        "  training loss:\t\t0.021705\n",
        "  validation loss:\t\t0.021452\n",
        "Epoch 91 of 500 took 13.762s"
       ]
      },
      {
       "output_type": "stream",
       "stream": "stdout",
       "text": [
        "\n",
        "  training loss:\t\t0.021651\n",
        "  validation loss:\t\t0.021399\n",
        "Epoch 92 of 500 took 13.754s"
       ]
      },
      {
       "output_type": "stream",
       "stream": "stdout",
       "text": [
        "\n",
        "  training loss:\t\t0.021592\n",
        "  validation loss:\t\t0.021344\n",
        "Epoch 93 of 500 took 13.764s"
       ]
      },
      {
       "output_type": "stream",
       "stream": "stdout",
       "text": [
        "\n",
        "  training loss:\t\t0.021537\n",
        "  validation loss:\t\t0.021290\n",
        "Epoch 94 of 500 took 13.768s"
       ]
      },
      {
       "output_type": "stream",
       "stream": "stdout",
       "text": [
        "\n",
        "  training loss:\t\t0.021483\n",
        "  validation loss:\t\t0.021239\n",
        "Epoch 95 of 500 took 13.769s"
       ]
      },
      {
       "output_type": "stream",
       "stream": "stdout",
       "text": [
        "\n",
        "  training loss:\t\t0.021430\n",
        "  validation loss:\t\t0.021187\n",
        "Epoch 96 of 500 took 13.766s"
       ]
      },
      {
       "output_type": "stream",
       "stream": "stdout",
       "text": [
        "\n",
        "  training loss:\t\t0.021376\n",
        "  validation loss:\t\t0.021137\n",
        "Epoch 97 of 500 took 13.776s"
       ]
      },
      {
       "output_type": "stream",
       "stream": "stdout",
       "text": [
        "\n",
        "  training loss:\t\t0.021325\n",
        "  validation loss:\t\t0.021088\n",
        "Epoch 98 of 500 took 13.763s"
       ]
      },
      {
       "output_type": "stream",
       "stream": "stdout",
       "text": [
        "\n",
        "  training loss:\t\t0.021274\n",
        "  validation loss:\t\t0.021039\n",
        "Epoch 99 of 500 took 13.764s"
       ]
      },
      {
       "output_type": "stream",
       "stream": "stdout",
       "text": [
        "\n",
        "  training loss:\t\t0.021224\n",
        "  validation loss:\t\t0.020991\n",
        "Epoch 100 of 500 took 13.825s"
       ]
      },
      {
       "output_type": "stream",
       "stream": "stdout",
       "text": [
        "\n",
        "  training loss:\t\t0.021177\n",
        "  validation loss:\t\t0.020944\n",
        "Epoch 101 of 500 took 13.800s"
       ]
      },
      {
       "output_type": "stream",
       "stream": "stdout",
       "text": [
        "\n",
        "  training loss:\t\t0.021128\n",
        "  validation loss:\t\t0.020899\n",
        "Epoch 102 of 500 took 13.763s"
       ]
      },
      {
       "output_type": "stream",
       "stream": "stdout",
       "text": [
        "\n",
        "  training loss:\t\t0.021081\n",
        "  validation loss:\t\t0.020853\n",
        "Epoch 103 of 500 took 13.759s"
       ]
      },
      {
       "output_type": "stream",
       "stream": "stdout",
       "text": [
        "\n",
        "  training loss:\t\t0.021035\n",
        "  validation loss:\t\t0.020807\n",
        "Epoch 104 of 500 took 13.765s"
       ]
      },
      {
       "output_type": "stream",
       "stream": "stdout",
       "text": [
        "\n",
        "  training loss:\t\t0.020985\n",
        "  validation loss:\t\t0.020762\n",
        "Epoch 105 of 500 took 13.751s"
       ]
      },
      {
       "output_type": "stream",
       "stream": "stdout",
       "text": [
        "\n",
        "  training loss:\t\t0.020941\n",
        "  validation loss:\t\t0.020717\n",
        "Epoch 106 of 500 took 13.751s"
       ]
      },
      {
       "output_type": "stream",
       "stream": "stdout",
       "text": [
        "\n",
        "  training loss:\t\t0.020898\n",
        "  validation loss:\t\t0.020674\n",
        "Epoch 107 of 500 took 13.753s"
       ]
      },
      {
       "output_type": "stream",
       "stream": "stdout",
       "text": [
        "\n",
        "  training loss:\t\t0.020852\n",
        "  validation loss:\t\t0.020631\n",
        "Epoch 108 of 500 took 13.765s"
       ]
      },
      {
       "output_type": "stream",
       "stream": "stdout",
       "text": [
        "\n",
        "  training loss:\t\t0.020809\n",
        "  validation loss:\t\t0.020589\n",
        "Epoch 109 of 500 took 13.751s"
       ]
      },
      {
       "output_type": "stream",
       "stream": "stdout",
       "text": [
        "\n",
        "  training loss:\t\t0.020765\n",
        "  validation loss:\t\t0.020547\n",
        "Epoch 110 of 500 took 13.767s"
       ]
      },
      {
       "output_type": "stream",
       "stream": "stdout",
       "text": [
        "\n",
        "  training loss:\t\t0.020718\n",
        "  validation loss:\t\t0.020506\n",
        "Epoch 111 of 500 took 13.751s"
       ]
      },
      {
       "output_type": "stream",
       "stream": "stdout",
       "text": [
        "\n",
        "  training loss:\t\t0.020677\n",
        "  validation loss:\t\t0.020466\n",
        "Epoch 112 of 500 took 13.755s"
       ]
      },
      {
       "output_type": "stream",
       "stream": "stdout",
       "text": [
        "\n",
        "  training loss:\t\t0.020635\n",
        "  validation loss:\t\t0.020425\n",
        "Epoch 113 of 500 took 13.765s"
       ]
      },
      {
       "output_type": "stream",
       "stream": "stdout",
       "text": [
        "\n",
        "  training loss:\t\t0.020594\n",
        "  validation loss:\t\t0.020385\n",
        "Epoch 114 of 500 took 13.769s"
       ]
      },
      {
       "output_type": "stream",
       "stream": "stdout",
       "text": [
        "\n",
        "  training loss:\t\t0.020553\n",
        "  validation loss:\t\t0.020346\n",
        "Epoch 115 of 500 took 13.801s"
       ]
      },
      {
       "output_type": "stream",
       "stream": "stdout",
       "text": [
        "\n",
        "  training loss:\t\t0.020513\n",
        "  validation loss:\t\t0.020307\n",
        "Epoch 116 of 500 took 13.790s"
       ]
      },
      {
       "output_type": "stream",
       "stream": "stdout",
       "text": [
        "\n",
        "  training loss:\t\t0.020473\n",
        "  validation loss:\t\t0.020267\n",
        "Epoch 117 of 500 took 13.766s"
       ]
      },
      {
       "output_type": "stream",
       "stream": "stdout",
       "text": [
        "\n",
        "  training loss:\t\t0.020434\n",
        "  validation loss:\t\t0.020228\n",
        "Epoch 118 of 500 took 13.766s"
       ]
      },
      {
       "output_type": "stream",
       "stream": "stdout",
       "text": [
        "\n",
        "  training loss:\t\t0.020395\n",
        "  validation loss:\t\t0.020191\n",
        "Epoch 119 of 500 took 13.788s"
       ]
      },
      {
       "output_type": "stream",
       "stream": "stdout",
       "text": [
        "\n",
        "  training loss:\t\t0.020356\n",
        "  validation loss:\t\t0.020153\n",
        "Epoch 120 of 500 took 13.752s"
       ]
      },
      {
       "output_type": "stream",
       "stream": "stdout",
       "text": [
        "\n",
        "  training loss:\t\t0.020317\n",
        "  validation loss:\t\t0.020117\n",
        "Epoch 121 of 500 took 13.762s"
       ]
      },
      {
       "output_type": "stream",
       "stream": "stdout",
       "text": [
        "\n",
        "  training loss:\t\t0.020278\n",
        "  validation loss:\t\t0.020079\n",
        "Epoch 122 of 500 took 13.766s"
       ]
      },
      {
       "output_type": "stream",
       "stream": "stdout",
       "text": [
        "\n",
        "  training loss:\t\t0.020241\n",
        "  validation loss:\t\t0.020043\n",
        "Epoch 123 of 500 took 13.767s"
       ]
      },
      {
       "output_type": "stream",
       "stream": "stdout",
       "text": [
        "\n",
        "  training loss:\t\t0.020204\n",
        "  validation loss:\t\t0.020006\n",
        "Epoch 124 of 500 took 13.761s"
       ]
      },
      {
       "output_type": "stream",
       "stream": "stdout",
       "text": [
        "\n",
        "  training loss:\t\t0.020166\n",
        "  validation loss:\t\t0.019970\n",
        "Epoch 125 of 500 took 13.795s"
       ]
      },
      {
       "output_type": "stream",
       "stream": "stdout",
       "text": [
        "\n",
        "  training loss:\t\t0.020129\n",
        "  validation loss:\t\t0.019935\n",
        "Epoch 126 of 500 took 13.809s"
       ]
      },
      {
       "output_type": "stream",
       "stream": "stdout",
       "text": [
        "\n",
        "  training loss:\t\t0.020093\n",
        "  validation loss:\t\t0.019900\n",
        "Epoch 127 of 500 took 13.804s"
       ]
      },
      {
       "output_type": "stream",
       "stream": "stdout",
       "text": [
        "\n",
        "  training loss:\t\t0.020058\n",
        "  validation loss:\t\t0.019866\n",
        "Epoch 128 of 500 took 13.829s"
       ]
      },
      {
       "output_type": "stream",
       "stream": "stdout",
       "text": [
        "\n",
        "  training loss:\t\t0.020023\n",
        "  validation loss:\t\t0.019832\n",
        "Epoch 129 of 500 took 13.768s"
       ]
      },
      {
       "output_type": "stream",
       "stream": "stdout",
       "text": [
        "\n",
        "  training loss:\t\t0.019987\n",
        "  validation loss:\t\t0.019798\n",
        "Epoch 130 of 500 took 13.766s"
       ]
      },
      {
       "output_type": "stream",
       "stream": "stdout",
       "text": [
        "\n",
        "  training loss:\t\t0.019954\n",
        "  validation loss:\t\t0.019764\n",
        "Epoch 131 of 500 took 13.761s"
       ]
      },
      {
       "output_type": "stream",
       "stream": "stdout",
       "text": [
        "\n",
        "  training loss:\t\t0.019920\n",
        "  validation loss:\t\t0.019732\n",
        "Epoch 132 of 500 took 13.766s"
       ]
      },
      {
       "output_type": "stream",
       "stream": "stdout",
       "text": [
        "\n",
        "  training loss:\t\t0.019887\n",
        "  validation loss:\t\t0.019700\n",
        "Epoch 133 of 500 took 13.781s"
       ]
      },
      {
       "output_type": "stream",
       "stream": "stdout",
       "text": [
        "\n",
        "  training loss:\t\t0.019853\n",
        "  validation loss:\t\t0.019668\n",
        "Epoch 134 of 500 took 13.777s"
       ]
      },
      {
       "output_type": "stream",
       "stream": "stdout",
       "text": [
        "\n",
        "  training loss:\t\t0.019819\n",
        "  validation loss:\t\t0.019636\n",
        "Epoch 135 of 500 took 13.775s"
       ]
      },
      {
       "output_type": "stream",
       "stream": "stdout",
       "text": [
        "\n",
        "  training loss:\t\t0.019786\n",
        "  validation loss:\t\t0.019604\n",
        "Epoch 136 of 500 took 13.780s"
       ]
      },
      {
       "output_type": "stream",
       "stream": "stdout",
       "text": [
        "\n",
        "  training loss:\t\t0.019753\n",
        "  validation loss:\t\t0.019573\n",
        "Epoch 137 of 500 took 13.778s"
       ]
      },
      {
       "output_type": "stream",
       "stream": "stdout",
       "text": [
        "\n",
        "  training loss:\t\t0.019719\n",
        "  validation loss:\t\t0.019541\n",
        "Epoch 138 of 500 took 13.783s"
       ]
      },
      {
       "output_type": "stream",
       "stream": "stdout",
       "text": [
        "\n",
        "  training loss:\t\t0.019690\n",
        "  validation loss:\t\t0.019510\n",
        "Epoch 139 of 500 took 13.779s"
       ]
      },
      {
       "output_type": "stream",
       "stream": "stdout",
       "text": [
        "\n",
        "  training loss:\t\t0.019658\n",
        "  validation loss:\t\t0.019480\n",
        "Epoch 140 of 500 took 13.779s"
       ]
      },
      {
       "output_type": "stream",
       "stream": "stdout",
       "text": [
        "\n",
        "  training loss:\t\t0.019626\n",
        "  validation loss:\t\t0.019449\n",
        "Epoch 141 of 500 took 13.795s"
       ]
      },
      {
       "output_type": "stream",
       "stream": "stdout",
       "text": [
        "\n",
        "  training loss:\t\t0.019597\n",
        "  validation loss:\t\t0.019420\n",
        "Epoch 142 of 500 took 13.767s"
       ]
      },
      {
       "output_type": "stream",
       "stream": "stdout",
       "text": [
        "\n",
        "  training loss:\t\t0.019566\n",
        "  validation loss:\t\t0.019390\n",
        "Epoch 143 of 500 took 13.786s"
       ]
      },
      {
       "output_type": "stream",
       "stream": "stdout",
       "text": [
        "\n",
        "  training loss:\t\t0.019536\n",
        "  validation loss:\t\t0.019361\n",
        "Epoch 144 of 500 took 13.763s"
       ]
      },
      {
       "output_type": "stream",
       "stream": "stdout",
       "text": [
        "\n",
        "  training loss:\t\t0.019505\n",
        "  validation loss:\t\t0.019331\n",
        "Epoch 145 of 500 took 13.769s"
       ]
      },
      {
       "output_type": "stream",
       "stream": "stdout",
       "text": [
        "\n",
        "  training loss:\t\t0.019476\n",
        "  validation loss:\t\t0.019303\n",
        "Epoch 146 of 500 took 13.768s"
       ]
      },
      {
       "output_type": "stream",
       "stream": "stdout",
       "text": [
        "\n",
        "  training loss:\t\t0.019446\n",
        "  validation loss:\t\t0.019275\n",
        "Epoch 147 of 500 took 13.772s"
       ]
      },
      {
       "output_type": "stream",
       "stream": "stdout",
       "text": [
        "\n",
        "  training loss:\t\t0.019417\n",
        "  validation loss:\t\t0.019247\n",
        "Epoch 148 of 500 took 13.777s"
       ]
      },
      {
       "output_type": "stream",
       "stream": "stdout",
       "text": [
        "\n",
        "  training loss:\t\t0.019388\n",
        "  validation loss:\t\t0.019219\n",
        "Epoch 149 of 500 took 13.775s"
       ]
      },
      {
       "output_type": "stream",
       "stream": "stdout",
       "text": [
        "\n",
        "  training loss:\t\t0.019360\n",
        "  validation loss:\t\t0.019192\n",
        "Epoch 150 of 500 took 13.760s"
       ]
      },
      {
       "output_type": "stream",
       "stream": "stdout",
       "text": [
        "\n",
        "  training loss:\t\t0.019333\n",
        "  validation loss:\t\t0.019165\n",
        "Epoch 151 of 500 took 13.764s"
       ]
      },
      {
       "output_type": "stream",
       "stream": "stdout",
       "text": [
        "\n",
        "  training loss:\t\t0.019304\n",
        "  validation loss:\t\t0.019138\n",
        "Epoch 152 of 500 took 13.835s"
       ]
      },
      {
       "output_type": "stream",
       "stream": "stdout",
       "text": [
        "\n",
        "  training loss:\t\t0.019276\n",
        "  validation loss:\t\t0.019111\n",
        "Epoch 153 of 500 took 13.799s"
       ]
      },
      {
       "output_type": "stream",
       "stream": "stdout",
       "text": [
        "\n",
        "  training loss:\t\t0.019247\n",
        "  validation loss:\t\t0.019085\n",
        "Epoch 154 of 500 took 13.770s"
       ]
      },
      {
       "output_type": "stream",
       "stream": "stdout",
       "text": [
        "\n",
        "  training loss:\t\t0.019220\n",
        "  validation loss:\t\t0.019059\n",
        "Epoch 155 of 500 took 13.764s"
       ]
      },
      {
       "output_type": "stream",
       "stream": "stdout",
       "text": [
        "\n",
        "  training loss:\t\t0.019193\n",
        "  validation loss:\t\t0.019034\n",
        "Epoch 156 of 500 took 13.761s"
       ]
      },
      {
       "output_type": "stream",
       "stream": "stdout",
       "text": [
        "\n",
        "  training loss:\t\t0.019164\n",
        "  validation loss:\t\t0.019009\n",
        "Epoch 157 of 500 took 13.764s"
       ]
      },
      {
       "output_type": "stream",
       "stream": "stdout",
       "text": [
        "\n",
        "  training loss:\t\t0.019136\n",
        "  validation loss:\t\t0.018983\n",
        "Epoch 158 of 500 took 13.759s"
       ]
      },
      {
       "output_type": "stream",
       "stream": "stdout",
       "text": [
        "\n",
        "  training loss:\t\t0.019110\n",
        "  validation loss:\t\t0.018958\n",
        "Epoch 159 of 500 took 13.754s"
       ]
      },
      {
       "output_type": "stream",
       "stream": "stdout",
       "text": [
        "\n",
        "  training loss:\t\t0.019085\n",
        "  validation loss:\t\t0.018933\n",
        "Epoch 160 of 500 took 13.819s"
       ]
      },
      {
       "output_type": "stream",
       "stream": "stdout",
       "text": [
        "\n",
        "  training loss:\t\t0.019059\n",
        "  validation loss:\t\t0.018908\n",
        "Epoch 161 of 500 took 13.794s"
       ]
      },
      {
       "output_type": "stream",
       "stream": "stdout",
       "text": [
        "\n",
        "  training loss:\t\t0.019034\n",
        "  validation loss:\t\t0.018885\n",
        "Epoch 162 of 500 took 13.773s"
       ]
      },
      {
       "output_type": "stream",
       "stream": "stdout",
       "text": [
        "\n",
        "  training loss:\t\t0.019009\n",
        "  validation loss:\t\t0.018860\n",
        "Epoch 163 of 500 took 13.778s"
       ]
      },
      {
       "output_type": "stream",
       "stream": "stdout",
       "text": [
        "\n",
        "  training loss:\t\t0.018984\n",
        "  validation loss:\t\t0.018837\n",
        "Epoch 164 of 500 took 13.755s"
       ]
      },
      {
       "output_type": "stream",
       "stream": "stdout",
       "text": [
        "\n",
        "  training loss:\t\t0.018958\n",
        "  validation loss:\t\t0.018813\n",
        "Epoch 165 of 500 took 13.757s"
       ]
      },
      {
       "output_type": "stream",
       "stream": "stdout",
       "text": [
        "\n",
        "  training loss:\t\t0.018933\n",
        "  validation loss:\t\t0.018789\n",
        "Epoch 166 of 500 took 13.794s"
       ]
      },
      {
       "output_type": "stream",
       "stream": "stdout",
       "text": [
        "\n",
        "  training loss:\t\t0.018909\n",
        "  validation loss:\t\t0.018766\n",
        "Epoch 167 of 500 took 13.763s"
       ]
      },
      {
       "output_type": "stream",
       "stream": "stdout",
       "text": [
        "\n",
        "  training loss:\t\t0.018886\n",
        "  validation loss:\t\t0.018743\n",
        "Epoch 168 of 500 took 13.754s"
       ]
      },
      {
       "output_type": "stream",
       "stream": "stdout",
       "text": [
        "\n",
        "  training loss:\t\t0.018861\n",
        "  validation loss:\t\t0.018720\n",
        "Epoch 169 of 500 took 13.765s"
       ]
      },
      {
       "output_type": "stream",
       "stream": "stdout",
       "text": [
        "\n",
        "  training loss:\t\t0.018838\n",
        "  validation loss:\t\t0.018696\n",
        "Epoch 170 of 500 took 13.758s"
       ]
      },
      {
       "output_type": "stream",
       "stream": "stdout",
       "text": [
        "\n",
        "  training loss:\t\t0.018814\n",
        "  validation loss:\t\t0.018673\n",
        "Epoch 171 of 500 took 13.749s"
       ]
      },
      {
       "output_type": "stream",
       "stream": "stdout",
       "text": [
        "\n",
        "  training loss:\t\t0.018789\n",
        "  validation loss:\t\t0.018651\n",
        "Epoch 172 of 500 took 13.751s"
       ]
      },
      {
       "output_type": "stream",
       "stream": "stdout",
       "text": [
        "\n",
        "  training loss:\t\t0.018764\n",
        "  validation loss:\t\t0.018629\n",
        "Epoch 173 of 500 took 13.761s"
       ]
      },
      {
       "output_type": "stream",
       "stream": "stdout",
       "text": [
        "\n",
        "  training loss:\t\t0.018741\n",
        "  validation loss:\t\t0.018607\n",
        "Epoch 174 of 500 took 13.774s"
       ]
      },
      {
       "output_type": "stream",
       "stream": "stdout",
       "text": [
        "\n",
        "  training loss:\t\t0.018719\n",
        "  validation loss:\t\t0.018585\n",
        "Epoch 175 of 500 took 13.754s"
       ]
      },
      {
       "output_type": "stream",
       "stream": "stdout",
       "text": [
        "\n",
        "  training loss:\t\t0.018698\n",
        "  validation loss:\t\t0.018563\n",
        "Epoch 176 of 500 took 13.822s"
       ]
      },
      {
       "output_type": "stream",
       "stream": "stdout",
       "text": [
        "\n",
        "  training loss:\t\t0.018674\n",
        "  validation loss:\t\t0.018542\n",
        "Epoch 177 of 500 took 13.756s"
       ]
      },
      {
       "output_type": "stream",
       "stream": "stdout",
       "text": [
        "\n",
        "  training loss:\t\t0.018651\n",
        "  validation loss:\t\t0.018521\n",
        "Epoch 178 of 500 took 13.787s"
       ]
      },
      {
       "output_type": "stream",
       "stream": "stdout",
       "text": [
        "\n",
        "  training loss:\t\t0.018628\n",
        "  validation loss:\t\t0.018499\n",
        "Epoch 179 of 500 took 13.793s"
       ]
      },
      {
       "output_type": "stream",
       "stream": "stdout",
       "text": [
        "\n",
        "  training loss:\t\t0.018606\n",
        "  validation loss:\t\t0.018478\n",
        "Epoch 180 of 500 took 13.768s"
       ]
      },
      {
       "output_type": "stream",
       "stream": "stdout",
       "text": [
        "\n",
        "  training loss:\t\t0.018585\n",
        "  validation loss:\t\t0.018458\n",
        "Epoch 181 of 500 took 13.836s"
       ]
      },
      {
       "output_type": "stream",
       "stream": "stdout",
       "text": [
        "\n",
        "  training loss:\t\t0.018561\n",
        "  validation loss:\t\t0.018436\n",
        "Epoch 182 of 500 took 13.768s"
       ]
      },
      {
       "output_type": "stream",
       "stream": "stdout",
       "text": [
        "\n",
        "  training loss:\t\t0.018540\n",
        "  validation loss:\t\t0.018417\n",
        "Epoch 183 of 500 took 13.766s"
       ]
      },
      {
       "output_type": "stream",
       "stream": "stdout",
       "text": [
        "\n",
        "  training loss:\t\t0.018520\n",
        "  validation loss:\t\t0.018398\n",
        "Epoch 184 of 500 took 13.754s"
       ]
      },
      {
       "output_type": "stream",
       "stream": "stdout",
       "text": [
        "\n",
        "  training loss:\t\t0.018499\n",
        "  validation loss:\t\t0.018378\n",
        "Epoch 185 of 500 took 13.764s"
       ]
      },
      {
       "output_type": "stream",
       "stream": "stdout",
       "text": [
        "\n",
        "  training loss:\t\t0.018480\n",
        "  validation loss:\t\t0.018358\n",
        "Epoch 186 of 500 took 13.777s"
       ]
      },
      {
       "output_type": "stream",
       "stream": "stdout",
       "text": [
        "\n",
        "  training loss:\t\t0.018459\n",
        "  validation loss:\t\t0.018339\n",
        "Epoch 187 of 500 took 13.788s"
       ]
      },
      {
       "output_type": "stream",
       "stream": "stdout",
       "text": [
        "\n",
        "  training loss:\t\t0.018437\n",
        "  validation loss:\t\t0.018320\n",
        "Epoch 188 of 500 took 13.755s"
       ]
      },
      {
       "output_type": "stream",
       "stream": "stdout",
       "text": [
        "\n",
        "  training loss:\t\t0.018418\n",
        "  validation loss:\t\t0.018300\n",
        "Epoch 189 of 500 took 13.760s"
       ]
      },
      {
       "output_type": "stream",
       "stream": "stdout",
       "text": [
        "\n",
        "  training loss:\t\t0.018397\n",
        "  validation loss:\t\t0.018280\n",
        "Epoch 190 of 500 took 13.754s"
       ]
      },
      {
       "output_type": "stream",
       "stream": "stdout",
       "text": [
        "\n",
        "  training loss:\t\t0.018375\n",
        "  validation loss:\t\t0.018261\n",
        "Epoch 191 of 500 took 13.910s"
       ]
      },
      {
       "output_type": "stream",
       "stream": "stdout",
       "text": [
        "\n",
        "  training loss:\t\t0.018356\n",
        "  validation loss:\t\t0.018240\n",
        "Epoch 192 of 500 took 13.771s"
       ]
      },
      {
       "output_type": "stream",
       "stream": "stdout",
       "text": [
        "\n",
        "  training loss:\t\t0.018335\n",
        "  validation loss:\t\t0.018223\n",
        "Epoch 193 of 500 took 13.768s"
       ]
      },
      {
       "output_type": "stream",
       "stream": "stdout",
       "text": [
        "\n",
        "  training loss:\t\t0.018316\n",
        "  validation loss:\t\t0.018205\n",
        "Epoch 194 of 500 took 13.787s"
       ]
      },
      {
       "output_type": "stream",
       "stream": "stdout",
       "text": [
        "\n",
        "  training loss:\t\t0.018296\n",
        "  validation loss:\t\t0.018186\n",
        "Epoch 195 of 500 took 13.783s"
       ]
      },
      {
       "output_type": "stream",
       "stream": "stdout",
       "text": [
        "\n",
        "  training loss:\t\t0.018277\n",
        "  validation loss:\t\t0.018166\n",
        "Epoch 196 of 500 took 13.884s"
       ]
      },
      {
       "output_type": "stream",
       "stream": "stdout",
       "text": [
        "\n",
        "  training loss:\t\t0.018257\n",
        "  validation loss:\t\t0.018146\n",
        "Epoch 197 of 500 took 13.896s"
       ]
      },
      {
       "output_type": "stream",
       "stream": "stdout",
       "text": [
        "\n",
        "  training loss:\t\t0.018239\n",
        "  validation loss:\t\t0.018130\n",
        "Epoch 198 of 500 took 13.843s"
       ]
      },
      {
       "output_type": "stream",
       "stream": "stdout",
       "text": [
        "\n",
        "  training loss:\t\t0.018219\n",
        "  validation loss:\t\t0.018113\n",
        "Epoch 199 of 500 took 13.758s"
       ]
      },
      {
       "output_type": "stream",
       "stream": "stdout",
       "text": [
        "\n",
        "  training loss:\t\t0.018201\n",
        "  validation loss:\t\t0.018095\n",
        "Epoch 200 of 500 took 13.773s"
       ]
      },
      {
       "output_type": "stream",
       "stream": "stdout",
       "text": [
        "\n",
        "  training loss:\t\t0.018182\n",
        "  validation loss:\t\t0.018076\n",
        "Epoch 201 of 500 took 13.831s"
       ]
      },
      {
       "output_type": "stream",
       "stream": "stdout",
       "text": [
        "\n",
        "  training loss:\t\t0.018164\n",
        "  validation loss:\t\t0.018059\n",
        "Epoch 202 of 500 took 13.793s"
       ]
      },
      {
       "output_type": "stream",
       "stream": "stdout",
       "text": [
        "\n",
        "  training loss:\t\t0.018145\n",
        "  validation loss:\t\t0.018042\n",
        "Epoch 203 of 500 took 13.781s"
       ]
      },
      {
       "output_type": "stream",
       "stream": "stdout",
       "text": [
        "\n",
        "  training loss:\t\t0.018126\n",
        "  validation loss:\t\t0.018024\n",
        "Epoch 204 of 500 took 13.783s"
       ]
      },
      {
       "output_type": "stream",
       "stream": "stdout",
       "text": [
        "\n",
        "  training loss:\t\t0.018107\n",
        "  validation loss:\t\t0.018005\n",
        "Epoch 205 of 500 took 13.784s"
       ]
      },
      {
       "output_type": "stream",
       "stream": "stdout",
       "text": [
        "\n",
        "  training loss:\t\t0.018088\n",
        "  validation loss:\t\t0.017989\n",
        "Epoch 206 of 500 took 13.794s"
       ]
      },
      {
       "output_type": "stream",
       "stream": "stdout",
       "text": [
        "\n",
        "  training loss:\t\t0.018071\n",
        "  validation loss:\t\t0.017969\n",
        "Epoch 207 of 500 took 13.781s"
       ]
      },
      {
       "output_type": "stream",
       "stream": "stdout",
       "text": [
        "\n",
        "  training loss:\t\t0.018052\n",
        "  validation loss:\t\t0.017953\n",
        "Epoch 208 of 500 took 13.756s"
       ]
      },
      {
       "output_type": "stream",
       "stream": "stdout",
       "text": [
        "\n",
        "  training loss:\t\t0.018036\n",
        "  validation loss:\t\t0.017936\n",
        "Epoch 209 of 500 took 13.765s"
       ]
      },
      {
       "output_type": "stream",
       "stream": "stdout",
       "text": [
        "\n",
        "  training loss:\t\t0.018019\n",
        "  validation loss:\t\t0.017918\n",
        "Epoch 210 of 500 took 13.763s"
       ]
      },
      {
       "output_type": "stream",
       "stream": "stdout",
       "text": [
        "\n",
        "  training loss:\t\t0.018001\n",
        "  validation loss:\t\t0.017902\n",
        "Epoch 211 of 500 took 13.761s"
       ]
      },
      {
       "output_type": "stream",
       "stream": "stdout",
       "text": [
        "\n",
        "  training loss:\t\t0.017983\n",
        "  validation loss:\t\t0.017884\n",
        "Epoch 212 of 500 took 13.757s"
       ]
      },
      {
       "output_type": "stream",
       "stream": "stdout",
       "text": [
        "\n",
        "  training loss:\t\t0.017966\n",
        "  validation loss:\t\t0.017869\n",
        "Epoch 213 of 500 took 13.776s"
       ]
      },
      {
       "output_type": "stream",
       "stream": "stdout",
       "text": [
        "\n",
        "  training loss:\t\t0.017949\n",
        "  validation loss:\t\t0.017850\n",
        "Epoch 214 of 500 took 13.769s"
       ]
      },
      {
       "output_type": "stream",
       "stream": "stdout",
       "text": [
        "\n",
        "  training loss:\t\t0.017932\n",
        "  validation loss:\t\t0.017834\n",
        "Epoch 215 of 500 took 13.774s"
       ]
      },
      {
       "output_type": "stream",
       "stream": "stdout",
       "text": [
        "\n",
        "  training loss:\t\t0.017915\n",
        "  validation loss:\t\t0.017816\n",
        "Epoch 216 of 500 took 13.780s"
       ]
      },
      {
       "output_type": "stream",
       "stream": "stdout",
       "text": [
        "\n",
        "  training loss:\t\t0.017900\n",
        "  validation loss:\t\t0.017800\n",
        "Epoch 217 of 500 took 13.766s"
       ]
      },
      {
       "output_type": "stream",
       "stream": "stdout",
       "text": [
        "\n",
        "  training loss:\t\t0.017883\n",
        "  validation loss:\t\t0.017783\n",
        "Epoch 218 of 500 took 13.769s"
       ]
      },
      {
       "output_type": "stream",
       "stream": "stdout",
       "text": [
        "\n",
        "  training loss:\t\t0.017866\n",
        "  validation loss:\t\t0.017767\n",
        "Epoch 219 of 500 took 13.757s"
       ]
      },
      {
       "output_type": "stream",
       "stream": "stdout",
       "text": [
        "\n",
        "  training loss:\t\t0.017848\n",
        "  validation loss:\t\t0.017751\n",
        "Epoch 220 of 500 took 13.766s"
       ]
      },
      {
       "output_type": "stream",
       "stream": "stdout",
       "text": [
        "\n",
        "  training loss:\t\t0.017833\n",
        "  validation loss:\t\t0.017737\n",
        "Epoch 221 of 500 took 13.768s"
       ]
      },
      {
       "output_type": "stream",
       "stream": "stdout",
       "text": [
        "\n",
        "  training loss:\t\t0.017816\n",
        "  validation loss:\t\t0.017720\n",
        "Epoch 222 of 500 took 13.755s"
       ]
      },
      {
       "output_type": "stream",
       "stream": "stdout",
       "text": [
        "\n",
        "  training loss:\t\t0.017801\n",
        "  validation loss:\t\t0.017705\n",
        "Epoch 223 of 500 took 13.760s"
       ]
      },
      {
       "output_type": "stream",
       "stream": "stdout",
       "text": [
        "\n",
        "  training loss:\t\t0.017784\n",
        "  validation loss:\t\t0.017690\n",
        "Epoch 224 of 500 took 13.750s"
       ]
      },
      {
       "output_type": "stream",
       "stream": "stdout",
       "text": [
        "\n",
        "  training loss:\t\t0.017769\n",
        "  validation loss:\t\t0.017673\n",
        "Epoch 225 of 500 took 13.814s"
       ]
      },
      {
       "output_type": "stream",
       "stream": "stdout",
       "text": [
        "\n",
        "  training loss:\t\t0.017752\n",
        "  validation loss:\t\t0.017657\n",
        "Epoch 226 of 500 took 13.835s"
       ]
      },
      {
       "output_type": "stream",
       "stream": "stdout",
       "text": [
        "\n",
        "  training loss:\t\t0.017737\n",
        "  validation loss:\t\t0.017645\n",
        "Epoch 227 of 500 took 13.776s"
       ]
      },
      {
       "output_type": "stream",
       "stream": "stdout",
       "text": [
        "\n",
        "  training loss:\t\t0.017722\n",
        "  validation loss:\t\t0.017629\n",
        "Epoch 228 of 500 took 13.768s"
       ]
      },
      {
       "output_type": "stream",
       "stream": "stdout",
       "text": [
        "\n",
        "  training loss:\t\t0.017707\n",
        "  validation loss:\t\t0.017615\n",
        "Epoch 229 of 500 took 13.773s"
       ]
      },
      {
       "output_type": "stream",
       "stream": "stdout",
       "text": [
        "\n",
        "  training loss:\t\t0.017691\n",
        "  validation loss:\t\t0.017601\n",
        "Epoch 230 of 500 took 13.768s"
       ]
      },
      {
       "output_type": "stream",
       "stream": "stdout",
       "text": [
        "\n",
        "  training loss:\t\t0.017677\n",
        "  validation loss:\t\t0.017586\n",
        "Epoch 231 of 500 took 13.819s"
       ]
      },
      {
       "output_type": "stream",
       "stream": "stdout",
       "text": [
        "\n",
        "  training loss:\t\t0.017662\n",
        "  validation loss:\t\t0.017570\n",
        "Epoch 232 of 500 took 13.762s"
       ]
      },
      {
       "output_type": "stream",
       "stream": "stdout",
       "text": [
        "\n",
        "  training loss:\t\t0.017645\n",
        "  validation loss:\t\t0.017555\n",
        "Epoch 233 of 500 took 13.765s"
       ]
      },
      {
       "output_type": "stream",
       "stream": "stdout",
       "text": [
        "\n",
        "  training loss:\t\t0.017629\n",
        "  validation loss:\t\t0.017539\n",
        "Epoch 234 of 500 took 13.770s"
       ]
      },
      {
       "output_type": "stream",
       "stream": "stdout",
       "text": [
        "\n",
        "  training loss:\t\t0.017614\n",
        "  validation loss:\t\t0.017524\n",
        "Epoch 235 of 500 took 13.765s"
       ]
      },
      {
       "output_type": "stream",
       "stream": "stdout",
       "text": [
        "\n",
        "  training loss:\t\t0.017599\n",
        "  validation loss:\t\t0.017512\n",
        "Epoch 236 of 500 took 13.753s"
       ]
      },
      {
       "output_type": "stream",
       "stream": "stdout",
       "text": [
        "\n",
        "  training loss:\t\t0.017585\n",
        "  validation loss:\t\t0.017498\n",
        "Epoch 237 of 500 took 13.755s"
       ]
      },
      {
       "output_type": "stream",
       "stream": "stdout",
       "text": [
        "\n",
        "  training loss:\t\t0.017570\n",
        "  validation loss:\t\t0.017483\n",
        "Epoch 238 of 500 took 13.756s"
       ]
      },
      {
       "output_type": "stream",
       "stream": "stdout",
       "text": [
        "\n",
        "  training loss:\t\t0.017556\n",
        "  validation loss:\t\t0.017471\n",
        "Epoch 239 of 500 took 13.790s"
       ]
      },
      {
       "output_type": "stream",
       "stream": "stdout",
       "text": [
        "\n",
        "  training loss:\t\t0.017541\n",
        "  validation loss:\t\t0.017457\n",
        "Epoch 240 of 500 took 13.767s"
       ]
      },
      {
       "output_type": "stream",
       "stream": "stdout",
       "text": [
        "\n",
        "  training loss:\t\t0.017528\n",
        "  validation loss:\t\t0.017443\n",
        "Epoch 241 of 500 took 13.773s"
       ]
      },
      {
       "output_type": "stream",
       "stream": "stdout",
       "text": [
        "\n",
        "  training loss:\t\t0.017512\n",
        "  validation loss:\t\t0.017429\n",
        "Epoch 242 of 500 took 13.766s"
       ]
      },
      {
       "output_type": "stream",
       "stream": "stdout",
       "text": [
        "\n",
        "  training loss:\t\t0.017499\n",
        "  validation loss:\t\t0.017413\n",
        "Epoch 243 of 500 took 13.809s"
       ]
      },
      {
       "output_type": "stream",
       "stream": "stdout",
       "text": [
        "\n",
        "  training loss:\t\t0.017484\n",
        "  validation loss:\t\t0.017399\n",
        "Epoch 244 of 500 took 13.769s"
       ]
      },
      {
       "output_type": "stream",
       "stream": "stdout",
       "text": [
        "\n",
        "  training loss:\t\t0.017470\n",
        "  validation loss:\t\t0.017386\n",
        "Epoch 245 of 500 took 13.772s"
       ]
      },
      {
       "output_type": "stream",
       "stream": "stdout",
       "text": [
        "\n",
        "  training loss:\t\t0.017456\n",
        "  validation loss:\t\t0.017370\n",
        "Epoch 246 of 500 took 13.760s"
       ]
      },
      {
       "output_type": "stream",
       "stream": "stdout",
       "text": [
        "\n",
        "  training loss:\t\t0.017442\n",
        "  validation loss:\t\t0.017358\n",
        "Epoch 247 of 500 took 13.757s"
       ]
      },
      {
       "output_type": "stream",
       "stream": "stdout",
       "text": [
        "\n",
        "  training loss:\t\t0.017429\n",
        "  validation loss:\t\t0.017343\n",
        "Epoch 248 of 500 took 13.761s"
       ]
      },
      {
       "output_type": "stream",
       "stream": "stdout",
       "text": [
        "\n",
        "  training loss:\t\t0.017415\n",
        "  validation loss:\t\t0.017330\n",
        "Epoch 249 of 500 took 13.780s"
       ]
      },
      {
       "output_type": "stream",
       "stream": "stdout",
       "text": [
        "\n",
        "  training loss:\t\t0.017400\n",
        "  validation loss:\t\t0.017319\n",
        "Epoch 250 of 500 took 13.756s"
       ]
      },
      {
       "output_type": "stream",
       "stream": "stdout",
       "text": [
        "\n",
        "  training loss:\t\t0.017386\n",
        "  validation loss:\t\t0.017305\n",
        "Epoch 251 of 500 took 13.814s"
       ]
      },
      {
       "output_type": "stream",
       "stream": "stdout",
       "text": [
        "\n",
        "  training loss:\t\t0.017372\n",
        "  validation loss:\t\t0.017293\n",
        "Epoch 252 of 500 took 13.785s"
       ]
      },
      {
       "output_type": "stream",
       "stream": "stdout",
       "text": [
        "\n",
        "  training loss:\t\t0.017359\n",
        "  validation loss:\t\t0.017279\n",
        "Epoch 253 of 500 took 13.753s"
       ]
      },
      {
       "output_type": "stream",
       "stream": "stdout",
       "text": [
        "\n",
        "  training loss:\t\t0.017346\n",
        "  validation loss:\t\t0.017265\n",
        "Epoch 254 of 500 took 13.755s"
       ]
      },
      {
       "output_type": "stream",
       "stream": "stdout",
       "text": [
        "\n",
        "  training loss:\t\t0.017331\n",
        "  validation loss:\t\t0.017253\n",
        "Epoch 255 of 500 took 13.758s"
       ]
      },
      {
       "output_type": "stream",
       "stream": "stdout",
       "text": [
        "\n",
        "  training loss:\t\t0.017320\n",
        "  validation loss:\t\t0.017241\n",
        "Epoch 256 of 500 took 13.830s"
       ]
      },
      {
       "output_type": "stream",
       "stream": "stdout",
       "text": [
        "\n",
        "  training loss:\t\t0.017306\n",
        "  validation loss:\t\t0.017228\n",
        "Epoch 257 of 500 took 13.768s"
       ]
      },
      {
       "output_type": "stream",
       "stream": "stdout",
       "text": [
        "\n",
        "  training loss:\t\t0.017293\n",
        "  validation loss:\t\t0.017215\n",
        "Epoch 258 of 500 took 13.780s"
       ]
      },
      {
       "output_type": "stream",
       "stream": "stdout",
       "text": [
        "\n",
        "  training loss:\t\t0.017279\n",
        "  validation loss:\t\t0.017203\n",
        "Epoch 259 of 500 took 13.776s"
       ]
      },
      {
       "output_type": "stream",
       "stream": "stdout",
       "text": [
        "\n",
        "  training loss:\t\t0.017266\n",
        "  validation loss:\t\t0.017189\n",
        "Epoch 260 of 500 took 13.762s"
       ]
      },
      {
       "output_type": "stream",
       "stream": "stdout",
       "text": [
        "\n",
        "  training loss:\t\t0.017254\n",
        "  validation loss:\t\t0.017178\n",
        "Epoch 261 of 500 took 13.775s"
       ]
      },
      {
       "output_type": "stream",
       "stream": "stdout",
       "text": [
        "\n",
        "  training loss:\t\t0.017240\n",
        "  validation loss:\t\t0.017166\n",
        "Epoch 262 of 500 took 13.764s"
       ]
      },
      {
       "output_type": "stream",
       "stream": "stdout",
       "text": [
        "\n",
        "  training loss:\t\t0.017226\n",
        "  validation loss:\t\t0.017153\n",
        "Epoch 263 of 500 took 13.757s"
       ]
      },
      {
       "output_type": "stream",
       "stream": "stdout",
       "text": [
        "\n",
        "  training loss:\t\t0.017213\n",
        "  validation loss:\t\t0.017141\n",
        "Epoch 264 of 500 took 13.768s"
       ]
      },
      {
       "output_type": "stream",
       "stream": "stdout",
       "text": [
        "\n",
        "  training loss:\t\t0.017199\n",
        "  validation loss:\t\t0.017129\n",
        "Epoch 265 of 500 took 13.765s"
       ]
      },
      {
       "output_type": "stream",
       "stream": "stdout",
       "text": [
        "\n",
        "  training loss:\t\t0.017187\n",
        "  validation loss:\t\t0.017115\n",
        "Epoch 266 of 500 took 13.794s"
       ]
      },
      {
       "output_type": "stream",
       "stream": "stdout",
       "text": [
        "\n",
        "  training loss:\t\t0.017174\n",
        "  validation loss:\t\t0.017103\n",
        "Epoch 267 of 500 took 13.787s"
       ]
      },
      {
       "output_type": "stream",
       "stream": "stdout",
       "text": [
        "\n",
        "  training loss:\t\t0.017162\n",
        "  validation loss:\t\t0.017091\n",
        "Epoch 268 of 500 took 13.761s"
       ]
      },
      {
       "output_type": "stream",
       "stream": "stdout",
       "text": [
        "\n",
        "  training loss:\t\t0.017150\n",
        "  validation loss:\t\t0.017082\n",
        "Epoch 269 of 500 took 13.767s"
       ]
      },
      {
       "output_type": "stream",
       "stream": "stdout",
       "text": [
        "\n",
        "  training loss:\t\t0.017138\n",
        "  validation loss:\t\t0.017070\n",
        "Epoch 270 of 500 took 13.760s"
       ]
      },
      {
       "output_type": "stream",
       "stream": "stdout",
       "text": [
        "\n",
        "  training loss:\t\t0.017125\n",
        "  validation loss:\t\t0.017059\n",
        "Epoch 271 of 500 took 13.775s"
       ]
      },
      {
       "output_type": "stream",
       "stream": "stdout",
       "text": [
        "\n",
        "  training loss:\t\t0.017113\n",
        "  validation loss:\t\t0.017045\n",
        "Epoch 272 of 500 took 13.758s"
       ]
      },
      {
       "output_type": "stream",
       "stream": "stdout",
       "text": [
        "\n",
        "  training loss:\t\t0.017100\n",
        "  validation loss:\t\t0.017032\n",
        "Epoch 273 of 500 took 13.781s"
       ]
      },
      {
       "output_type": "stream",
       "stream": "stdout",
       "text": [
        "\n",
        "  training loss:\t\t0.017087\n",
        "  validation loss:\t\t0.017024\n",
        "Epoch 274 of 500 took 13.765s"
       ]
      },
      {
       "output_type": "stream",
       "stream": "stdout",
       "text": [
        "\n",
        "  training loss:\t\t0.017077\n",
        "  validation loss:\t\t0.017012\n",
        "Epoch 275 of 500 took 13.767s"
       ]
      },
      {
       "output_type": "stream",
       "stream": "stdout",
       "text": [
        "\n",
        "  training loss:\t\t0.017063\n",
        "  validation loss:\t\t0.017002\n",
        "Epoch 276 of 500 took 13.839s"
       ]
      },
      {
       "output_type": "stream",
       "stream": "stdout",
       "text": [
        "\n",
        "  training loss:\t\t0.017051\n",
        "  validation loss:\t\t0.016989\n",
        "Epoch 277 of 500 took 13.749s"
       ]
      },
      {
       "output_type": "stream",
       "stream": "stdout",
       "text": [
        "\n",
        "  training loss:\t\t0.017038\n",
        "  validation loss:\t\t0.016976\n",
        "Epoch 278 of 500 took 13.766s"
       ]
      },
      {
       "output_type": "stream",
       "stream": "stdout",
       "text": [
        "\n",
        "  training loss:\t\t0.017027\n",
        "  validation loss:\t\t0.016965\n",
        "Epoch 279 of 500 took 13.757s"
       ]
      },
      {
       "output_type": "stream",
       "stream": "stdout",
       "text": [
        "\n",
        "  training loss:\t\t0.017014\n",
        "  validation loss:\t\t0.016953\n",
        "Epoch 280 of 500 took 13.768s"
       ]
      },
      {
       "output_type": "stream",
       "stream": "stdout",
       "text": [
        "\n",
        "  training loss:\t\t0.017002\n",
        "  validation loss:\t\t0.016942\n",
        "Epoch 281 of 500 took 13.768s"
       ]
      },
      {
       "output_type": "stream",
       "stream": "stdout",
       "text": [
        "\n",
        "  training loss:\t\t0.016991\n",
        "  validation loss:\t\t0.016930\n",
        "Epoch 282 of 500 took 13.766s"
       ]
      },
      {
       "output_type": "stream",
       "stream": "stdout",
       "text": [
        "\n",
        "  training loss:\t\t0.016979\n",
        "  validation loss:\t\t0.016917\n",
        "Epoch 283 of 500 took 13.819s"
       ]
      },
      {
       "output_type": "stream",
       "stream": "stdout",
       "text": [
        "\n",
        "  training loss:\t\t0.016967\n",
        "  validation loss:\t\t0.016906\n",
        "Epoch 284 of 500 took 13.795s"
       ]
      },
      {
       "output_type": "stream",
       "stream": "stdout",
       "text": [
        "\n",
        "  training loss:\t\t0.016955\n",
        "  validation loss:\t\t0.016894\n",
        "Epoch 285 of 500 took 13.757s"
       ]
      },
      {
       "output_type": "stream",
       "stream": "stdout",
       "text": [
        "\n",
        "  training loss:\t\t0.016945\n",
        "  validation loss:\t\t0.016881\n",
        "Epoch 286 of 500 took 13.772s"
       ]
      },
      {
       "output_type": "stream",
       "stream": "stdout",
       "text": [
        "\n",
        "  training loss:\t\t0.016933\n",
        "  validation loss:\t\t0.016870\n",
        "Epoch 287 of 500 took 13.769s"
       ]
      },
      {
       "output_type": "stream",
       "stream": "stdout",
       "text": [
        "\n",
        "  training loss:\t\t0.016922\n",
        "  validation loss:\t\t0.016858\n",
        "Epoch 288 of 500 took 13.756s"
       ]
      },
      {
       "output_type": "stream",
       "stream": "stdout",
       "text": [
        "\n",
        "  training loss:\t\t0.016910\n",
        "  validation loss:\t\t0.016849\n",
        "Epoch 289 of 500 took 13.758s"
       ]
      },
      {
       "output_type": "stream",
       "stream": "stdout",
       "text": [
        "\n",
        "  training loss:\t\t0.016899\n",
        "  validation loss:\t\t0.016839\n",
        "Epoch 290 of 500 took 13.763s"
       ]
      },
      {
       "output_type": "stream",
       "stream": "stdout",
       "text": [
        "\n",
        "  training loss:\t\t0.016888\n",
        "  validation loss:\t\t0.016828\n",
        "Epoch 291 of 500 took 13.771s"
       ]
      },
      {
       "output_type": "stream",
       "stream": "stdout",
       "text": [
        "\n",
        "  training loss:\t\t0.016877\n",
        "  validation loss:\t\t0.016818\n",
        "Epoch 292 of 500 took 13.759s"
       ]
      },
      {
       "output_type": "stream",
       "stream": "stdout",
       "text": [
        "\n",
        "  training loss:\t\t0.016867\n",
        "  validation loss:\t\t0.016806\n",
        "Epoch 293 of 500 took 13.758s"
       ]
      },
      {
       "output_type": "stream",
       "stream": "stdout",
       "text": [
        "\n",
        "  training loss:\t\t0.016855\n",
        "  validation loss:\t\t0.016796\n",
        "Epoch 294 of 500 took 13.760s"
       ]
      },
      {
       "output_type": "stream",
       "stream": "stdout",
       "text": [
        "\n",
        "  training loss:\t\t0.016845\n",
        "  validation loss:\t\t0.016785\n",
        "Epoch 295 of 500 took 13.811s"
       ]
      },
      {
       "output_type": "stream",
       "stream": "stdout",
       "text": [
        "\n",
        "  training loss:\t\t0.016833\n",
        "  validation loss:\t\t0.016774\n",
        "Epoch 296 of 500 took 13.804s"
       ]
      },
      {
       "output_type": "stream",
       "stream": "stdout",
       "text": [
        "\n",
        "  training loss:\t\t0.016823\n",
        "  validation loss:\t\t0.016764\n",
        "Epoch 297 of 500 took 13.757s"
       ]
      },
      {
       "output_type": "stream",
       "stream": "stdout",
       "text": [
        "\n",
        "  training loss:\t\t0.016812\n",
        "  validation loss:\t\t0.016755\n",
        "Epoch 298 of 500 took 13.765s"
       ]
      },
      {
       "output_type": "stream",
       "stream": "stdout",
       "text": [
        "\n",
        "  training loss:\t\t0.016802\n",
        "  validation loss:\t\t0.016742\n",
        "Epoch 299 of 500 took 13.760s"
       ]
      },
      {
       "output_type": "stream",
       "stream": "stdout",
       "text": [
        "\n",
        "  training loss:\t\t0.016791\n",
        "  validation loss:\t\t0.016732\n",
        "Epoch 300 of 500 took 13.777s"
       ]
      },
      {
       "output_type": "stream",
       "stream": "stdout",
       "text": [
        "\n",
        "  training loss:\t\t0.016781\n",
        "  validation loss:\t\t0.016722\n",
        "Epoch 301 of 500 took 13.759s"
       ]
      },
      {
       "output_type": "stream",
       "stream": "stdout",
       "text": [
        "\n",
        "  training loss:\t\t0.016769\n",
        "  validation loss:\t\t0.016712\n",
        "Epoch 302 of 500 took 13.759s"
       ]
      },
      {
       "output_type": "stream",
       "stream": "stdout",
       "text": [
        "\n",
        "  training loss:\t\t0.016759\n",
        "  validation loss:\t\t0.016703\n",
        "Epoch 303 of 500 took 13.755s"
       ]
      },
      {
       "output_type": "stream",
       "stream": "stdout",
       "text": [
        "\n",
        "  training loss:\t\t0.016749\n",
        "  validation loss:\t\t0.016694\n",
        "Epoch 304 of 500 took 13.765s"
       ]
      },
      {
       "output_type": "stream",
       "stream": "stdout",
       "text": [
        "\n",
        "  training loss:\t\t0.016737\n",
        "  validation loss:\t\t0.016684\n",
        "Epoch 305 of 500 took 13.764s"
       ]
      },
      {
       "output_type": "stream",
       "stream": "stdout",
       "text": [
        "\n",
        "  training loss:\t\t0.016726\n",
        "  validation loss:\t\t0.016674\n",
        "Epoch 306 of 500 took 13.754s"
       ]
      },
      {
       "output_type": "stream",
       "stream": "stdout",
       "text": [
        "\n",
        "  training loss:\t\t0.016717\n",
        "  validation loss:\t\t0.016665\n",
        "Epoch 307 of 500 took 13.770s"
       ]
      },
      {
       "output_type": "stream",
       "stream": "stdout",
       "text": [
        "\n",
        "  training loss:\t\t0.016706\n",
        "  validation loss:\t\t0.016655\n",
        "Epoch 308 of 500 took 13.765s"
       ]
      },
      {
       "output_type": "stream",
       "stream": "stdout",
       "text": [
        "\n",
        "  training loss:\t\t0.016695\n",
        "  validation loss:\t\t0.016644\n",
        "Epoch 309 of 500 took 13.758s"
       ]
      },
      {
       "output_type": "stream",
       "stream": "stdout",
       "text": [
        "\n",
        "  training loss:\t\t0.016685\n",
        "  validation loss:\t\t0.016634\n",
        "Epoch 310 of 500 took 13.772s"
       ]
      },
      {
       "output_type": "stream",
       "stream": "stdout",
       "text": [
        "\n",
        "  training loss:\t\t0.016673\n",
        "  validation loss:\t\t0.016623\n",
        "Epoch 311 of 500 took 13.767s"
       ]
      },
      {
       "output_type": "stream",
       "stream": "stdout",
       "text": [
        "\n",
        "  training loss:\t\t0.016664\n",
        "  validation loss:\t\t0.016614\n",
        "Epoch 312 of 500 took 13.768s"
       ]
      },
      {
       "output_type": "stream",
       "stream": "stdout",
       "text": [
        "\n",
        "  training loss:\t\t0.016655\n",
        "  validation loss:\t\t0.016603\n",
        "Epoch 313 of 500 took 13.766s"
       ]
      },
      {
       "output_type": "stream",
       "stream": "stdout",
       "text": [
        "\n",
        "  training loss:\t\t0.016644\n",
        "  validation loss:\t\t0.016594\n",
        "Epoch 314 of 500 took 13.757s"
       ]
      },
      {
       "output_type": "stream",
       "stream": "stdout",
       "text": [
        "\n",
        "  training loss:\t\t0.016633\n",
        "  validation loss:\t\t0.016583\n",
        "Epoch 315 of 500 took 13.764s"
       ]
      },
      {
       "output_type": "stream",
       "stream": "stdout",
       "text": [
        "\n",
        "  training loss:\t\t0.016623\n",
        "  validation loss:\t\t0.016574\n",
        "Epoch 316 of 500 took 13.765s"
       ]
      },
      {
       "output_type": "stream",
       "stream": "stdout",
       "text": [
        "\n",
        "  training loss:\t\t0.016614\n",
        "  validation loss:\t\t0.016564\n",
        "Epoch 317 of 500 took 13.786s"
       ]
      },
      {
       "output_type": "stream",
       "stream": "stdout",
       "text": [
        "\n",
        "  training loss:\t\t0.016602\n",
        "  validation loss:\t\t0.016556\n",
        "Epoch 318 of 500 took 13.772s"
       ]
      },
      {
       "output_type": "stream",
       "stream": "stdout",
       "text": [
        "\n",
        "  training loss:\t\t0.016593\n",
        "  validation loss:\t\t0.016547\n",
        "Epoch 319 of 500 took 13.767s"
       ]
      },
      {
       "output_type": "stream",
       "stream": "stdout",
       "text": [
        "\n",
        "  training loss:\t\t0.016583\n",
        "  validation loss:\t\t0.016538\n",
        "Epoch 320 of 500 took 13.767s"
       ]
      },
      {
       "output_type": "stream",
       "stream": "stdout",
       "text": [
        "\n",
        "  training loss:\t\t0.016575\n",
        "  validation loss:\t\t0.016528\n",
        "Epoch 321 of 500 took 13.758s"
       ]
      },
      {
       "output_type": "stream",
       "stream": "stdout",
       "text": [
        "\n",
        "  training loss:\t\t0.016564\n",
        "  validation loss:\t\t0.016519\n",
        "Epoch 322 of 500 took 13.755s"
       ]
      },
      {
       "output_type": "stream",
       "stream": "stdout",
       "text": [
        "\n",
        "  training loss:\t\t0.016554\n",
        "  validation loss:\t\t0.016508\n",
        "Epoch 323 of 500 took 13.759s"
       ]
      },
      {
       "output_type": "stream",
       "stream": "stdout",
       "text": [
        "\n",
        "  training loss:\t\t0.016545\n",
        "  validation loss:\t\t0.016499\n",
        "Epoch 324 of 500 took 13.750s"
       ]
      },
      {
       "output_type": "stream",
       "stream": "stdout",
       "text": [
        "\n",
        "  training loss:\t\t0.016535\n",
        "  validation loss:\t\t0.016488\n",
        "Epoch 325 of 500 took 13.764s"
       ]
      },
      {
       "output_type": "stream",
       "stream": "stdout",
       "text": [
        "\n",
        "  training loss:\t\t0.016525\n",
        "  validation loss:\t\t0.016479\n",
        "Epoch 326 of 500 took 13.766s"
       ]
      },
      {
       "output_type": "stream",
       "stream": "stdout",
       "text": [
        "\n",
        "  training loss:\t\t0.016515\n",
        "  validation loss:\t\t0.016469\n",
        "Epoch 327 of 500 took 13.766s"
       ]
      },
      {
       "output_type": "stream",
       "stream": "stdout",
       "text": [
        "\n",
        "  training loss:\t\t0.016503\n",
        "  validation loss:\t\t0.016458\n",
        "Epoch 328 of 500 took 13.764s"
       ]
      },
      {
       "output_type": "stream",
       "stream": "stdout",
       "text": [
        "\n",
        "  training loss:\t\t0.016495\n",
        "  validation loss:\t\t0.016449\n",
        "Epoch 329 of 500 took 13.799s"
       ]
      },
      {
       "output_type": "stream",
       "stream": "stdout",
       "text": [
        "\n",
        "  training loss:\t\t0.016485\n",
        "  validation loss:\t\t0.016439\n",
        "Epoch 330 of 500 took 13.776s"
       ]
      },
      {
       "output_type": "stream",
       "stream": "stdout",
       "text": [
        "\n",
        "  training loss:\t\t0.016475\n",
        "  validation loss:\t\t0.016431\n",
        "Epoch 331 of 500 took 13.781s"
       ]
      },
      {
       "output_type": "stream",
       "stream": "stdout",
       "text": [
        "\n",
        "  training loss:\t\t0.016467\n",
        "  validation loss:\t\t0.016419\n",
        "Epoch 332 of 500 took 13.766s"
       ]
      },
      {
       "output_type": "stream",
       "stream": "stdout",
       "text": [
        "\n",
        "  training loss:\t\t0.016456\n",
        "  validation loss:\t\t0.016410\n",
        "Epoch 333 of 500 took 13.758s"
       ]
      },
      {
       "output_type": "stream",
       "stream": "stdout",
       "text": [
        "\n",
        "  training loss:\t\t0.016445\n",
        "  validation loss:\t\t0.016400\n",
        "Epoch 334 of 500 took 13.770s"
       ]
      },
      {
       "output_type": "stream",
       "stream": "stdout",
       "text": [
        "\n",
        "  training loss:\t\t0.016435\n",
        "  validation loss:\t\t0.016392\n",
        "Epoch 335 of 500 took 13.766s"
       ]
      },
      {
       "output_type": "stream",
       "stream": "stdout",
       "text": [
        "\n",
        "  training loss:\t\t0.016427\n",
        "  validation loss:\t\t0.016383\n",
        "Epoch 336 of 500 took 13.769s"
       ]
      },
      {
       "output_type": "stream",
       "stream": "stdout",
       "text": [
        "\n",
        "  training loss:\t\t0.016419\n",
        "  validation loss:\t\t0.016375\n",
        "Epoch 337 of 500 took 13.768s"
       ]
      },
      {
       "output_type": "stream",
       "stream": "stdout",
       "text": [
        "\n",
        "  training loss:\t\t0.016410\n",
        "  validation loss:\t\t0.016366\n",
        "Epoch 338 of 500 took 13.760s"
       ]
      },
      {
       "output_type": "stream",
       "stream": "stdout",
       "text": [
        "\n",
        "  training loss:\t\t0.016401\n",
        "  validation loss:\t\t0.016357\n",
        "Epoch 339 of 500 took 13.772s"
       ]
      },
      {
       "output_type": "stream",
       "stream": "stdout",
       "text": [
        "\n",
        "  training loss:\t\t0.016391\n",
        "  validation loss:\t\t0.016349\n",
        "Epoch 340 of 500 took 13.758s"
       ]
      },
      {
       "output_type": "stream",
       "stream": "stdout",
       "text": [
        "\n",
        "  training loss:\t\t0.016382\n",
        "  validation loss:\t\t0.016339\n",
        "Epoch 341 of 500 took 13.760s"
       ]
      },
      {
       "output_type": "stream",
       "stream": "stdout",
       "text": [
        "\n",
        "  training loss:\t\t0.016372\n",
        "  validation loss:\t\t0.016332\n",
        "Epoch 342 of 500 took 13.758s"
       ]
      },
      {
       "output_type": "stream",
       "stream": "stdout",
       "text": [
        "\n",
        "  training loss:\t\t0.016364\n",
        "  validation loss:\t\t0.016321\n",
        "Epoch 343 of 500 took 13.765s"
       ]
      },
      {
       "output_type": "stream",
       "stream": "stdout",
       "text": [
        "\n",
        "  training loss:\t\t0.016354\n",
        "  validation loss:\t\t0.016311\n",
        "Epoch 344 of 500 took 13.765s"
       ]
      },
      {
       "output_type": "stream",
       "stream": "stdout",
       "text": [
        "\n",
        "  training loss:\t\t0.016344\n",
        "  validation loss:\t\t0.016304\n",
        "Epoch 345 of 500 took 13.756s"
       ]
      },
      {
       "output_type": "stream",
       "stream": "stdout",
       "text": [
        "\n",
        "  training loss:\t\t0.016336\n",
        "  validation loss:\t\t0.016295\n",
        "Epoch 346 of 500 took 13.769s"
       ]
      },
      {
       "output_type": "stream",
       "stream": "stdout",
       "text": [
        "\n",
        "  training loss:\t\t0.016327\n",
        "  validation loss:\t\t0.016286\n",
        "Epoch 347 of 500 took 13.760s"
       ]
      },
      {
       "output_type": "stream",
       "stream": "stdout",
       "text": [
        "\n",
        "  training loss:\t\t0.016318\n",
        "  validation loss:\t\t0.016278\n",
        "Epoch 348 of 500 took 13.779s"
       ]
      },
      {
       "output_type": "stream",
       "stream": "stdout",
       "text": [
        "\n",
        "  training loss:\t\t0.016310\n",
        "  validation loss:\t\t0.016269\n",
        "Epoch 349 of 500 took 13.764s"
       ]
      },
      {
       "output_type": "stream",
       "stream": "stdout",
       "text": [
        "\n",
        "  training loss:\t\t0.016300\n",
        "  validation loss:\t\t0.016260\n",
        "Epoch 350 of 500 took 13.764s"
       ]
      },
      {
       "output_type": "stream",
       "stream": "stdout",
       "text": [
        "\n",
        "  training loss:\t\t0.016292\n",
        "  validation loss:\t\t0.016252\n",
        "Epoch 351 of 500 took 13.752s"
       ]
      },
      {
       "output_type": "stream",
       "stream": "stdout",
       "text": [
        "\n",
        "  training loss:\t\t0.016283\n",
        "  validation loss:\t\t0.016246\n",
        "Epoch 352 of 500 took 13.763s"
       ]
      },
      {
       "output_type": "stream",
       "stream": "stdout",
       "text": [
        "\n",
        "  training loss:\t\t0.016275\n",
        "  validation loss:\t\t0.016238\n",
        "Epoch 353 of 500 took 13.755s"
       ]
      },
      {
       "output_type": "stream",
       "stream": "stdout",
       "text": [
        "\n",
        "  training loss:\t\t0.016266\n",
        "  validation loss:\t\t0.016229\n",
        "Epoch 354 of 500 took 13.759s"
       ]
      },
      {
       "output_type": "stream",
       "stream": "stdout",
       "text": [
        "\n",
        "  training loss:\t\t0.016259\n",
        "  validation loss:\t\t0.016220\n",
        "Epoch 355 of 500 took 13.754s"
       ]
      },
      {
       "output_type": "stream",
       "stream": "stdout",
       "text": [
        "\n",
        "  training loss:\t\t0.016248\n",
        "  validation loss:\t\t0.016212\n",
        "Epoch 356 of 500 took 13.782s"
       ]
      },
      {
       "output_type": "stream",
       "stream": "stdout",
       "text": [
        "\n",
        "  training loss:\t\t0.016239\n",
        "  validation loss:\t\t0.016204\n",
        "Epoch 357 of 500 took 13.756s"
       ]
      },
      {
       "output_type": "stream",
       "stream": "stdout",
       "text": [
        "\n",
        "  training loss:\t\t0.016231\n",
        "  validation loss:\t\t0.016196\n",
        "Epoch 358 of 500 took 13.767s"
       ]
      },
      {
       "output_type": "stream",
       "stream": "stdout",
       "text": [
        "\n",
        "  training loss:\t\t0.016222\n",
        "  validation loss:\t\t0.016188\n",
        "Epoch 359 of 500 took 13.753s"
       ]
      },
      {
       "output_type": "stream",
       "stream": "stdout",
       "text": [
        "\n",
        "  training loss:\t\t0.016214\n",
        "  validation loss:\t\t0.016182\n",
        "Epoch 360 of 500 took 13.757s"
       ]
      },
      {
       "output_type": "stream",
       "stream": "stdout",
       "text": [
        "\n",
        "  training loss:\t\t0.016207\n",
        "  validation loss:\t\t0.016174\n",
        "Epoch 361 of 500 took 13.776s"
       ]
      },
      {
       "output_type": "stream",
       "stream": "stdout",
       "text": [
        "\n",
        "  training loss:\t\t0.016197\n",
        "  validation loss:\t\t0.016167\n",
        "Epoch 362 of 500 took 13.764s"
       ]
      },
      {
       "output_type": "stream",
       "stream": "stdout",
       "text": [
        "\n",
        "  training loss:\t\t0.016189\n",
        "  validation loss:\t\t0.016159\n",
        "Epoch 363 of 500 took 13.773s"
       ]
      },
      {
       "output_type": "stream",
       "stream": "stdout",
       "text": [
        "\n",
        "  training loss:\t\t0.016180\n",
        "  validation loss:\t\t0.016151\n",
        "Epoch 364 of 500 took 13.762s"
       ]
      },
      {
       "output_type": "stream",
       "stream": "stdout",
       "text": [
        "\n",
        "  training loss:\t\t0.016171\n",
        "  validation loss:\t\t0.016143\n",
        "Epoch 365 of 500 took 13.768s"
       ]
      },
      {
       "output_type": "stream",
       "stream": "stdout",
       "text": [
        "\n",
        "  training loss:\t\t0.016162\n",
        "  validation loss:\t\t0.016133\n",
        "Epoch 366 of 500 took 13.768s"
       ]
      },
      {
       "output_type": "stream",
       "stream": "stdout",
       "text": [
        "\n",
        "  training loss:\t\t0.016153\n",
        "  validation loss:\t\t0.016125\n",
        "Epoch 367 of 500 took 13.759s"
       ]
      },
      {
       "output_type": "stream",
       "stream": "stdout",
       "text": [
        "\n",
        "  training loss:\t\t0.016144\n",
        "  validation loss:\t\t0.016118\n",
        "Epoch 368 of 500 took 13.755s"
       ]
      },
      {
       "output_type": "stream",
       "stream": "stdout",
       "text": [
        "\n",
        "  training loss:\t\t0.016139\n",
        "  validation loss:\t\t0.016110\n",
        "Epoch 369 of 500 took 13.758s"
       ]
      },
      {
       "output_type": "stream",
       "stream": "stdout",
       "text": [
        "\n",
        "  training loss:\t\t0.016130\n",
        "  validation loss:\t\t0.016100\n",
        "Epoch 370 of 500 took 13.783s"
       ]
      },
      {
       "output_type": "stream",
       "stream": "stdout",
       "text": [
        "\n",
        "  training loss:\t\t0.016121\n",
        "  validation loss:\t\t0.016095\n",
        "Epoch 371 of 500 took 13.755s"
       ]
      },
      {
       "output_type": "stream",
       "stream": "stdout",
       "text": [
        "\n",
        "  training loss:\t\t0.016115\n",
        "  validation loss:\t\t0.016090\n",
        "Epoch 372 of 500 took 13.757s"
       ]
      },
      {
       "output_type": "stream",
       "stream": "stdout",
       "text": [
        "\n",
        "  training loss:\t\t0.016107\n",
        "  validation loss:\t\t0.016080\n",
        "Epoch 373 of 500 took 13.753s"
       ]
      },
      {
       "output_type": "stream",
       "stream": "stdout",
       "text": [
        "\n",
        "  training loss:\t\t0.016096\n",
        "  validation loss:\t\t0.016073\n",
        "Epoch 374 of 500 took 13.781s"
       ]
      },
      {
       "output_type": "stream",
       "stream": "stdout",
       "text": [
        "\n",
        "  training loss:\t\t0.016090\n",
        "  validation loss:\t\t0.016065\n",
        "Epoch 375 of 500 took 13.777s"
       ]
      },
      {
       "output_type": "stream",
       "stream": "stdout",
       "text": [
        "\n",
        "  training loss:\t\t0.016083\n",
        "  validation loss:\t\t0.016056\n",
        "Epoch 376 of 500 took 13.768s"
       ]
      },
      {
       "output_type": "stream",
       "stream": "stdout",
       "text": [
        "\n",
        "  training loss:\t\t0.016075\n",
        "  validation loss:\t\t0.016049\n",
        "Epoch 377 of 500 took 13.760s"
       ]
      },
      {
       "output_type": "stream",
       "stream": "stdout",
       "text": [
        "\n",
        "  training loss:\t\t0.016069\n",
        "  validation loss:\t\t0.016041\n",
        "Epoch 378 of 500 took 13.759s"
       ]
      },
      {
       "output_type": "stream",
       "stream": "stdout",
       "text": [
        "\n",
        "  training loss:\t\t0.016060\n",
        "  validation loss:\t\t0.016033\n",
        "Epoch 379 of 500 took 13.760s"
       ]
      },
      {
       "output_type": "stream",
       "stream": "stdout",
       "text": [
        "\n",
        "  training loss:\t\t0.016052\n",
        "  validation loss:\t\t0.016026\n",
        "Epoch 380 of 500 took 13.764s"
       ]
      },
      {
       "output_type": "stream",
       "stream": "stdout",
       "text": [
        "\n",
        "  training loss:\t\t0.016043\n",
        "  validation loss:\t\t0.016018\n",
        "Epoch 381 of 500 took 13.756s"
       ]
      },
      {
       "output_type": "stream",
       "stream": "stdout",
       "text": [
        "\n",
        "  training loss:\t\t0.016036\n",
        "  validation loss:\t\t0.016011\n",
        "Epoch 382 of 500 took 13.761s"
       ]
      },
      {
       "output_type": "stream",
       "stream": "stdout",
       "text": [
        "\n",
        "  training loss:\t\t0.016028\n",
        "  validation loss:\t\t0.016004\n",
        "Epoch 383 of 500 took 13.778s"
       ]
      },
      {
       "output_type": "stream",
       "stream": "stdout",
       "text": [
        "\n",
        "  training loss:\t\t0.016021\n",
        "  validation loss:\t\t0.015997\n",
        "Epoch 384 of 500 took 13.756s"
       ]
      },
      {
       "output_type": "stream",
       "stream": "stdout",
       "text": [
        "\n",
        "  training loss:\t\t0.016013\n",
        "  validation loss:\t\t0.015991\n",
        "Epoch 385 of 500 took 13.880s"
       ]
      },
      {
       "output_type": "stream",
       "stream": "stdout",
       "text": [
        "\n",
        "  training loss:\t\t0.016006\n",
        "  validation loss:\t\t0.015982\n",
        "Epoch 386 of 500 took 13.763s"
       ]
      },
      {
       "output_type": "stream",
       "stream": "stdout",
       "text": [
        "\n",
        "  training loss:\t\t0.015996\n",
        "  validation loss:\t\t0.015974\n",
        "Epoch 387 of 500 took 13.767s"
       ]
      },
      {
       "output_type": "stream",
       "stream": "stdout",
       "text": [
        "\n",
        "  training loss:\t\t0.015988\n",
        "  validation loss:\t\t0.015967\n",
        "Epoch 388 of 500 took 13.753s"
       ]
      },
      {
       "output_type": "stream",
       "stream": "stdout",
       "text": [
        "\n",
        "  training loss:\t\t0.015982\n",
        "  validation loss:\t\t0.015960\n",
        "Epoch 389 of 500 took 13.768s"
       ]
      },
      {
       "output_type": "stream",
       "stream": "stdout",
       "text": [
        "\n",
        "  training loss:\t\t0.015974\n",
        "  validation loss:\t\t0.015953\n",
        "Epoch 390 of 500 took 13.768s"
       ]
      },
      {
       "output_type": "stream",
       "stream": "stdout",
       "text": [
        "\n",
        "  training loss:\t\t0.015964\n",
        "  validation loss:\t\t0.015948\n",
        "Epoch 391 of 500 took 13.776s"
       ]
      },
      {
       "output_type": "stream",
       "stream": "stdout",
       "text": [
        "\n",
        "  training loss:\t\t0.015958\n",
        "  validation loss:\t\t0.015939\n",
        "Epoch 392 of 500 took 13.773s"
       ]
      },
      {
       "output_type": "stream",
       "stream": "stdout",
       "text": [
        "\n",
        "  training loss:\t\t0.015950\n",
        "  validation loss:\t\t0.015933\n",
        "Epoch 393 of 500 took 13.765s"
       ]
      },
      {
       "output_type": "stream",
       "stream": "stdout",
       "text": [
        "\n",
        "  training loss:\t\t0.015942\n",
        "  validation loss:\t\t0.015928\n",
        "Epoch 394 of 500 took 13.761s"
       ]
      },
      {
       "output_type": "stream",
       "stream": "stdout",
       "text": [
        "\n",
        "  training loss:\t\t0.015936\n",
        "  validation loss:\t\t0.015921\n",
        "Epoch 395 of 500 took 13.799s"
       ]
      },
      {
       "output_type": "stream",
       "stream": "stdout",
       "text": [
        "\n",
        "  training loss:\t\t0.015927\n",
        "  validation loss:\t\t0.015912\n",
        "Epoch 396 of 500 took 13.767s"
       ]
      },
      {
       "output_type": "stream",
       "stream": "stdout",
       "text": [
        "\n",
        "  training loss:\t\t0.015919\n",
        "  validation loss:\t\t0.015906\n",
        "Epoch 397 of 500 took 13.807s"
       ]
      },
      {
       "output_type": "stream",
       "stream": "stdout",
       "text": [
        "\n",
        "  training loss:\t\t0.015912\n",
        "  validation loss:\t\t0.015897\n",
        "Epoch 398 of 500 took 13.794s"
       ]
      },
      {
       "output_type": "stream",
       "stream": "stdout",
       "text": [
        "\n",
        "  training loss:\t\t0.015904\n",
        "  validation loss:\t\t0.015891\n",
        "Epoch 399 of 500 took 13.758s"
       ]
      },
      {
       "output_type": "stream",
       "stream": "stdout",
       "text": [
        "\n",
        "  training loss:\t\t0.015898\n",
        "  validation loss:\t\t0.015884\n",
        "Epoch 400 of 500 took 13.769s"
       ]
      },
      {
       "output_type": "stream",
       "stream": "stdout",
       "text": [
        "\n",
        "  training loss:\t\t0.015890\n",
        "  validation loss:\t\t0.015879\n",
        "Epoch 401 of 500 took 13.763s"
       ]
      },
      {
       "output_type": "stream",
       "stream": "stdout",
       "text": [
        "\n",
        "  training loss:\t\t0.015883\n",
        "  validation loss:\t\t0.015872\n",
        "Epoch 402 of 500 took 13.766s"
       ]
      },
      {
       "output_type": "stream",
       "stream": "stdout",
       "text": [
        "\n",
        "  training loss:\t\t0.015874\n",
        "  validation loss:\t\t0.015863\n",
        "Epoch 403 of 500 took 13.766s"
       ]
      },
      {
       "output_type": "stream",
       "stream": "stdout",
       "text": [
        "\n",
        "  training loss:\t\t0.015868\n",
        "  validation loss:\t\t0.015858\n",
        "Epoch 404 of 500 took 13.768s"
       ]
      },
      {
       "output_type": "stream",
       "stream": "stdout",
       "text": [
        "\n",
        "  training loss:\t\t0.015861\n",
        "  validation loss:\t\t0.015852\n",
        "Epoch 405 of 500 took 13.762s"
       ]
      },
      {
       "output_type": "stream",
       "stream": "stdout",
       "text": [
        "\n",
        "  training loss:\t\t0.015852\n",
        "  validation loss:\t\t0.015846\n",
        "Epoch 406 of 500 took 13.765s"
       ]
      },
      {
       "output_type": "stream",
       "stream": "stdout",
       "text": [
        "\n",
        "  training loss:\t\t0.015846\n",
        "  validation loss:\t\t0.015839\n",
        "Epoch 407 of 500 took 13.768s"
       ]
      },
      {
       "output_type": "stream",
       "stream": "stdout",
       "text": [
        "\n",
        "  training loss:\t\t0.015838\n",
        "  validation loss:\t\t0.015831\n",
        "Epoch 408 of 500 took 13.754s"
       ]
      },
      {
       "output_type": "stream",
       "stream": "stdout",
       "text": [
        "\n",
        "  training loss:\t\t0.015830\n",
        "  validation loss:\t\t0.015823\n",
        "Epoch 409 of 500 took 13.768s"
       ]
      },
      {
       "output_type": "stream",
       "stream": "stdout",
       "text": [
        "\n",
        "  training loss:\t\t0.015824\n",
        "  validation loss:\t\t0.015816\n",
        "Epoch 410 of 500 took 13.759s"
       ]
      },
      {
       "output_type": "stream",
       "stream": "stdout",
       "text": [
        "\n",
        "  training loss:\t\t0.015816\n",
        "  validation loss:\t\t0.015809\n",
        "Epoch 411 of 500 took 13.765s"
       ]
      },
      {
       "output_type": "stream",
       "stream": "stdout",
       "text": [
        "\n",
        "  training loss:\t\t0.015810\n",
        "  validation loss:\t\t0.015802\n",
        "Epoch 412 of 500 took 13.769s"
       ]
      },
      {
       "output_type": "stream",
       "stream": "stdout",
       "text": [
        "\n",
        "  training loss:\t\t0.015803\n",
        "  validation loss:\t\t0.015798\n",
        "Epoch 413 of 500 took 13.763s"
       ]
      },
      {
       "output_type": "stream",
       "stream": "stdout",
       "text": [
        "\n",
        "  training loss:\t\t0.015796\n",
        "  validation loss:\t\t0.015791\n",
        "Epoch 414 of 500 took 13.751s"
       ]
      },
      {
       "output_type": "stream",
       "stream": "stdout",
       "text": [
        "\n",
        "  training loss:\t\t0.015789\n",
        "  validation loss:\t\t0.015782\n",
        "Epoch 415 of 500 took 13.768s"
       ]
      },
      {
       "output_type": "stream",
       "stream": "stdout",
       "text": [
        "\n",
        "  training loss:\t\t0.015780\n",
        "  validation loss:\t\t0.015774\n",
        "Epoch 416 of 500 took 13.750s"
       ]
      },
      {
       "output_type": "stream",
       "stream": "stdout",
       "text": [
        "\n",
        "  training loss:\t\t0.015774\n",
        "  validation loss:\t\t0.015768\n",
        "Epoch 417 of 500 took 13.772s"
       ]
      },
      {
       "output_type": "stream",
       "stream": "stdout",
       "text": [
        "\n",
        "  training loss:\t\t0.015768\n",
        "  validation loss:\t\t0.015761\n",
        "Epoch 418 of 500 took 13.771s"
       ]
      },
      {
       "output_type": "stream",
       "stream": "stdout",
       "text": [
        "\n",
        "  training loss:\t\t0.015761\n",
        "  validation loss:\t\t0.015752\n",
        "Epoch 419 of 500 took 13.775s"
       ]
      },
      {
       "output_type": "stream",
       "stream": "stdout",
       "text": [
        "\n",
        "  training loss:\t\t0.015754\n",
        "  validation loss:\t\t0.015744\n",
        "Epoch 420 of 500 took 13.785s"
       ]
      },
      {
       "output_type": "stream",
       "stream": "stdout",
       "text": [
        "\n",
        "  training loss:\t\t0.015747\n",
        "  validation loss:\t\t0.015738\n",
        "Epoch 421 of 500 took 13.754s"
       ]
      },
      {
       "output_type": "stream",
       "stream": "stdout",
       "text": [
        "\n",
        "  training loss:\t\t0.015740\n",
        "  validation loss:\t\t0.015732\n",
        "Epoch 422 of 500 took 13.766s"
       ]
      },
      {
       "output_type": "stream",
       "stream": "stdout",
       "text": [
        "\n",
        "  training loss:\t\t0.015734\n",
        "  validation loss:\t\t0.015725\n",
        "Epoch 423 of 500 took 13.758s"
       ]
      },
      {
       "output_type": "stream",
       "stream": "stdout",
       "text": [
        "\n",
        "  training loss:\t\t0.015726\n",
        "  validation loss:\t\t0.015718\n",
        "Epoch 424 of 500 took 13.768s"
       ]
      },
      {
       "output_type": "stream",
       "stream": "stdout",
       "text": [
        "\n",
        "  training loss:\t\t0.015718\n",
        "  validation loss:\t\t0.015712\n",
        "Epoch 425 of 500 took 13.753s"
       ]
      },
      {
       "output_type": "stream",
       "stream": "stdout",
       "text": [
        "\n",
        "  training loss:\t\t0.015711\n",
        "  validation loss:\t\t0.015704\n",
        "Epoch 426 of 500 took 13.761s"
       ]
      },
      {
       "output_type": "stream",
       "stream": "stdout",
       "text": [
        "\n",
        "  training loss:\t\t0.015705\n",
        "  validation loss:\t\t0.015699\n",
        "Epoch 427 of 500 took 13.775s"
       ]
      },
      {
       "output_type": "stream",
       "stream": "stdout",
       "text": [
        "\n",
        "  training loss:\t\t0.015699\n",
        "  validation loss:\t\t0.015692\n",
        "Epoch 428 of 500 took 13.760s"
       ]
      },
      {
       "output_type": "stream",
       "stream": "stdout",
       "text": [
        "\n",
        "  training loss:\t\t0.015692\n",
        "  validation loss:\t\t0.015686\n",
        "Epoch 429 of 500 took 13.756s"
       ]
      },
      {
       "output_type": "stream",
       "stream": "stdout",
       "text": [
        "\n",
        "  training loss:\t\t0.015686\n",
        "  validation loss:\t\t0.015679\n",
        "Epoch 430 of 500 took 13.771s"
       ]
      },
      {
       "output_type": "stream",
       "stream": "stdout",
       "text": [
        "\n",
        "  training loss:\t\t0.015679\n",
        "  validation loss:\t\t0.015671\n",
        "Epoch 431 of 500 took 13.750s"
       ]
      },
      {
       "output_type": "stream",
       "stream": "stdout",
       "text": [
        "\n",
        "  training loss:\t\t0.015671\n",
        "  validation loss:\t\t0.015666\n",
        "Epoch 432 of 500 took 13.759s"
       ]
      },
      {
       "output_type": "stream",
       "stream": "stdout",
       "text": [
        "\n",
        "  training loss:\t\t0.015665\n",
        "  validation loss:\t\t0.015662\n",
        "Epoch 433 of 500 took 13.749s"
       ]
      },
      {
       "output_type": "stream",
       "stream": "stdout",
       "text": [
        "\n",
        "  training loss:\t\t0.015660\n",
        "  validation loss:\t\t0.015654\n",
        "Epoch 434 of 500 took 13.753s"
       ]
      },
      {
       "output_type": "stream",
       "stream": "stdout",
       "text": [
        "\n",
        "  training loss:\t\t0.015652\n",
        "  validation loss:\t\t0.015647\n",
        "Epoch 435 of 500 took 13.761s"
       ]
      },
      {
       "output_type": "stream",
       "stream": "stdout",
       "text": [
        "\n",
        "  training loss:\t\t0.015645\n",
        "  validation loss:\t\t0.015642\n",
        "Epoch 436 of 500 took 13.765s"
       ]
      },
      {
       "output_type": "stream",
       "stream": "stdout",
       "text": [
        "\n",
        "  training loss:\t\t0.015638\n",
        "  validation loss:\t\t0.015636\n",
        "Epoch 437 of 500 took 13.755s"
       ]
      },
      {
       "output_type": "stream",
       "stream": "stdout",
       "text": [
        "\n",
        "  training loss:\t\t0.015630\n",
        "  validation loss:\t\t0.015629\n",
        "Epoch 438 of 500 took 13.757s"
       ]
      },
      {
       "output_type": "stream",
       "stream": "stdout",
       "text": [
        "\n",
        "  training loss:\t\t0.015624\n",
        "  validation loss:\t\t0.015624\n",
        "Epoch 439 of 500 took 13.759s"
       ]
      },
      {
       "output_type": "stream",
       "stream": "stdout",
       "text": [
        "\n",
        "  training loss:\t\t0.015619\n",
        "  validation loss:\t\t0.015617\n",
        "Epoch 440 of 500 took 13.771s"
       ]
      },
      {
       "output_type": "stream",
       "stream": "stdout",
       "text": [
        "\n",
        "  training loss:\t\t0.015609\n",
        "  validation loss:\t\t0.015610\n",
        "Epoch 441 of 500 took 13.770s"
       ]
      },
      {
       "output_type": "stream",
       "stream": "stdout",
       "text": [
        "\n",
        "  training loss:\t\t0.015605\n",
        "  validation loss:\t\t0.015605\n",
        "Epoch 442 of 500 took 13.768s"
       ]
      },
      {
       "output_type": "stream",
       "stream": "stdout",
       "text": [
        "\n",
        "  training loss:\t\t0.015599\n",
        "  validation loss:\t\t0.015598\n",
        "Epoch 443 of 500 took 13.762s"
       ]
      },
      {
       "output_type": "stream",
       "stream": "stdout",
       "text": [
        "\n",
        "  training loss:\t\t0.015593\n",
        "  validation loss:\t\t0.015592\n",
        "Epoch 444 of 500 took 13.768s"
       ]
      },
      {
       "output_type": "stream",
       "stream": "stdout",
       "text": [
        "\n",
        "  training loss:\t\t0.015585\n",
        "  validation loss:\t\t0.015585\n",
        "Epoch 445 of 500 took 13.769s"
       ]
      },
      {
       "output_type": "stream",
       "stream": "stdout",
       "text": [
        "\n",
        "  training loss:\t\t0.015579\n",
        "  validation loss:\t\t0.015578\n",
        "Epoch 446 of 500 took 13.759s"
       ]
      },
      {
       "output_type": "stream",
       "stream": "stdout",
       "text": [
        "\n",
        "  training loss:\t\t0.015573\n",
        "  validation loss:\t\t0.015573\n",
        "Epoch 447 of 500 took 13.759s"
       ]
      },
      {
       "output_type": "stream",
       "stream": "stdout",
       "text": [
        "\n",
        "  training loss:\t\t0.015566\n",
        "  validation loss:\t\t0.015566\n",
        "Epoch 448 of 500 took 13.764s"
       ]
      },
      {
       "output_type": "stream",
       "stream": "stdout",
       "text": [
        "\n",
        "  training loss:\t\t0.015560\n",
        "  validation loss:\t\t0.015561\n",
        "Epoch 449 of 500 took 13.759s"
       ]
      },
      {
       "output_type": "stream",
       "stream": "stdout",
       "text": [
        "\n",
        "  training loss:\t\t0.015555\n",
        "  validation loss:\t\t0.015555\n",
        "Epoch 450 of 500 took 13.762s"
       ]
      },
      {
       "output_type": "stream",
       "stream": "stdout",
       "text": [
        "\n",
        "  training loss:\t\t0.015549\n",
        "  validation loss:\t\t0.015550\n",
        "Epoch 451 of 500 took 13.759s"
       ]
      },
      {
       "output_type": "stream",
       "stream": "stdout",
       "text": [
        "\n",
        "  training loss:\t\t0.015543\n",
        "  validation loss:\t\t0.015545\n",
        "Epoch 452 of 500 took 13.756s"
       ]
      },
      {
       "output_type": "stream",
       "stream": "stdout",
       "text": [
        "\n",
        "  training loss:\t\t0.015537\n",
        "  validation loss:\t\t0.015538\n",
        "Epoch 453 of 500 took 13.769s"
       ]
      },
      {
       "output_type": "stream",
       "stream": "stdout",
       "text": [
        "\n",
        "  training loss:\t\t0.015529\n",
        "  validation loss:\t\t0.015530\n",
        "Epoch 454 of 500 took 13.763s"
       ]
      },
      {
       "output_type": "stream",
       "stream": "stdout",
       "text": [
        "\n",
        "  training loss:\t\t0.015523\n",
        "  validation loss:\t\t0.015526\n",
        "Epoch 455 of 500 took 13.765s"
       ]
      },
      {
       "output_type": "stream",
       "stream": "stdout",
       "text": [
        "\n",
        "  training loss:\t\t0.015518\n",
        "  validation loss:\t\t0.015521\n",
        "Epoch 456 of 500 took 13.776s"
       ]
      },
      {
       "output_type": "stream",
       "stream": "stdout",
       "text": [
        "\n",
        "  training loss:\t\t0.015512\n",
        "  validation loss:\t\t0.015514\n",
        "Epoch 457 of 500 took 13.757s"
       ]
      },
      {
       "output_type": "stream",
       "stream": "stdout",
       "text": [
        "\n",
        "  training loss:\t\t0.015505\n",
        "  validation loss:\t\t0.015508\n",
        "Epoch 458 of 500 took 13.768s"
       ]
      },
      {
       "output_type": "stream",
       "stream": "stdout",
       "text": [
        "\n",
        "  training loss:\t\t0.015500\n",
        "  validation loss:\t\t0.015501\n",
        "Epoch 459 of 500 took 13.754s"
       ]
      },
      {
       "output_type": "stream",
       "stream": "stdout",
       "text": [
        "\n",
        "  training loss:\t\t0.015493\n",
        "  validation loss:\t\t0.015495\n",
        "Epoch 460 of 500 took 13.759s"
       ]
      },
      {
       "output_type": "stream",
       "stream": "stdout",
       "text": [
        "\n",
        "  training loss:\t\t0.015487\n",
        "  validation loss:\t\t0.015489\n",
        "Epoch 461 of 500 took 13.761s"
       ]
      },
      {
       "output_type": "stream",
       "stream": "stdout",
       "text": [
        "\n",
        "  training loss:\t\t0.015480\n",
        "  validation loss:\t\t0.015484\n",
        "Epoch 462 of 500 took 13.754s"
       ]
      },
      {
       "output_type": "stream",
       "stream": "stdout",
       "text": [
        "\n",
        "  training loss:\t\t0.015474\n",
        "  validation loss:\t\t0.015477\n",
        "Epoch 463 of 500 took 13.766s"
       ]
      },
      {
       "output_type": "stream",
       "stream": "stdout",
       "text": [
        "\n",
        "  training loss:\t\t0.015468\n",
        "  validation loss:\t\t0.015470\n",
        "Epoch 464 of 500 took 13.765s"
       ]
      },
      {
       "output_type": "stream",
       "stream": "stdout",
       "text": [
        "\n",
        "  training loss:\t\t0.015462\n",
        "  validation loss:\t\t0.015466\n",
        "Epoch 465 of 500 took 13.762s"
       ]
      },
      {
       "output_type": "stream",
       "stream": "stdout",
       "text": [
        "\n",
        "  training loss:\t\t0.015456\n",
        "  validation loss:\t\t0.015459\n",
        "Epoch 466 of 500 took 13.755s"
       ]
      },
      {
       "output_type": "stream",
       "stream": "stdout",
       "text": [
        "\n",
        "  training loss:\t\t0.015450\n",
        "  validation loss:\t\t0.015453\n",
        "Epoch 467 of 500 took 13.766s"
       ]
      },
      {
       "output_type": "stream",
       "stream": "stdout",
       "text": [
        "\n",
        "  training loss:\t\t0.015443\n",
        "  validation loss:\t\t0.015448\n",
        "Epoch 468 of 500 took 13.762s"
       ]
      },
      {
       "output_type": "stream",
       "stream": "stdout",
       "text": [
        "\n",
        "  training loss:\t\t0.015437\n",
        "  validation loss:\t\t0.015443\n",
        "Epoch 469 of 500 took 13.761s"
       ]
      },
      {
       "output_type": "stream",
       "stream": "stdout",
       "text": [
        "\n",
        "  training loss:\t\t0.015433\n",
        "  validation loss:\t\t0.015436\n",
        "Epoch 470 of 500 took 13.764s"
       ]
      },
      {
       "output_type": "stream",
       "stream": "stdout",
       "text": [
        "\n",
        "  training loss:\t\t0.015425\n",
        "  validation loss:\t\t0.015430\n",
        "Epoch 471 of 500 took 13.777s"
       ]
      },
      {
       "output_type": "stream",
       "stream": "stdout",
       "text": [
        "\n",
        "  training loss:\t\t0.015418\n",
        "  validation loss:\t\t0.015424\n",
        "Epoch 472 of 500 took 13.760s"
       ]
      },
      {
       "output_type": "stream",
       "stream": "stdout",
       "text": [
        "\n",
        "  training loss:\t\t0.015412\n",
        "  validation loss:\t\t0.015418\n",
        "Epoch 473 of 500 took 13.757s"
       ]
      },
      {
       "output_type": "stream",
       "stream": "stdout",
       "text": [
        "\n",
        "  training loss:\t\t0.015406\n",
        "  validation loss:\t\t0.015414\n",
        "Epoch 474 of 500 took 13.760s"
       ]
      },
      {
       "output_type": "stream",
       "stream": "stdout",
       "text": [
        "\n",
        "  training loss:\t\t0.015402\n",
        "  validation loss:\t\t0.015410\n",
        "Epoch 475 of 500 took 13.751s"
       ]
      },
      {
       "output_type": "stream",
       "stream": "stdout",
       "text": [
        "\n",
        "  training loss:\t\t0.015396\n",
        "  validation loss:\t\t0.015401\n",
        "Epoch 476 of 500 took 13.752s"
       ]
      },
      {
       "output_type": "stream",
       "stream": "stdout",
       "text": [
        "\n",
        "  training loss:\t\t0.015387\n",
        "  validation loss:\t\t0.015396\n",
        "Epoch 477 of 500 took 13.754s"
       ]
      },
      {
       "output_type": "stream",
       "stream": "stdout",
       "text": [
        "\n",
        "  training loss:\t\t0.015383\n",
        "  validation loss:\t\t0.015391\n",
        "Epoch 478 of 500 took 13.754s"
       ]
      },
      {
       "output_type": "stream",
       "stream": "stdout",
       "text": [
        "\n",
        "  training loss:\t\t0.015377\n",
        "  validation loss:\t\t0.015388\n",
        "Epoch 479 of 500 took 13.751s"
       ]
      },
      {
       "output_type": "stream",
       "stream": "stdout",
       "text": [
        "\n",
        "  training loss:\t\t0.015374\n",
        "  validation loss:\t\t0.015384\n",
        "Epoch 480 of 500 took 13.753s"
       ]
      },
      {
       "output_type": "stream",
       "stream": "stdout",
       "text": [
        "\n",
        "  training loss:\t\t0.015369\n",
        "  validation loss:\t\t0.015378\n",
        "Epoch 481 of 500 took 13.775s"
       ]
      },
      {
       "output_type": "stream",
       "stream": "stdout",
       "text": [
        "\n",
        "  training loss:\t\t0.015362\n",
        "  validation loss:\t\t0.015369\n",
        "Epoch 482 of 500 took 13.765s"
       ]
      },
      {
       "output_type": "stream",
       "stream": "stdout",
       "text": [
        "\n",
        "  training loss:\t\t0.015355\n",
        "  validation loss:\t\t0.015366\n",
        "Epoch 483 of 500 took 13.768s"
       ]
      },
      {
       "output_type": "stream",
       "stream": "stdout",
       "text": [
        "\n",
        "  training loss:\t\t0.015350\n",
        "  validation loss:\t\t0.015359\n",
        "Epoch 484 of 500 took 13.751s"
       ]
      },
      {
       "output_type": "stream",
       "stream": "stdout",
       "text": [
        "\n",
        "  training loss:\t\t0.015343\n",
        "  validation loss:\t\t0.015357\n",
        "Epoch 485 of 500 took 13.761s"
       ]
      },
      {
       "output_type": "stream",
       "stream": "stdout",
       "text": [
        "\n",
        "  training loss:\t\t0.015339\n",
        "  validation loss:\t\t0.015349\n",
        "Epoch 486 of 500 took 13.758s"
       ]
      },
      {
       "output_type": "stream",
       "stream": "stdout",
       "text": [
        "\n",
        "  training loss:\t\t0.015330\n",
        "  validation loss:\t\t0.015343\n",
        "Epoch 487 of 500 took 13.764s"
       ]
      },
      {
       "output_type": "stream",
       "stream": "stdout",
       "text": [
        "\n",
        "  training loss:\t\t0.015323\n",
        "  validation loss:\t\t0.015337\n",
        "Epoch 488 of 500 took 13.762s"
       ]
      },
      {
       "output_type": "stream",
       "stream": "stdout",
       "text": [
        "\n",
        "  training loss:\t\t0.015321\n",
        "  validation loss:\t\t0.015333\n",
        "Epoch 489 of 500 took 13.765s"
       ]
      },
      {
       "output_type": "stream",
       "stream": "stdout",
       "text": [
        "\n",
        "  training loss:\t\t0.015316\n",
        "  validation loss:\t\t0.015327\n",
        "Epoch 490 of 500 took 13.760s"
       ]
      },
      {
       "output_type": "stream",
       "stream": "stdout",
       "text": [
        "\n",
        "  training loss:\t\t0.015308\n",
        "  validation loss:\t\t0.015321\n",
        "Epoch 491 of 500 took 13.754s"
       ]
      },
      {
       "output_type": "stream",
       "stream": "stdout",
       "text": [
        "\n",
        "  training loss:\t\t0.015304\n",
        "  validation loss:\t\t0.015316\n",
        "Epoch 492 of 500 took 13.765s"
       ]
      },
      {
       "output_type": "stream",
       "stream": "stdout",
       "text": [
        "\n",
        "  training loss:\t\t0.015297\n",
        "  validation loss:\t\t0.015311\n",
        "Epoch 493 of 500 took 13.775s"
       ]
      },
      {
       "output_type": "stream",
       "stream": "stdout",
       "text": [
        "\n",
        "  training loss:\t\t0.015292\n",
        "  validation loss:\t\t0.015305\n",
        "Epoch 494 of 500 took 13.771s"
       ]
      },
      {
       "output_type": "stream",
       "stream": "stdout",
       "text": [
        "\n",
        "  training loss:\t\t0.015287\n",
        "  validation loss:\t\t0.015300\n",
        "Epoch 495 of 500 took 13.768s"
       ]
      },
      {
       "output_type": "stream",
       "stream": "stdout",
       "text": [
        "\n",
        "  training loss:\t\t0.015281\n",
        "  validation loss:\t\t0.015296\n",
        "Epoch 496 of 500 took 13.766s"
       ]
      },
      {
       "output_type": "stream",
       "stream": "stdout",
       "text": [
        "\n",
        "  training loss:\t\t0.015277\n",
        "  validation loss:\t\t0.015290\n",
        "Epoch 497 of 500 took 13.763s"
       ]
      },
      {
       "output_type": "stream",
       "stream": "stdout",
       "text": [
        "\n",
        "  training loss:\t\t0.015269\n",
        "  validation loss:\t\t0.015283\n",
        "Epoch 498 of 500 took 13.770s"
       ]
      },
      {
       "output_type": "stream",
       "stream": "stdout",
       "text": [
        "\n",
        "  training loss:\t\t0.015262\n",
        "  validation loss:\t\t0.015279\n",
        "Epoch 499 of 500 took 13.757s"
       ]
      },
      {
       "output_type": "stream",
       "stream": "stdout",
       "text": [
        "\n",
        "  training loss:\t\t0.015259\n",
        "  validation loss:\t\t0.015275\n",
        "Epoch 500 of 500 took 13.760s"
       ]
      },
      {
       "output_type": "stream",
       "stream": "stdout",
       "text": [
        "\n",
        "  training loss:\t\t0.015253\n",
        "  validation loss:\t\t0.015267\n",
        "Final results:"
       ]
      },
      {
       "output_type": "stream",
       "stream": "stdout",
       "text": [
        "\n",
        "  test loss:\t\t\t0.015077\n"
       ]
      }
     ],
     "prompt_number": 62
    },
    {
     "cell_type": "code",
     "collapsed": false,
     "input": [
      "def get_picture_array(X, index, shp=(28,28),channels=1):\n",
      "    ret = ((X[index]+0.5)*255.).reshape(channels,shp[0],shp[1]) \\\n",
      "        .transpose(2,1,0).clip(0,255).astype(np.uint8)\n",
      "    if channels == 1:\n",
      "        ret=ret.reshape(shp[1],shp[0])\n",
      "    return ret\n",
      "\n",
      "\n",
      "def get_image_pair(X, Xpr,channels=1,idx=-1):\n",
      "    mode = 'RGB' if channels == 3 else 'L'\n",
      "    index = prng.randint(X.shape[0]) if idx == -1 else idx\n",
      "    shp=X[0][0].shape\n",
      "    original_image = Image.fromarray(get_picture_array(X, index,shp,channels),mode=mode)\n",
      "    new_size = (original_image.size[0], original_image.size[1]*2)\n",
      "    new_im = Image.new(mode, new_size)\n",
      "    new_im.paste(original_image, (0,0))\n",
      "    rec_image = Image.fromarray(get_picture_array(Xpr, index,shp,channels),mode=mode)\n",
      "    new_im.paste(rec_image, (0,original_image.size[1]))\n",
      "    return new_im\n",
      "        \n",
      "def test_network2():\n",
      "    print(\"load data\")\n",
      "    inp = T.tensor4('inputs')\n",
      "    w,h=X_train.shape[2],X_train.shape[3]\n",
      "    print(\"Build network\")\n",
      "    network = build_cnn(inp)\n",
      "    print(\"Loading parameters\")\n",
      "    with np.load('model.npz') as f:                                                                                                                                                                       \n",
      "        param_values = [f['arr_%d' % i] for i in range(len(f.files))]                                                                                                                                     \n",
      "        lasagne.layers.set_all_param_values(network, param_values) \n",
      "    print(\"Parameters loaded\")\n",
      "    pr = []\n",
      "    pr.append(lasagne.layers.get_output(network, X_train[0:100]).eval().reshape(-1,1,w,h))\n",
      "    pr = np.vstack(pr).reshape(-1, 1, w, h)\n",
      "    for i in range(pr.shape[0]):\n",
      "        get_image_pair(X_train[0:100], pr,channels=1,idx=i).save('output/frame_{}.jpg'.format(i))"
     ],
     "language": "python",
     "metadata": {},
     "outputs": [],
     "prompt_number": 63
    },
    {
     "cell_type": "code",
     "collapsed": false,
     "input": [
      "test_network2()"
     ],
     "language": "python",
     "metadata": {},
     "outputs": [
      {
       "output_type": "stream",
       "stream": "stdout",
       "text": [
        "load data\n",
        "Build network\n",
        "Loading parameters\n",
        "Parameters loaded\n"
       ]
      }
     ],
     "prompt_number": 64
    },
    {
     "cell_type": "code",
     "collapsed": false,
     "input": [
      "photo = plt.imread('output/frame_2.jpg')\n",
      "plt.imshow(photo)"
     ],
     "language": "python",
     "metadata": {},
     "outputs": [
      {
       "metadata": {},
       "output_type": "pyout",
       "prompt_number": 72,
       "text": [
        "<matplotlib.image.AxesImage at 0x7fe0bb5f3250>"
       ]
      },
      {
       "metadata": {},
       "output_type": "display_data",
       "png": "[encoded data removed]",
       "text": [
        "<matplotlib.figure.Figure at 0x7fe0dc0edf10>"
       ]
      }
     ],
     "prompt_number": 72
    },
    {
     "cell_type": "code",
     "collapsed": false,
     "input": [],
     "language": "python",
     "metadata": {},
     "outputs": []
    }
   ],
   "metadata": {}
  }
 ]
}