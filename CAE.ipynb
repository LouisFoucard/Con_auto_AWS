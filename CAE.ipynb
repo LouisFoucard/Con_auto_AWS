{
 "metadata": {
  "name": ""
 },
 "nbformat": 3,
 "nbformat_minor": 0,
 "worksheets": [
  {
   "cells": [
    {
     "cell_type": "code",
     "collapsed": false,
     "input": [
      "import sys\n",
      "import os\n",
      "import time\n",
      "\n",
      "import numpy as np\n",
      "import theano\n",
      "import theano.tensor as T\n",
      "\n",
      "import lasagne\n",
      "\n",
      "from lasagne.layers import get_output, InputLayer, DenseLayer, Upscale2DLayer, ReshapeLayer\n",
      "from lasagne.nonlinearities import rectify, leaky_rectify, tanh\n",
      "from lasagne.updates import nesterov_momentum\n",
      "from lasagne.objectives import categorical_crossentropy\n",
      "from nolearn.lasagne import NeuralNet, BatchIterator, PrintLayerInfo\n",
      "\n",
      "from lasagne.layers import Conv2DLayer as Conv2DLayer\n",
      "from lasagne.layers import MaxPool2DLayer as MaxPool2DLayer"
     ],
     "language": "python",
     "metadata": {},
     "outputs": [
      {
       "output_type": "stream",
       "stream": "stderr",
       "text": [
        "Using gpu device 0: GRID K520 (CNMeM is disabled)\n"
       ]
      }
     ],
     "prompt_number": 5
    },
    {
     "cell_type": "code",
     "collapsed": false,
     "input": [
      "def load_dataset():\n",
      "    # We first define a download function, supporting both Python 2 and 3.                                                                                                                                  \n",
      "    if sys.version_info[0] == 2:\n",
      "        from urllib import urlretrieve\n",
      "    else:\n",
      "        from urllib.request import urlretrieve\n",
      "\n",
      "    def download(filename, source='http://yann.lecun.com/exdb/mnist/'):\n",
      "        print(\"Downloading %s\" % filename)\n",
      "        urlretrieve(source + filename, filename)\n",
      "\n",
      "    # We then define functions for loading MNIST images and labels.                                                                                                                                         \n",
      "    # For convenience, they also download the requested files if needed.                                                                                                                                    \n",
      "    import gzip\n",
      "\n",
      "    def load_mnist_images(filename):\n",
      "        if not os.path.exists(filename):\n",
      "            download(filename)\n",
      "        # Read the inputs in Yann LeCun's binary format.                                                                                                                                                    \n",
      "        with gzip.open(filename, 'rb') as f:\n",
      "            data = np.frombuffer(f.read(), np.uint8, offset=16)\n",
      "        # The inputs are vectors now, we reshape them to monochrome 2D images,                                                                                                                              \n",
      "        # following the shape convention: (examples, channels, rows, columns)                                                                                                                               \n",
      "        data = data.reshape(-1, 1, 28, 28)\n",
      "        # The inputs come as bytes, we convert them to float32 in range [0,1].                                                                                                                              \n",
      "        # (Actually to range [0, 255/256], for compatibility to the version                                                                                                                                 \n",
      "        # provided at http://deeplearning.net/data/mnist/mnist.pkl.gz.)                                                                                                                                     \n",
      "        return data / np.float32(256)\n",
      "\n",
      "    def load_mnist_labels(filename):\n",
      "        if not os.path.exists(filename):\n",
      "            download(filename)\n",
      "        # Read the labels in Yann LeCun's binary format.                                                                                                                                                    \n",
      "        with gzip.open(filename, 'rb') as f:\n",
      "            data = np.frombuffer(f.read(), np.uint8, offset=8)\n",
      "        # The labels are vectors of integers now, that's exactly what we want.                                                                                                                              \n",
      "        return data\n",
      "\n",
      "    # We can now download and read the training and test set images and labels.                                                                                                                             \n",
      "    X_train = load_mnist_images('train-images-idx3-ubyte.gz')\n",
      "    y_train = load_mnist_labels('train-labels-idx1-ubyte.gz')\n",
      "    X_test = load_mnist_images('t10k-images-idx3-ubyte.gz')\n",
      "    y_test = load_mnist_labels('t10k-labels-idx1-ubyte.gz')\n",
      "\n",
      "    # We reserve the last 10000 training examples for validation.                                                                                                                                           \n",
      "    X_train, X_val = X_train[:-10000], X_train[-10000:]\n",
      "    y_train, y_val = y_train[:-10000], y_train[-10000:]\n",
      "\n",
      "    # We just return all the arrays in order, as expected in main().                                                                                                                                        \n",
      "    # (It doesn't matter how we do this as long as we can read them again.)                                                                                                                                 \n",
      "    return X_train, y_train, X_val, y_val, X_test, y_test\n"
     ],
     "language": "python",
     "metadata": {},
     "outputs": [],
     "prompt_number": 6
    },
    {
     "cell_type": "code",
     "collapsed": false,
     "input": [
      "X_train, y_train, X_val, y_val, X_test, y_test = load_dataset()"
     ],
     "language": "python",
     "metadata": {},
     "outputs": [],
     "prompt_number": 7
    },
    {
     "cell_type": "code",
     "collapsed": false,
     "input": [
      "def build_cnn(input_var=None):\n",
      "    \n",
      "    conv_num_filters = 16\n",
      "    filter_size = 3\n",
      "    pool_size = 2\n",
      "    encode_size = 16\n",
      "    dense_mid_size = 128\n",
      "    pad_in = 'valid'\n",
      "    pad_out = 'full'\n",
      "\n",
      "    # Input layer, as usual:                                                                                                                                                                                \n",
      "    network = InputLayer(shape=(None, 1, 28, 28),\n",
      "                                        input_var=input_var)                                                                                                                                   \n",
      "    network = Conv2DLayer(\n",
      "            network, num_filters=conv_num_filters, filter_size=(filter_size, filter_size),pad=pad_in)\n",
      "    \n",
      "    network = Conv2DLayer(\n",
      "            network, num_filters=conv_num_filters, filter_size=(filter_size, filter_size),pad=pad_in)\n",
      "                                                                                                                                        \n",
      "    network = MaxPool2DLayer(network, pool_size=(pool_size, pool_size))\n",
      "                                                                                                                                     \n",
      "    network = Conv2DLayer(\n",
      "            network, num_filters=2*conv_num_filters, filter_size=(filter_size, filter_size),pad=pad_in)\n",
      "\n",
      "    network = MaxPool2DLayer(network, pool_size=(pool_size, pool_size))\n",
      "\n",
      "    network = ReshapeLayer(network, shape=(([0], -1)))\n",
      "    \n",
      "    network = DenseLayer(\n",
      "            lasagne.layers.dropout(network, p=0),\n",
      "            num_units=dense_mid_size,\n",
      "            nonlinearity=lasagne.nonlinearities.rectify)\n",
      "    \n",
      "    network = DenseLayer(\n",
      "            lasagne.layers.dropout(network, p=0),\n",
      "            num_units=encode_size)\n",
      "    \n",
      "    network = DenseLayer(\n",
      "            lasagne.layers.dropout(network, p=0),\n",
      "            num_units=dense_mid_size)\n",
      "    \n",
      "    network = DenseLayer(\n",
      "            lasagne.layers.dropout(network, p=0),\n",
      "            num_units=800)\n",
      "    \n",
      "    network = ReshapeLayer(network, shape = (([0], 2*conv_num_filters, 5, 5)))\n",
      "    \n",
      "    network = Upscale2DLayer(network, scale_factor=(pool_size, pool_size))\n",
      "    \n",
      "    network = Conv2DLayer(\n",
      "            network, num_filters=2*conv_num_filters, filter_size=(filter_size, filter_size),pad=pad_out)\n",
      "    \n",
      "    network = Upscale2DLayer(network, scale_factor=(pool_size, pool_size))\n",
      "    \n",
      "    network = Conv2DLayer(\n",
      "            network, num_filters=conv_num_filters, filter_size=(filter_size, filter_size),pad=pad_out)\n",
      "    \n",
      "    network = Conv2DLayer(\n",
      "            network, num_filters=conv_num_filters, filter_size=(filter_size, filter_size),pad=pad_out)\n",
      "    \n",
      "    network = ReshapeLayer(network, shape=(([0], -1)))\n",
      "\n",
      "    return network\n",
      "\n",
      "cae = build_cnn()\n"
     ],
     "language": "python",
     "metadata": {},
     "outputs": [],
     "prompt_number": 11
    },
    {
     "cell_type": "code",
     "collapsed": false,
     "input": [
      "def iterate_minibatches(inputs, targets, batchsize, shuffle=False):\n",
      "    assert len(inputs) == len(targets)\n",
      "    if shuffle:\n",
      "        indices = np.arange(len(inputs))\n",
      "        np.random.shuffle(indices)\n",
      "    for start_idx in range(0, len(inputs) - batchsize + 1, batchsize):\n",
      "        if shuffle:\n",
      "            excerpt = indices[start_idx:start_idx + batchsize]\n",
      "        else:\n",
      "            excerpt = slice(start_idx, start_idx + batchsize)\n",
      "        yield inputs[excerpt], targets[excerpt]\n"
     ],
     "language": "python",
     "metadata": {},
     "outputs": [],
     "prompt_number": 2
    },
    {
     "cell_type": "code",
     "collapsed": false,
     "input": [
      "def main(model='cnn', num_epochs=500):\n",
      "    # Load the dataset                                                                                                                                                                                      \n",
      "    print(\"Loading data...\")\n",
      "    X_train, y_train, X_val, y_val, X_test, y_test = load_dataset()\n",
      "\n",
      "    # Prepare Theano variables for inputs and targets                                                                                                                                                       \n",
      "    input_var = T.tensor4('inputs')\n",
      "    target_var = T.ivector('targets')\n",
      "\n",
      "    # Create neural network model (depending on first command line parameter)                                                                                                                               \n",
      "    print(\"Building model and compiling functions...\")\n",
      "\n",
      "    network = build_cnn(input_var)\n",
      "\n",
      "    # Create a loss expression for training, i.e., a scalar objective we want                                                                                                                               \n",
      "    # to minimize (for our multi-class problem, it is the cross-entropy loss):                                                                                                                              \n",
      "    prediction = lasagne.layers.get_output(network)\n",
      "    loss = lasagne.objectives.categorical_crossentropy(prediction, target_var)\n",
      "    loss = loss.mean()\n",
      "    # We could add some weight decay as well here, see lasagne.regularization.                                                                                                                              \n",
      "\n",
      "    # Create update expressions for training, i.e., how to modify the                                                                                                                                       \n",
      "    # parameters at each training step. Here, we'll use Stochastic Gradient                                                                                                                                 \n",
      "    # Descent (SGD) with Nesterov momentum, but Lasagne offers plenty more.                                                                                                                                 \n",
      "    params = lasagne.layers.get_all_params(network, trainable=True)\n",
      "    updates = lasagne.updates.nesterov_momentum(\n",
      "            loss, params, learning_rate=0.01, momentum=0.9)\n",
      "\n",
      "    # Create a loss expression for validation/testing. The crucial difference                                                                                                                               \n",
      "    # here is that we do a deterministic forward pass through the network,                                                                                                                                  \n",
      "    # disabling dropout layers.                                                                                                                                                                             \n",
      "    test_prediction = lasagne.layers.get_output(network, deterministic=True)\n",
      "    test_loss = lasagne.objectives.categorical_crossentropy(test_prediction,\n",
      "                                                            target_var)\n",
      "    test_loss = test_loss.mean()\n",
      "    # As a bonus, also create an expression for the classification accuracy:                                                                                                                                \n",
      "    test_acc = T.mean(T.eq(T.argmax(test_prediction, axis=1), target_var),\n",
      "                      dtype=theano.config.floatX)\n",
      "\n",
      "    # Compile a function performing a training step on a mini-batch (by giving                                                                                                                              \n",
      "    # the updates dictionary) and returning the corresponding training loss:                                                                                                                                \n",
      "    train_fn = theano.function([input_var, target_var], loss, updates=updates)\n",
      "\n",
      "    # Compile a second function computing the validation loss and accuracy:                                                                                                                                 \n",
      "    val_fn = theano.function([input_var, target_var], [test_loss, test_acc])\n",
      "\n",
      "    # Finally, launch the training loop.                                                                                                                                                                    \n",
      "    print(\"Starting training...\")\n",
      "    # We iterate over epochs:                                                                                                                                                                               \n",
      "    for epoch in range(num_epochs):\n",
      "        # In each epoch, we do a full pass over the training data:                                                                                                                                          \n",
      "        train_err = 0\n",
      "        train_batches = 0\n",
      "        start_time = time.time()\n",
      "        for batch in iterate_minibatches(X_train, y_train, 500, shuffle=True):\n",
      "            inputs, targets = batch\n",
      "            train_err += train_fn(inputs, targets)\n",
      "            train_batches += 1\n",
      "\n",
      "        # And a full pass over the validation data:                                                                                                                                                         \n",
      "        val_err = 0\n",
      "        val_acc = 0\n",
      "        val_batches = 0\n",
      "        for batch in iterate_minibatches(X_val, y_val, 500, shuffle=False):\n",
      "            inputs, targets = batch\n",
      "            err, acc = val_fn(inputs, targets)\n",
      "            val_err += err\n",
      "            val_acc += acc\n",
      "            val_batches += 1\n",
      "\n",
      "        # Then we print the results for this epoch:                                                                                                                                                         \n",
      "        print(\"Epoch {} of {} took {:.3f}s\".format(\n",
      "            epoch + 1, num_epochs, time.time() - start_time))\n",
      "        print(\"  training loss:\\t\\t{:.6f}\".format(train_err / train_batches))\n",
      "        print(\"  validation loss:\\t\\t{:.6f}\".format(val_err / val_batches))\n",
      "        print(\"  validation accuracy:\\t\\t{:.2f} %\".format(\n",
      "            val_acc / val_batches * 100))\n",
      "        # After training, we compute and print the test error:                                                                                                                                                  \n",
      "    test_err = 0\n",
      "    test_acc = 0\n",
      "    test_batches = 0\n",
      "    for batch in iterate_minibatches(X_test, y_test, 500, shuffle=False):\n",
      "        inputs, targets = batch\n",
      "        err, acc = val_fn(inputs, targets)\n",
      "        test_err += err\n",
      "        test_acc += acc\n",
      "        test_batches += 1\n",
      "    print(\"Final results:\")\n",
      "    print(\"  test loss:\\t\\t\\t{:.6f}\".format(test_err / test_batches))\n",
      "    print(\"  test accuracy:\\t\\t{:.2f} %\".format(\n",
      "        test_acc / test_batches * 100))\n",
      "\n",
      "    # Optionally, you could now dump the network weights to a file like this:                                                                                                                               \n",
      "    # np.savez('model.npz', *lasagne.layers.get_all_param_values(network))                                                                                                                                  \n",
      "    #                                                                                                                                                                                                       \n",
      "    # And load them again later on like this:                                                                                                                                                               \n",
      "    # with np.load('model.npz') as f:                                                                                                                                                                       \n",
      "    #     param_values = [f['arr_%d' % i] for i in range(len(f.files))]                                                                                                                                     \n",
      "    # lasagne.layers.set_all_param_values(network, param_values)  \n",
      "\n"
     ],
     "language": "python",
     "metadata": {},
     "outputs": [],
     "prompt_number": 3
    },
    {
     "cell_type": "code",
     "collapsed": false,
     "input": [
      "main()"
     ],
     "language": "python",
     "metadata": {},
     "outputs": [
      {
       "output_type": "stream",
       "stream": "stdout",
       "text": [
        "Loading data...\n",
        "Building model and compiling functions..."
       ]
      },
      {
       "output_type": "stream",
       "stream": "stdout",
       "text": [
        "\n",
        "Starting training..."
       ]
      },
      {
       "output_type": "stream",
       "stream": "stdout",
       "text": [
        "\n",
        "Epoch 1 of 500 took 3.045s"
       ]
      },
      {
       "output_type": "stream",
       "stream": "stdout",
       "text": [
        "\n",
        "  training loss:\t\t1.600007\n",
        "  validation loss:\t\t0.338686\n",
        "  validation accuracy:\t\t91.04 %\n",
        "Epoch 2 of 500 took 3.003s"
       ]
      },
      {
       "output_type": "stream",
       "stream": "stdout",
       "text": [
        "\n",
        "  training loss:\t\t0.498065\n",
        "  validation loss:\t\t0.181136\n",
        "  validation accuracy:\t\t94.76 %\n",
        "Epoch 3 of 500 took 3.005s"
       ]
      },
      {
       "output_type": "stream",
       "stream": "stdout",
       "text": [
        "\n",
        "  training loss:\t\t0.347999\n",
        "  validation loss:\t\t0.138318\n",
        "  validation accuracy:\t\t96.13 %\n",
        "Epoch 4 of 500 took 3.001s"
       ]
      },
      {
       "output_type": "stream",
       "stream": "stdout",
       "text": [
        "\n",
        "  training loss:\t\t0.287125\n",
        "  validation loss:\t\t0.117833\n",
        "  validation accuracy:\t\t96.62 %\n",
        "Epoch 5 of 500 took 3.002s"
       ]
      },
      {
       "output_type": "stream",
       "stream": "stdout",
       "text": [
        "\n",
        "  training loss:\t\t0.252799\n",
        "  validation loss:\t\t0.105216\n",
        "  validation accuracy:\t\t96.96 %\n",
        "Epoch 6 of 500 took 3.002s"
       ]
      },
      {
       "output_type": "stream",
       "stream": "stdout",
       "text": [
        "\n",
        "  training loss:\t\t0.223718\n",
        "  validation loss:\t\t0.092353\n",
        "  validation accuracy:\t\t97.34 %\n",
        "Epoch 7 of 500 took 3.007s"
       ]
      },
      {
       "output_type": "stream",
       "stream": "stdout",
       "text": [
        "\n",
        "  training loss:\t\t0.196093\n",
        "  validation loss:\t\t0.081391\n",
        "  validation accuracy:\t\t97.78 %\n",
        "Epoch 8 of 500 took 3.008s"
       ]
      },
      {
       "output_type": "stream",
       "stream": "stdout",
       "text": [
        "\n",
        "  training loss:\t\t0.187548\n",
        "  validation loss:\t\t0.074552\n",
        "  validation accuracy:\t\t97.87 %\n",
        "Epoch 9 of 500 took 2.996s"
       ]
      },
      {
       "output_type": "stream",
       "stream": "stdout",
       "text": [
        "\n",
        "  training loss:\t\t0.172503\n",
        "  validation loss:\t\t0.072454\n",
        "  validation accuracy:\t\t97.96 %\n",
        "Epoch 10 of 500 took 3.001s"
       ]
      },
      {
       "output_type": "stream",
       "stream": "stdout",
       "text": [
        "\n",
        "  training loss:\t\t0.161089\n",
        "  validation loss:\t\t0.065014\n",
        "  validation accuracy:\t\t98.14 %\n",
        "Epoch 11 of 500 took 3.001s"
       ]
      },
      {
       "output_type": "stream",
       "stream": "stdout",
       "text": [
        "\n",
        "  training loss:\t\t0.156239\n",
        "  validation loss:\t\t0.062045\n",
        "  validation accuracy:\t\t98.25 %\n",
        "Epoch 12 of 500 took 3.001s"
       ]
      },
      {
       "output_type": "stream",
       "stream": "stdout",
       "text": [
        "\n",
        "  training loss:\t\t0.145951\n",
        "  validation loss:\t\t0.059798\n",
        "  validation accuracy:\t\t98.32 %\n",
        "Epoch 13 of 500 took 2.999s"
       ]
      },
      {
       "output_type": "stream",
       "stream": "stdout",
       "text": [
        "\n",
        "  training loss:\t\t0.140720\n",
        "  validation loss:\t\t0.057057\n",
        "  validation accuracy:\t\t98.40 %\n",
        "Epoch 14 of 500 took 2.996s"
       ]
      },
      {
       "output_type": "stream",
       "stream": "stdout",
       "text": [
        "\n",
        "  training loss:\t\t0.130648\n",
        "  validation loss:\t\t0.054229\n",
        "  validation accuracy:\t\t98.50 %\n",
        "Epoch 15 of 500 took 3.001s"
       ]
      },
      {
       "output_type": "stream",
       "stream": "stdout",
       "text": [
        "\n",
        "  training loss:\t\t0.126834\n",
        "  validation loss:\t\t0.052962\n",
        "  validation accuracy:\t\t98.53 %\n",
        "Epoch 16 of 500 took 3.003s"
       ]
      },
      {
       "output_type": "stream",
       "stream": "stdout",
       "text": [
        "\n",
        "  training loss:\t\t0.121230\n",
        "  validation loss:\t\t0.053578\n",
        "  validation accuracy:\t\t98.45 %\n",
        "Epoch 17 of 500 took 3.003s"
       ]
      },
      {
       "output_type": "stream",
       "stream": "stdout",
       "text": [
        "\n",
        "  training loss:\t\t0.117124\n",
        "  validation loss:\t\t0.051883\n",
        "  validation accuracy:\t\t98.51 %\n",
        "Epoch 18 of 500 took 3.004s"
       ]
      },
      {
       "output_type": "stream",
       "stream": "stdout",
       "text": [
        "\n",
        "  training loss:\t\t0.113208\n",
        "  validation loss:\t\t0.049914\n",
        "  validation accuracy:\t\t98.60 %\n",
        "Epoch 19 of 500 took 3.007s"
       ]
      },
      {
       "output_type": "stream",
       "stream": "stdout",
       "text": [
        "\n",
        "  training loss:\t\t0.109715\n",
        "  validation loss:\t\t0.048265\n",
        "  validation accuracy:\t\t98.64 %\n",
        "Epoch 20 of 500 took 3.002s"
       ]
      },
      {
       "output_type": "stream",
       "stream": "stdout",
       "text": [
        "\n",
        "  training loss:\t\t0.106464\n",
        "  validation loss:\t\t0.047141\n",
        "  validation accuracy:\t\t98.65 %\n",
        "Epoch 21 of 500 took 2.996s"
       ]
      },
      {
       "output_type": "stream",
       "stream": "stdout",
       "text": [
        "\n",
        "  training loss:\t\t0.104036\n",
        "  validation loss:\t\t0.046729\n",
        "  validation accuracy:\t\t98.67 %\n",
        "Epoch 22 of 500 took 3.003s"
       ]
      },
      {
       "output_type": "stream",
       "stream": "stdout",
       "text": [
        "\n",
        "  training loss:\t\t0.098767\n",
        "  validation loss:\t\t0.046178\n",
        "  validation accuracy:\t\t98.69 %\n",
        "Epoch 23 of 500 took 3.001s"
       ]
      },
      {
       "output_type": "stream",
       "stream": "stdout",
       "text": [
        "\n",
        "  training loss:\t\t0.097831\n",
        "  validation loss:\t\t0.043650\n",
        "  validation accuracy:\t\t98.78 %\n",
        "Epoch 24 of 500 took 3.005s"
       ]
      },
      {
       "output_type": "stream",
       "stream": "stdout",
       "text": [
        "\n",
        "  training loss:\t\t0.093444\n",
        "  validation loss:\t\t0.043381\n",
        "  validation accuracy:\t\t98.74 %\n",
        "Epoch 25 of 500 took 2.997s"
       ]
      },
      {
       "output_type": "stream",
       "stream": "stdout",
       "text": [
        "\n",
        "  training loss:\t\t0.091974\n",
        "  validation loss:\t\t0.043210\n",
        "  validation accuracy:\t\t98.74 %\n",
        "Epoch 26 of 500 took 3.021s"
       ]
      },
      {
       "output_type": "stream",
       "stream": "stdout",
       "text": [
        "\n",
        "  training loss:\t\t0.091080\n",
        "  validation loss:\t\t0.041320\n",
        "  validation accuracy:\t\t98.82 %\n",
        "Epoch 27 of 500 took 3.005s"
       ]
      },
      {
       "output_type": "stream",
       "stream": "stdout",
       "text": [
        "\n",
        "  training loss:\t\t0.088205\n",
        "  validation loss:\t\t0.041596\n",
        "  validation accuracy:\t\t98.79 %\n",
        "Epoch 28 of 500 took 3.002s"
       ]
      },
      {
       "output_type": "stream",
       "stream": "stdout",
       "text": [
        "\n",
        "  training loss:\t\t0.086599\n",
        "  validation loss:\t\t0.039989\n",
        "  validation accuracy:\t\t98.80 %\n",
        "Epoch 29 of 500 took 3.005s"
       ]
      },
      {
       "output_type": "stream",
       "stream": "stdout",
       "text": [
        "\n",
        "  training loss:\t\t0.083218\n",
        "  validation loss:\t\t0.040053\n",
        "  validation accuracy:\t\t98.86 %\n",
        "Epoch 30 of 500 took 2.997s"
       ]
      },
      {
       "output_type": "stream",
       "stream": "stdout",
       "text": [
        "\n",
        "  training loss:\t\t0.082783\n",
        "  validation loss:\t\t0.040034\n",
        "  validation accuracy:\t\t98.83 %\n",
        "Epoch 31 of 500 took 2.999s"
       ]
      },
      {
       "output_type": "stream",
       "stream": "stdout",
       "text": [
        "\n",
        "  training loss:\t\t0.081440\n",
        "  validation loss:\t\t0.039529\n",
        "  validation accuracy:\t\t98.86 %\n",
        "Epoch 32 of 500 took 3.000s"
       ]
      },
      {
       "output_type": "stream",
       "stream": "stdout",
       "text": [
        "\n",
        "  training loss:\t\t0.079500\n",
        "  validation loss:\t\t0.037838\n",
        "  validation accuracy:\t\t98.92 %\n",
        "Epoch 33 of 500 took 3.001s"
       ]
      },
      {
       "output_type": "stream",
       "stream": "stdout",
       "text": [
        "\n",
        "  training loss:\t\t0.079028\n",
        "  validation loss:\t\t0.039048\n",
        "  validation accuracy:\t\t98.86 %\n",
        "Epoch 34 of 500 took 3.000s"
       ]
      },
      {
       "output_type": "stream",
       "stream": "stdout",
       "text": [
        "\n",
        "  training loss:\t\t0.076854\n",
        "  validation loss:\t\t0.037808\n",
        "  validation accuracy:\t\t98.96 %\n",
        "Epoch 35 of 500 took 2.997s"
       ]
      },
      {
       "output_type": "stream",
       "stream": "stdout",
       "text": [
        "\n",
        "  training loss:\t\t0.074083\n",
        "  validation loss:\t\t0.036657\n",
        "  validation accuracy:\t\t98.91 %\n",
        "Epoch 36 of 500 took 3.002s"
       ]
      },
      {
       "output_type": "stream",
       "stream": "stdout",
       "text": [
        "\n",
        "  training loss:\t\t0.075054\n",
        "  validation loss:\t\t0.038979\n",
        "  validation accuracy:\t\t98.92 %\n",
        "Epoch 37 of 500 took 3.007s"
       ]
      },
      {
       "output_type": "stream",
       "stream": "stdout",
       "text": [
        "\n",
        "  training loss:\t\t0.071867\n",
        "  validation loss:\t\t0.036909\n",
        "  validation accuracy:\t\t98.91 %\n",
        "Epoch 38 of 500 took 2.993s"
       ]
      },
      {
       "output_type": "stream",
       "stream": "stdout",
       "text": [
        "\n",
        "  training loss:\t\t0.073592\n",
        "  validation loss:\t\t0.036230\n",
        "  validation accuracy:\t\t98.95 %\n",
        "Epoch 39 of 500 took 2.996s"
       ]
      },
      {
       "output_type": "stream",
       "stream": "stdout",
       "text": [
        "\n",
        "  training loss:\t\t0.069808\n",
        "  validation loss:\t\t0.035367\n",
        "  validation accuracy:\t\t99.00 %\n",
        "Epoch 40 of 500 took 3.000s"
       ]
      },
      {
       "output_type": "stream",
       "stream": "stdout",
       "text": [
        "\n",
        "  training loss:\t\t0.070052\n",
        "  validation loss:\t\t0.037253\n",
        "  validation accuracy:\t\t98.94 %\n",
        "Epoch 41 of 500 took 2.995s"
       ]
      },
      {
       "output_type": "stream",
       "stream": "stdout",
       "text": [
        "\n",
        "  training loss:\t\t0.067268\n",
        "  validation loss:\t\t0.036769\n",
        "  validation accuracy:\t\t98.94 %\n",
        "Epoch 42 of 500 took 3.002s"
       ]
      },
      {
       "output_type": "stream",
       "stream": "stdout",
       "text": [
        "\n",
        "  training loss:\t\t0.069737\n",
        "  validation loss:\t\t0.035289\n",
        "  validation accuracy:\t\t98.93 %\n",
        "Epoch 43 of 500 took 3.005s"
       ]
      },
      {
       "output_type": "stream",
       "stream": "stdout",
       "text": [
        "\n",
        "  training loss:\t\t0.066287\n",
        "  validation loss:\t\t0.035588\n",
        "  validation accuracy:\t\t98.93 %\n",
        "Epoch 44 of 500 took 2.997s"
       ]
      },
      {
       "output_type": "stream",
       "stream": "stdout",
       "text": [
        "\n",
        "  training loss:\t\t0.064504\n",
        "  validation loss:\t\t0.035046\n",
        "  validation accuracy:\t\t98.96 %\n",
        "Epoch 45 of 500 took 3.002s"
       ]
      },
      {
       "output_type": "stream",
       "stream": "stdout",
       "text": [
        "\n",
        "  training loss:\t\t0.065389\n",
        "  validation loss:\t\t0.034662\n",
        "  validation accuracy:\t\t99.05 %\n",
        "Epoch 46 of 500 took 3.001s"
       ]
      },
      {
       "output_type": "stream",
       "stream": "stdout",
       "text": [
        "\n",
        "  training loss:\t\t0.067052\n",
        "  validation loss:\t\t0.034935\n",
        "  validation accuracy:\t\t98.98 %\n",
        "Epoch 47 of 500 took 2.997s"
       ]
      },
      {
       "output_type": "stream",
       "stream": "stdout",
       "text": [
        "\n",
        "  training loss:\t\t0.064928\n",
        "  validation loss:\t\t0.035319\n",
        "  validation accuracy:\t\t98.96 %\n",
        "Epoch 48 of 500 took 2.997s"
       ]
      },
      {
       "output_type": "stream",
       "stream": "stdout",
       "text": [
        "\n",
        "  training loss:\t\t0.062457\n",
        "  validation loss:\t\t0.035069\n",
        "  validation accuracy:\t\t98.99 %\n",
        "Epoch 49 of 500 took 2.996s"
       ]
      },
      {
       "output_type": "stream",
       "stream": "stdout",
       "text": [
        "\n",
        "  training loss:\t\t0.062398\n",
        "  validation loss:\t\t0.033572\n",
        "  validation accuracy:\t\t99.07 %\n",
        "Epoch 50 of 500 took 2.997s"
       ]
      },
      {
       "output_type": "stream",
       "stream": "stdout",
       "text": [
        "\n",
        "  training loss:\t\t0.060616\n",
        "  validation loss:\t\t0.035625\n",
        "  validation accuracy:\t\t98.93 %\n",
        "Epoch 51 of 500 took 2.997s"
       ]
      },
      {
       "output_type": "stream",
       "stream": "stdout",
       "text": [
        "\n",
        "  training loss:\t\t0.060762\n",
        "  validation loss:\t\t0.034809\n",
        "  validation accuracy:\t\t98.95 %\n",
        "Epoch 52 of 500 took 2.995s"
       ]
      },
      {
       "output_type": "stream",
       "stream": "stdout",
       "text": [
        "\n",
        "  training loss:\t\t0.061722\n",
        "  validation loss:\t\t0.033100\n",
        "  validation accuracy:\t\t99.07 %\n",
        "Epoch 53 of 500 took 3.000s"
       ]
      },
      {
       "output_type": "stream",
       "stream": "stdout",
       "text": [
        "\n",
        "  training loss:\t\t0.057972\n",
        "  validation loss:\t\t0.033360\n",
        "  validation accuracy:\t\t99.14 %\n",
        "Epoch 54 of 500 took 3.000s"
       ]
      },
      {
       "output_type": "stream",
       "stream": "stdout",
       "text": [
        "\n",
        "  training loss:\t\t0.058726\n",
        "  validation loss:\t\t0.032395\n",
        "  validation accuracy:\t\t99.03 %\n",
        "Epoch 55 of 500 took 3.001s"
       ]
      },
      {
       "output_type": "stream",
       "stream": "stdout",
       "text": [
        "\n",
        "  training loss:\t\t0.057825\n",
        "  validation loss:\t\t0.032509\n",
        "  validation accuracy:\t\t99.04 %\n",
        "Epoch 56 of 500 took 2.997s"
       ]
      },
      {
       "output_type": "stream",
       "stream": "stdout",
       "text": [
        "\n",
        "  training loss:\t\t0.057291\n",
        "  validation loss:\t\t0.031894\n",
        "  validation accuracy:\t\t99.05 %\n",
        "Epoch 57 of 500 took 2.998s"
       ]
      },
      {
       "output_type": "stream",
       "stream": "stdout",
       "text": [
        "\n",
        "  training loss:\t\t0.057764\n",
        "  validation loss:\t\t0.031198\n",
        "  validation accuracy:\t\t99.11 %\n",
        "Epoch 58 of 500 took 3.001s"
       ]
      },
      {
       "output_type": "stream",
       "stream": "stdout",
       "text": [
        "\n",
        "  training loss:\t\t0.055478\n",
        "  validation loss:\t\t0.032901\n",
        "  validation accuracy:\t\t99.03 %\n",
        "Epoch 59 of 500 took 3.007s"
       ]
      },
      {
       "output_type": "stream",
       "stream": "stdout",
       "text": [
        "\n",
        "  training loss:\t\t0.056403\n",
        "  validation loss:\t\t0.031737\n",
        "  validation accuracy:\t\t99.07 %\n",
        "Epoch 60 of 500 took 3.008s"
       ]
      },
      {
       "output_type": "stream",
       "stream": "stdout",
       "text": [
        "\n",
        "  training loss:\t\t0.055956\n",
        "  validation loss:\t\t0.031678\n",
        "  validation accuracy:\t\t99.06 %\n",
        "Epoch 61 of 500 took 3.000s"
       ]
      },
      {
       "output_type": "stream",
       "stream": "stdout",
       "text": [
        "\n",
        "  training loss:\t\t0.054226\n",
        "  validation loss:\t\t0.030908\n",
        "  validation accuracy:\t\t99.12 %\n",
        "Epoch 62 of 500 took 3.002s"
       ]
      },
      {
       "output_type": "stream",
       "stream": "stdout",
       "text": [
        "\n",
        "  training loss:\t\t0.056730\n",
        "  validation loss:\t\t0.030457\n",
        "  validation accuracy:\t\t99.09 %\n",
        "Epoch 63 of 500 took 3.001s"
       ]
      },
      {
       "output_type": "stream",
       "stream": "stdout",
       "text": [
        "\n",
        "  training loss:\t\t0.053846\n",
        "  validation loss:\t\t0.030677\n",
        "  validation accuracy:\t\t99.07 %\n",
        "Epoch 64 of 500 took 3.009s"
       ]
      },
      {
       "output_type": "stream",
       "stream": "stdout",
       "text": [
        "\n",
        "  training loss:\t\t0.054327\n",
        "  validation loss:\t\t0.030556\n",
        "  validation accuracy:\t\t99.10 %\n",
        "Epoch 65 of 500 took 3.004s"
       ]
      },
      {
       "output_type": "stream",
       "stream": "stdout",
       "text": [
        "\n",
        "  training loss:\t\t0.052724\n",
        "  validation loss:\t\t0.031812\n",
        "  validation accuracy:\t\t99.13 %\n",
        "Epoch 66 of 500 took 3.000s"
       ]
      },
      {
       "output_type": "stream",
       "stream": "stdout",
       "text": [
        "\n",
        "  training loss:\t\t0.053677\n",
        "  validation loss:\t\t0.032728\n",
        "  validation accuracy:\t\t99.08 %\n",
        "Epoch 67 of 500 took 3.005s"
       ]
      },
      {
       "output_type": "stream",
       "stream": "stdout",
       "text": [
        "\n",
        "  training loss:\t\t0.053066\n",
        "  validation loss:\t\t0.030689\n",
        "  validation accuracy:\t\t99.09 %\n",
        "Epoch 68 of 500 took 2.996s"
       ]
      },
      {
       "output_type": "stream",
       "stream": "stdout",
       "text": [
        "\n",
        "  training loss:\t\t0.053202\n",
        "  validation loss:\t\t0.030658\n",
        "  validation accuracy:\t\t99.11 %\n",
        "Epoch 69 of 500 took 2.995s"
       ]
      },
      {
       "output_type": "stream",
       "stream": "stdout",
       "text": [
        "\n",
        "  training loss:\t\t0.049090\n",
        "  validation loss:\t\t0.030868\n",
        "  validation accuracy:\t\t99.08 %\n",
        "Epoch 70 of 500 took 3.009s"
       ]
      },
      {
       "output_type": "stream",
       "stream": "stdout",
       "text": [
        "\n",
        "  training loss:\t\t0.050249\n",
        "  validation loss:\t\t0.031758\n",
        "  validation accuracy:\t\t99.02 %\n",
        "Epoch 71 of 500 took 3.017s"
       ]
      },
      {
       "output_type": "stream",
       "stream": "stdout",
       "text": [
        "\n",
        "  training loss:\t\t0.049379\n",
        "  validation loss:\t\t0.030484\n",
        "  validation accuracy:\t\t99.13 %\n",
        "Epoch 72 of 500 took 3.002s"
       ]
      },
      {
       "output_type": "stream",
       "stream": "stdout",
       "text": [
        "\n",
        "  training loss:\t\t0.049565\n",
        "  validation loss:\t\t0.031252\n",
        "  validation accuracy:\t\t99.14 %\n",
        "Epoch 73 of 500 took 2.999s"
       ]
      },
      {
       "output_type": "stream",
       "stream": "stdout",
       "text": [
        "\n",
        "  training loss:\t\t0.048803\n",
        "  validation loss:\t\t0.031295\n",
        "  validation accuracy:\t\t99.14 %\n",
        "Epoch 74 of 500 took 3.002s"
       ]
      },
      {
       "output_type": "stream",
       "stream": "stdout",
       "text": [
        "\n",
        "  training loss:\t\t0.050336\n",
        "  validation loss:\t\t0.030902\n",
        "  validation accuracy:\t\t99.11 %\n",
        "Epoch 75 of 500 took 3.014s"
       ]
      },
      {
       "output_type": "stream",
       "stream": "stdout",
       "text": [
        "\n",
        "  training loss:\t\t0.050525\n",
        "  validation loss:\t\t0.029989\n",
        "  validation accuracy:\t\t99.07 %\n",
        "Epoch 76 of 500 took 3.007s"
       ]
      },
      {
       "output_type": "stream",
       "stream": "stdout",
       "text": [
        "\n",
        "  training loss:\t\t0.048955\n",
        "  validation loss:\t\t0.031894\n",
        "  validation accuracy:\t\t99.03 %\n",
        "Epoch 77 of 500 took 3.000s"
       ]
      },
      {
       "output_type": "stream",
       "stream": "stdout",
       "text": [
        "\n",
        "  training loss:\t\t0.047636\n",
        "  validation loss:\t\t0.029947\n",
        "  validation accuracy:\t\t99.18 %\n",
        "Epoch 78 of 500 took 2.999s"
       ]
      },
      {
       "output_type": "stream",
       "stream": "stdout",
       "text": [
        "\n",
        "  training loss:\t\t0.048376\n",
        "  validation loss:\t\t0.029867\n",
        "  validation accuracy:\t\t99.11 %\n",
        "Epoch 79 of 500 took 3.006s"
       ]
      },
      {
       "output_type": "stream",
       "stream": "stdout",
       "text": [
        "\n",
        "  training loss:\t\t0.047429\n",
        "  validation loss:\t\t0.030886\n",
        "  validation accuracy:\t\t99.06 %\n",
        "Epoch 80 of 500 took 2.998s"
       ]
      },
      {
       "output_type": "stream",
       "stream": "stdout",
       "text": [
        "\n",
        "  training loss:\t\t0.045899\n",
        "  validation loss:\t\t0.029697\n",
        "  validation accuracy:\t\t99.13 %\n",
        "Epoch 81 of 500 took 2.995s"
       ]
      },
      {
       "output_type": "stream",
       "stream": "stdout",
       "text": [
        "\n",
        "  training loss:\t\t0.046690\n",
        "  validation loss:\t\t0.030161\n",
        "  validation accuracy:\t\t99.14 %\n",
        "Epoch 82 of 500 took 2.991s"
       ]
      },
      {
       "output_type": "stream",
       "stream": "stdout",
       "text": [
        "\n",
        "  training loss:\t\t0.044732\n",
        "  validation loss:\t\t0.029830\n",
        "  validation accuracy:\t\t99.18 %\n",
        "Epoch 83 of 500 took 2.998s"
       ]
      },
      {
       "output_type": "stream",
       "stream": "stdout",
       "text": [
        "\n",
        "  training loss:\t\t0.046580\n",
        "  validation loss:\t\t0.029508\n",
        "  validation accuracy:\t\t99.24 %\n",
        "Epoch 84 of 500 took 3.002s"
       ]
      },
      {
       "output_type": "stream",
       "stream": "stdout",
       "text": [
        "\n",
        "  training loss:\t\t0.046649\n",
        "  validation loss:\t\t0.028440\n",
        "  validation accuracy:\t\t99.20 %\n",
        "Epoch 85 of 500 took 2.987s"
       ]
      },
      {
       "output_type": "stream",
       "stream": "stdout",
       "text": [
        "\n",
        "  training loss:\t\t0.045024\n",
        "  validation loss:\t\t0.030168\n",
        "  validation accuracy:\t\t99.09 %\n",
        "Epoch 86 of 500 took 2.994s"
       ]
      },
      {
       "output_type": "stream",
       "stream": "stdout",
       "text": [
        "\n",
        "  training loss:\t\t0.044528\n",
        "  validation loss:\t\t0.030073\n",
        "  validation accuracy:\t\t99.15 %\n",
        "Epoch 87 of 500 took 2.975s"
       ]
      },
      {
       "output_type": "stream",
       "stream": "stdout",
       "text": [
        "\n",
        "  training loss:\t\t0.042654\n",
        "  validation loss:\t\t0.030349\n",
        "  validation accuracy:\t\t99.11 %\n",
        "Epoch 88 of 500 took 2.974s"
       ]
      },
      {
       "output_type": "stream",
       "stream": "stdout",
       "text": [
        "\n",
        "  training loss:\t\t0.044383\n",
        "  validation loss:\t\t0.028419\n",
        "  validation accuracy:\t\t99.26 %\n",
        "Epoch 89 of 500 took 2.983s"
       ]
      },
      {
       "output_type": "stream",
       "stream": "stdout",
       "text": [
        "\n",
        "  training loss:\t\t0.044826\n",
        "  validation loss:\t\t0.028192\n",
        "  validation accuracy:\t\t99.23 %\n",
        "Epoch 90 of 500 took 3.000s"
       ]
      },
      {
       "output_type": "stream",
       "stream": "stdout",
       "text": [
        "\n",
        "  training loss:\t\t0.042826\n",
        "  validation loss:\t\t0.029272\n",
        "  validation accuracy:\t\t99.15 %\n",
        "Epoch 91 of 500 took 2.989s"
       ]
      },
      {
       "output_type": "stream",
       "stream": "stdout",
       "text": [
        "\n",
        "  training loss:\t\t0.042634\n",
        "  validation loss:\t\t0.029420\n",
        "  validation accuracy:\t\t99.20 %\n",
        "Epoch 92 of 500 took 3.004s"
       ]
      },
      {
       "output_type": "stream",
       "stream": "stdout",
       "text": [
        "\n",
        "  training loss:\t\t0.042903\n",
        "  validation loss:\t\t0.028812\n",
        "  validation accuracy:\t\t99.18 %\n",
        "Epoch 93 of 500 took 2.989s"
       ]
      },
      {
       "output_type": "stream",
       "stream": "stdout",
       "text": [
        "\n",
        "  training loss:\t\t0.041444\n",
        "  validation loss:\t\t0.029196\n",
        "  validation accuracy:\t\t99.17 %\n",
        "Epoch 94 of 500 took 2.978s"
       ]
      },
      {
       "output_type": "stream",
       "stream": "stdout",
       "text": [
        "\n",
        "  training loss:\t\t0.042408\n",
        "  validation loss:\t\t0.027450\n",
        "  validation accuracy:\t\t99.23 %\n",
        "Epoch 95 of 500 took 2.978s"
       ]
      },
      {
       "output_type": "stream",
       "stream": "stdout",
       "text": [
        "\n",
        "  training loss:\t\t0.042625\n",
        "  validation loss:\t\t0.027859\n",
        "  validation accuracy:\t\t99.24 %\n",
        "Epoch 96 of 500 took 2.975s"
       ]
      },
      {
       "output_type": "stream",
       "stream": "stdout",
       "text": [
        "\n",
        "  training loss:\t\t0.042581\n",
        "  validation loss:\t\t0.027873\n",
        "  validation accuracy:\t\t99.24 %\n",
        "Epoch 97 of 500 took 2.973s"
       ]
      },
      {
       "output_type": "stream",
       "stream": "stdout",
       "text": [
        "\n",
        "  training loss:\t\t0.043598\n",
        "  validation loss:\t\t0.028549\n",
        "  validation accuracy:\t\t99.22 %\n",
        "Epoch 98 of 500 took 2.973s"
       ]
      },
      {
       "output_type": "stream",
       "stream": "stdout",
       "text": [
        "\n",
        "  training loss:\t\t0.043589\n",
        "  validation loss:\t\t0.028340\n",
        "  validation accuracy:\t\t99.20 %\n",
        "Epoch 99 of 500 took 2.997s"
       ]
      },
      {
       "output_type": "stream",
       "stream": "stdout",
       "text": [
        "\n",
        "  training loss:\t\t0.043348\n",
        "  validation loss:\t\t0.027718\n",
        "  validation accuracy:\t\t99.27 %\n",
        "Epoch 100 of 500 took 2.999s"
       ]
      },
      {
       "output_type": "stream",
       "stream": "stdout",
       "text": [
        "\n",
        "  training loss:\t\t0.039816\n",
        "  validation loss:\t\t0.028392\n",
        "  validation accuracy:\t\t99.27 %\n",
        "Epoch 101 of 500 took 2.996s"
       ]
      },
      {
       "output_type": "stream",
       "stream": "stdout",
       "text": [
        "\n",
        "  training loss:\t\t0.040616\n",
        "  validation loss:\t\t0.028124\n",
        "  validation accuracy:\t\t99.24 %\n",
        "Epoch 102 of 500 took 2.999s"
       ]
      },
      {
       "output_type": "stream",
       "stream": "stdout",
       "text": [
        "\n",
        "  training loss:\t\t0.041512\n",
        "  validation loss:\t\t0.027124\n",
        "  validation accuracy:\t\t99.25 %\n",
        "Epoch 103 of 500 took 3.001s"
       ]
      },
      {
       "output_type": "stream",
       "stream": "stdout",
       "text": [
        "\n",
        "  training loss:\t\t0.040757\n",
        "  validation loss:\t\t0.027527\n",
        "  validation accuracy:\t\t99.28 %\n",
        "Epoch 104 of 500 took 2.999s"
       ]
      },
      {
       "output_type": "stream",
       "stream": "stdout",
       "text": [
        "\n",
        "  training loss:\t\t0.040224\n",
        "  validation loss:\t\t0.028171\n",
        "  validation accuracy:\t\t99.22 %\n",
        "Epoch 105 of 500 took 3.000s"
       ]
      },
      {
       "output_type": "stream",
       "stream": "stdout",
       "text": [
        "\n",
        "  training loss:\t\t0.037684\n",
        "  validation loss:\t\t0.028156\n",
        "  validation accuracy:\t\t99.26 %\n",
        "Epoch 106 of 500 took 3.001s"
       ]
      },
      {
       "output_type": "stream",
       "stream": "stdout",
       "text": [
        "\n",
        "  training loss:\t\t0.037694\n",
        "  validation loss:\t\t0.027612\n",
        "  validation accuracy:\t\t99.28 %\n",
        "Epoch 107 of 500 took 3.005s"
       ]
      },
      {
       "output_type": "stream",
       "stream": "stdout",
       "text": [
        "\n",
        "  training loss:\t\t0.040383\n",
        "  validation loss:\t\t0.029474\n",
        "  validation accuracy:\t\t99.20 %\n",
        "Epoch 108 of 500 took 3.001s"
       ]
      },
      {
       "output_type": "stream",
       "stream": "stdout",
       "text": [
        "\n",
        "  training loss:\t\t0.039448\n",
        "  validation loss:\t\t0.029242\n",
        "  validation accuracy:\t\t99.13 %\n",
        "Epoch 109 of 500 took 2.998s"
       ]
      },
      {
       "output_type": "stream",
       "stream": "stdout",
       "text": [
        "\n",
        "  training loss:\t\t0.039640\n",
        "  validation loss:\t\t0.026480\n",
        "  validation accuracy:\t\t99.33 %\n",
        "Epoch 110 of 500 took 3.001s"
       ]
      },
      {
       "output_type": "stream",
       "stream": "stdout",
       "text": [
        "\n",
        "  training loss:\t\t0.037359\n",
        "  validation loss:\t\t0.027758\n",
        "  validation accuracy:\t\t99.27 %\n",
        "Epoch 111 of 500 took 3.001s"
       ]
      },
      {
       "output_type": "stream",
       "stream": "stdout",
       "text": [
        "\n",
        "  training loss:\t\t0.038735\n",
        "  validation loss:\t\t0.027514\n",
        "  validation accuracy:\t\t99.31 %\n",
        "Epoch 112 of 500 took 2.999s"
       ]
      },
      {
       "output_type": "stream",
       "stream": "stdout",
       "text": [
        "\n",
        "  training loss:\t\t0.039493\n",
        "  validation loss:\t\t0.027707\n",
        "  validation accuracy:\t\t99.24 %\n",
        "Epoch 113 of 500 took 3.001s"
       ]
      },
      {
       "output_type": "stream",
       "stream": "stdout",
       "text": [
        "\n",
        "  training loss:\t\t0.037118\n",
        "  validation loss:\t\t0.027788\n",
        "  validation accuracy:\t\t99.27 %\n",
        "Epoch 114 of 500 took 3.001s"
       ]
      },
      {
       "output_type": "stream",
       "stream": "stdout",
       "text": [
        "\n",
        "  training loss:\t\t0.037027\n",
        "  validation loss:\t\t0.028069\n",
        "  validation accuracy:\t\t99.18 %\n",
        "Epoch 115 of 500 took 3.000s"
       ]
      },
      {
       "output_type": "stream",
       "stream": "stdout",
       "text": [
        "\n",
        "  training loss:\t\t0.037900\n",
        "  validation loss:\t\t0.028137\n",
        "  validation accuracy:\t\t99.26 %\n",
        "Epoch 116 of 500 took 3.000s"
       ]
      },
      {
       "output_type": "stream",
       "stream": "stdout",
       "text": [
        "\n",
        "  training loss:\t\t0.036950\n",
        "  validation loss:\t\t0.027580\n",
        "  validation accuracy:\t\t99.32 %\n",
        "Epoch 117 of 500 took 3.002s"
       ]
      },
      {
       "output_type": "stream",
       "stream": "stdout",
       "text": [
        "\n",
        "  training loss:\t\t0.037975\n",
        "  validation loss:\t\t0.027291\n",
        "  validation accuracy:\t\t99.30 %\n",
        "Epoch 118 of 500 took 3.000s"
       ]
      },
      {
       "output_type": "stream",
       "stream": "stdout",
       "text": [
        "\n",
        "  training loss:\t\t0.035449\n",
        "  validation loss:\t\t0.027065\n",
        "  validation accuracy:\t\t99.29 %\n",
        "Epoch 119 of 500 took 3.000s"
       ]
      },
      {
       "output_type": "stream",
       "stream": "stdout",
       "text": [
        "\n",
        "  training loss:\t\t0.039271\n",
        "  validation loss:\t\t0.026830\n",
        "  validation accuracy:\t\t99.26 %\n",
        "Epoch 120 of 500 took 3.000s"
       ]
      },
      {
       "output_type": "stream",
       "stream": "stdout",
       "text": [
        "\n",
        "  training loss:\t\t0.037272\n",
        "  validation loss:\t\t0.027060\n",
        "  validation accuracy:\t\t99.28 %\n",
        "Epoch 121 of 500 took 3.000s"
       ]
      },
      {
       "output_type": "stream",
       "stream": "stdout",
       "text": [
        "\n",
        "  training loss:\t\t0.036901\n",
        "  validation loss:\t\t0.027011\n",
        "  validation accuracy:\t\t99.27 %\n",
        "Epoch 122 of 500 took 2.998s"
       ]
      },
      {
       "output_type": "stream",
       "stream": "stdout",
       "text": [
        "\n",
        "  training loss:\t\t0.036742\n",
        "  validation loss:\t\t0.027133\n",
        "  validation accuracy:\t\t99.29 %\n",
        "Epoch 123 of 500 took 2.997s"
       ]
      },
      {
       "output_type": "stream",
       "stream": "stdout",
       "text": [
        "\n",
        "  training loss:\t\t0.036313\n",
        "  validation loss:\t\t0.028095\n",
        "  validation accuracy:\t\t99.26 %\n",
        "Epoch 124 of 500 took 3.000s"
       ]
      },
      {
       "output_type": "stream",
       "stream": "stdout",
       "text": [
        "\n",
        "  training loss:\t\t0.035338\n",
        "  validation loss:\t\t0.026662\n",
        "  validation accuracy:\t\t99.33 %\n",
        "Epoch 125 of 500 took 3.000s"
       ]
      },
      {
       "output_type": "stream",
       "stream": "stdout",
       "text": [
        "\n",
        "  training loss:\t\t0.035919\n",
        "  validation loss:\t\t0.026933\n",
        "  validation accuracy:\t\t99.34 %\n",
        "Epoch 126 of 500 took 3.000s"
       ]
      },
      {
       "output_type": "stream",
       "stream": "stdout",
       "text": [
        "\n",
        "  training loss:\t\t0.034527\n",
        "  validation loss:\t\t0.027004\n",
        "  validation accuracy:\t\t99.23 %\n",
        "Epoch 127 of 500 took 3.005s"
       ]
      },
      {
       "output_type": "stream",
       "stream": "stdout",
       "text": [
        "\n",
        "  training loss:\t\t0.035345\n",
        "  validation loss:\t\t0.026672\n",
        "  validation accuracy:\t\t99.30 %\n",
        "Epoch 128 of 500 took 3.013s"
       ]
      },
      {
       "output_type": "stream",
       "stream": "stdout",
       "text": [
        "\n",
        "  training loss:\t\t0.035518\n",
        "  validation loss:\t\t0.027113\n",
        "  validation accuracy:\t\t99.33 %\n",
        "Epoch 129 of 500 took 2.999s"
       ]
      },
      {
       "output_type": "stream",
       "stream": "stdout",
       "text": [
        "\n",
        "  training loss:\t\t0.034728\n",
        "  validation loss:\t\t0.026536\n",
        "  validation accuracy:\t\t99.32 %\n",
        "Epoch 130 of 500 took 2.999s"
       ]
      },
      {
       "output_type": "stream",
       "stream": "stdout",
       "text": [
        "\n",
        "  training loss:\t\t0.035005\n",
        "  validation loss:\t\t0.027008\n",
        "  validation accuracy:\t\t99.32 %\n",
        "Epoch 131 of 500 took 3.001s"
       ]
      },
      {
       "output_type": "stream",
       "stream": "stdout",
       "text": [
        "\n",
        "  training loss:\t\t0.035596\n",
        "  validation loss:\t\t0.026568\n",
        "  validation accuracy:\t\t99.31 %\n",
        "Epoch 132 of 500 took 2.998s"
       ]
      },
      {
       "output_type": "stream",
       "stream": "stdout",
       "text": [
        "\n",
        "  training loss:\t\t0.034453\n",
        "  validation loss:\t\t0.026395\n",
        "  validation accuracy:\t\t99.28 %\n",
        "Epoch 133 of 500 took 3.000s"
       ]
      },
      {
       "output_type": "stream",
       "stream": "stdout",
       "text": [
        "\n",
        "  training loss:\t\t0.035319\n",
        "  validation loss:\t\t0.026368\n",
        "  validation accuracy:\t\t99.30 %\n",
        "Epoch 134 of 500 took 2.999s"
       ]
      },
      {
       "output_type": "stream",
       "stream": "stdout",
       "text": [
        "\n",
        "  training loss:\t\t0.034878\n",
        "  validation loss:\t\t0.026235\n",
        "  validation accuracy:\t\t99.38 %\n",
        "Epoch 135 of 500 took 2.999s"
       ]
      },
      {
       "output_type": "stream",
       "stream": "stdout",
       "text": [
        "\n",
        "  training loss:\t\t0.034768\n",
        "  validation loss:\t\t0.026137\n",
        "  validation accuracy:\t\t99.35 %\n",
        "Epoch 136 of 500 took 3.001s"
       ]
      },
      {
       "output_type": "stream",
       "stream": "stdout",
       "text": [
        "\n",
        "  training loss:\t\t0.036664\n",
        "  validation loss:\t\t0.026561\n",
        "  validation accuracy:\t\t99.34 %\n",
        "Epoch 137 of 500 took 2.999s"
       ]
      },
      {
       "output_type": "stream",
       "stream": "stdout",
       "text": [
        "\n",
        "  training loss:\t\t0.034651\n",
        "  validation loss:\t\t0.026145\n",
        "  validation accuracy:\t\t99.35 %\n",
        "Epoch 138 of 500 took 2.999s"
       ]
      },
      {
       "output_type": "stream",
       "stream": "stdout",
       "text": [
        "\n",
        "  training loss:\t\t0.034828\n",
        "  validation loss:\t\t0.026825\n",
        "  validation accuracy:\t\t99.32 %\n",
        "Epoch 139 of 500 took 2.999s"
       ]
      },
      {
       "output_type": "stream",
       "stream": "stdout",
       "text": [
        "\n",
        "  training loss:\t\t0.034442\n",
        "  validation loss:\t\t0.026898\n",
        "  validation accuracy:\t\t99.27 %\n",
        "Epoch 140 of 500 took 2.998s"
       ]
      },
      {
       "output_type": "stream",
       "stream": "stdout",
       "text": [
        "\n",
        "  training loss:\t\t0.033615\n",
        "  validation loss:\t\t0.027368\n",
        "  validation accuracy:\t\t99.32 %\n",
        "Epoch 141 of 500 took 3.000s"
       ]
      },
      {
       "output_type": "stream",
       "stream": "stdout",
       "text": [
        "\n",
        "  training loss:\t\t0.034898\n",
        "  validation loss:\t\t0.027025\n",
        "  validation accuracy:\t\t99.29 %\n",
        "Epoch 142 of 500 took 2.998s"
       ]
      },
      {
       "output_type": "stream",
       "stream": "stdout",
       "text": [
        "\n",
        "  training loss:\t\t0.034536\n",
        "  validation loss:\t\t0.027505\n",
        "  validation accuracy:\t\t99.28 %\n",
        "Epoch 143 of 500 took 2.999s"
       ]
      },
      {
       "output_type": "stream",
       "stream": "stdout",
       "text": [
        "\n",
        "  training loss:\t\t0.032705\n",
        "  validation loss:\t\t0.027126\n",
        "  validation accuracy:\t\t99.31 %\n",
        "Epoch 144 of 500 took 2.996s"
       ]
      },
      {
       "output_type": "stream",
       "stream": "stdout",
       "text": [
        "\n",
        "  training loss:\t\t0.033302\n",
        "  validation loss:\t\t0.026632\n",
        "  validation accuracy:\t\t99.36 %\n",
        "Epoch 145 of 500 took 2.998s"
       ]
      },
      {
       "output_type": "stream",
       "stream": "stdout",
       "text": [
        "\n",
        "  training loss:\t\t0.031994\n",
        "  validation loss:\t\t0.027114\n",
        "  validation accuracy:\t\t99.24 %\n",
        "Epoch 146 of 500 took 3.002s"
       ]
      },
      {
       "output_type": "stream",
       "stream": "stdout",
       "text": [
        "\n",
        "  training loss:\t\t0.032680\n",
        "  validation loss:\t\t0.026204\n",
        "  validation accuracy:\t\t99.33 %\n",
        "Epoch 147 of 500 took 3.004s"
       ]
      },
      {
       "output_type": "stream",
       "stream": "stdout",
       "text": [
        "\n",
        "  training loss:\t\t0.032864\n",
        "  validation loss:\t\t0.026147\n",
        "  validation accuracy:\t\t99.33 %\n",
        "Epoch 148 of 500 took 3.005s"
       ]
      },
      {
       "output_type": "stream",
       "stream": "stdout",
       "text": [
        "\n",
        "  training loss:\t\t0.032410\n",
        "  validation loss:\t\t0.025912\n",
        "  validation accuracy:\t\t99.35 %\n",
        "Epoch 149 of 500 took 3.002s"
       ]
      },
      {
       "output_type": "stream",
       "stream": "stdout",
       "text": [
        "\n",
        "  training loss:\t\t0.032873\n",
        "  validation loss:\t\t0.025421\n",
        "  validation accuracy:\t\t99.34 %\n",
        "Epoch 150 of 500 took 2.999s"
       ]
      },
      {
       "output_type": "stream",
       "stream": "stdout",
       "text": [
        "\n",
        "  training loss:\t\t0.032286\n",
        "  validation loss:\t\t0.025794\n",
        "  validation accuracy:\t\t99.31 %\n",
        "Epoch 151 of 500 took 3.001s"
       ]
      },
      {
       "output_type": "stream",
       "stream": "stdout",
       "text": [
        "\n",
        "  training loss:\t\t0.030694\n",
        "  validation loss:\t\t0.025636\n",
        "  validation accuracy:\t\t99.35 %\n",
        "Epoch 152 of 500 took 3.000s"
       ]
      },
      {
       "output_type": "stream",
       "stream": "stdout",
       "text": [
        "\n",
        "  training loss:\t\t0.031401\n",
        "  validation loss:\t\t0.026781\n",
        "  validation accuracy:\t\t99.31 %\n",
        "Epoch 153 of 500 took 3.007s"
       ]
      },
      {
       "output_type": "stream",
       "stream": "stdout",
       "text": [
        "\n",
        "  training loss:\t\t0.031071\n",
        "  validation loss:\t\t0.026430\n",
        "  validation accuracy:\t\t99.31 %\n",
        "Epoch 154 of 500 took 3.004s"
       ]
      },
      {
       "output_type": "stream",
       "stream": "stdout",
       "text": [
        "\n",
        "  training loss:\t\t0.031739\n",
        "  validation loss:\t\t0.026137\n",
        "  validation accuracy:\t\t99.33 %\n",
        "Epoch 155 of 500 took 3.005s"
       ]
      },
      {
       "output_type": "stream",
       "stream": "stdout",
       "text": [
        "\n",
        "  training loss:\t\t0.030842\n",
        "  validation loss:\t\t0.025716\n",
        "  validation accuracy:\t\t99.36 %\n",
        "Epoch 156 of 500 took 3.004s"
       ]
      },
      {
       "output_type": "stream",
       "stream": "stdout",
       "text": [
        "\n",
        "  training loss:\t\t0.030040\n",
        "  validation loss:\t\t0.026032\n",
        "  validation accuracy:\t\t99.33 %\n",
        "Epoch 157 of 500 took 3.003s"
       ]
      },
      {
       "output_type": "stream",
       "stream": "stdout",
       "text": [
        "\n",
        "  training loss:\t\t0.030881\n",
        "  validation loss:\t\t0.026351\n",
        "  validation accuracy:\t\t99.33 %\n",
        "Epoch 158 of 500 took 3.002s"
       ]
      },
      {
       "output_type": "stream",
       "stream": "stdout",
       "text": [
        "\n",
        "  training loss:\t\t0.032622\n",
        "  validation loss:\t\t0.026124\n",
        "  validation accuracy:\t\t99.33 %\n",
        "Epoch 159 of 500 took 3.005s"
       ]
      },
      {
       "output_type": "stream",
       "stream": "stdout",
       "text": [
        "\n",
        "  training loss:\t\t0.031873\n",
        "  validation loss:\t\t0.026479\n",
        "  validation accuracy:\t\t99.27 %\n",
        "Epoch 160 of 500 took 3.003s"
       ]
      },
      {
       "output_type": "stream",
       "stream": "stdout",
       "text": [
        "\n",
        "  training loss:\t\t0.031091\n",
        "  validation loss:\t\t0.026377\n",
        "  validation accuracy:\t\t99.29 %\n",
        "Epoch 161 of 500 took 3.005s"
       ]
      },
      {
       "output_type": "stream",
       "stream": "stdout",
       "text": [
        "\n",
        "  training loss:\t\t0.031578\n",
        "  validation loss:\t\t0.025631\n",
        "  validation accuracy:\t\t99.34 %\n",
        "Epoch 162 of 500 took 3.004s"
       ]
      },
      {
       "output_type": "stream",
       "stream": "stdout",
       "text": [
        "\n",
        "  training loss:\t\t0.030537\n",
        "  validation loss:\t\t0.024925\n",
        "  validation accuracy:\t\t99.36 %\n",
        "Epoch 163 of 500 took 3.004s"
       ]
      },
      {
       "output_type": "stream",
       "stream": "stdout",
       "text": [
        "\n",
        "  training loss:\t\t0.031499\n",
        "  validation loss:\t\t0.026745\n",
        "  validation accuracy:\t\t99.30 %\n",
        "Epoch 164 of 500 took 3.004s"
       ]
      },
      {
       "output_type": "stream",
       "stream": "stdout",
       "text": [
        "\n",
        "  training loss:\t\t0.029999\n",
        "  validation loss:\t\t0.025253\n",
        "  validation accuracy:\t\t99.36 %\n",
        "Epoch 165 of 500 took 3.001s"
       ]
      },
      {
       "output_type": "stream",
       "stream": "stdout",
       "text": [
        "\n",
        "  training loss:\t\t0.029182\n",
        "  validation loss:\t\t0.025826\n",
        "  validation accuracy:\t\t99.32 %\n",
        "Epoch 166 of 500 took 3.004s"
       ]
      },
      {
       "output_type": "stream",
       "stream": "stdout",
       "text": [
        "\n",
        "  training loss:\t\t0.028908\n",
        "  validation loss:\t\t0.026967\n",
        "  validation accuracy:\t\t99.28 %\n",
        "Epoch 167 of 500 took 2.992s"
       ]
      },
      {
       "output_type": "stream",
       "stream": "stdout",
       "text": [
        "\n",
        "  training loss:\t\t0.029975\n",
        "  validation loss:\t\t0.026041\n",
        "  validation accuracy:\t\t99.37 %\n",
        "Epoch 168 of 500 took 3.003s"
       ]
      },
      {
       "output_type": "stream",
       "stream": "stdout",
       "text": [
        "\n",
        "  training loss:\t\t0.029691\n",
        "  validation loss:\t\t0.025968\n",
        "  validation accuracy:\t\t99.36 %\n",
        "Epoch 169 of 500 took 2.999s"
       ]
      },
      {
       "output_type": "stream",
       "stream": "stdout",
       "text": [
        "\n",
        "  training loss:\t\t0.031235\n",
        "  validation loss:\t\t0.025307\n",
        "  validation accuracy:\t\t99.34 %\n",
        "Epoch 170 of 500 took 3.001s"
       ]
      },
      {
       "output_type": "stream",
       "stream": "stdout",
       "text": [
        "\n",
        "  training loss:\t\t0.031189\n",
        "  validation loss:\t\t0.025627\n",
        "  validation accuracy:\t\t99.34 %\n",
        "Epoch 171 of 500 took 2.997s"
       ]
      },
      {
       "output_type": "stream",
       "stream": "stdout",
       "text": [
        "\n",
        "  training loss:\t\t0.030816\n",
        "  validation loss:\t\t0.026390\n",
        "  validation accuracy:\t\t99.33 %\n",
        "Epoch 172 of 500 took 3.000s"
       ]
      },
      {
       "output_type": "stream",
       "stream": "stdout",
       "text": [
        "\n",
        "  training loss:\t\t0.029155\n",
        "  validation loss:\t\t0.025786\n",
        "  validation accuracy:\t\t99.32 %\n",
        "Epoch 173 of 500 took 3.001s"
       ]
      },
      {
       "output_type": "stream",
       "stream": "stdout",
       "text": [
        "\n",
        "  training loss:\t\t0.030801\n",
        "  validation loss:\t\t0.024974\n",
        "  validation accuracy:\t\t99.39 %\n",
        "Epoch 174 of 500 took 3.001s"
       ]
      },
      {
       "output_type": "stream",
       "stream": "stdout",
       "text": [
        "\n",
        "  training loss:\t\t0.029956\n",
        "  validation loss:\t\t0.025705\n",
        "  validation accuracy:\t\t99.35 %\n",
        "Epoch 175 of 500 took 3.000s"
       ]
      },
      {
       "output_type": "stream",
       "stream": "stdout",
       "text": [
        "\n",
        "  training loss:\t\t0.028496\n",
        "  validation loss:\t\t0.025141\n",
        "  validation accuracy:\t\t99.35 %\n",
        "Epoch 176 of 500 took 2.999s"
       ]
      },
      {
       "output_type": "stream",
       "stream": "stdout",
       "text": [
        "\n",
        "  training loss:\t\t0.029588\n",
        "  validation loss:\t\t0.026107\n",
        "  validation accuracy:\t\t99.34 %\n",
        "Epoch 177 of 500 took 3.000s"
       ]
      },
      {
       "output_type": "stream",
       "stream": "stdout",
       "text": [
        "\n",
        "  training loss:\t\t0.029278\n",
        "  validation loss:\t\t0.025610\n",
        "  validation accuracy:\t\t99.35 %\n",
        "Epoch 178 of 500 took 2.995s"
       ]
      },
      {
       "output_type": "stream",
       "stream": "stdout",
       "text": [
        "\n",
        "  training loss:\t\t0.029713\n",
        "  validation loss:\t\t0.024669\n",
        "  validation accuracy:\t\t99.38 %\n",
        "Epoch 179 of 500 took 2.999s"
       ]
      },
      {
       "output_type": "stream",
       "stream": "stdout",
       "text": [
        "\n",
        "  training loss:\t\t0.029560\n",
        "  validation loss:\t\t0.025874\n",
        "  validation accuracy:\t\t99.33 %\n",
        "Epoch 180 of 500 took 3.000s"
       ]
      },
      {
       "output_type": "stream",
       "stream": "stdout",
       "text": [
        "\n",
        "  training loss:\t\t0.029445\n",
        "  validation loss:\t\t0.025698\n",
        "  validation accuracy:\t\t99.34 %\n",
        "Epoch 181 of 500 took 3.004s"
       ]
      },
      {
       "output_type": "stream",
       "stream": "stdout",
       "text": [
        "\n",
        "  training loss:\t\t0.030045\n",
        "  validation loss:\t\t0.024809\n",
        "  validation accuracy:\t\t99.37 %\n",
        "Epoch 182 of 500 took 3.004s"
       ]
      },
      {
       "output_type": "stream",
       "stream": "stdout",
       "text": [
        "\n",
        "  training loss:\t\t0.029667\n",
        "  validation loss:\t\t0.025646\n",
        "  validation accuracy:\t\t99.37 %\n",
        "Epoch 183 of 500 took 3.002s"
       ]
      },
      {
       "output_type": "stream",
       "stream": "stdout",
       "text": [
        "\n",
        "  training loss:\t\t0.029277\n",
        "  validation loss:\t\t0.026278\n",
        "  validation accuracy:\t\t99.32 %\n",
        "Epoch 184 of 500 took 3.001s"
       ]
      },
      {
       "output_type": "stream",
       "stream": "stdout",
       "text": [
        "\n",
        "  training loss:\t\t0.029065\n",
        "  validation loss:\t\t0.025076\n",
        "  validation accuracy:\t\t99.39 %\n",
        "Epoch 185 of 500 took 3.003s"
       ]
      },
      {
       "output_type": "stream",
       "stream": "stdout",
       "text": [
        "\n",
        "  training loss:\t\t0.028128\n",
        "  validation loss:\t\t0.025935\n",
        "  validation accuracy:\t\t99.35 %\n",
        "Epoch 186 of 500 took 2.997s"
       ]
      },
      {
       "output_type": "stream",
       "stream": "stdout",
       "text": [
        "\n",
        "  training loss:\t\t0.027600\n",
        "  validation loss:\t\t0.025551\n",
        "  validation accuracy:\t\t99.37 %\n",
        "Epoch 187 of 500 took 2.997s"
       ]
      },
      {
       "output_type": "stream",
       "stream": "stdout",
       "text": [
        "\n",
        "  training loss:\t\t0.029026\n",
        "  validation loss:\t\t0.024663\n",
        "  validation accuracy:\t\t99.39 %\n",
        "Epoch 188 of 500 took 3.000s"
       ]
      },
      {
       "output_type": "stream",
       "stream": "stdout",
       "text": [
        "\n",
        "  training loss:\t\t0.028890\n",
        "  validation loss:\t\t0.025487\n",
        "  validation accuracy:\t\t99.35 %\n",
        "Epoch 189 of 500 took 2.999s"
       ]
      },
      {
       "output_type": "stream",
       "stream": "stdout",
       "text": [
        "\n",
        "  training loss:\t\t0.026887\n",
        "  validation loss:\t\t0.025976\n",
        "  validation accuracy:\t\t99.35 %\n",
        "Epoch 190 of 500 took 3.000s"
       ]
      },
      {
       "output_type": "stream",
       "stream": "stdout",
       "text": [
        "\n",
        "  training loss:\t\t0.027221\n",
        "  validation loss:\t\t0.025635\n",
        "  validation accuracy:\t\t99.35 %\n",
        "Epoch 191 of 500 took 2.998s"
       ]
      },
      {
       "output_type": "stream",
       "stream": "stdout",
       "text": [
        "\n",
        "  training loss:\t\t0.028434\n",
        "  validation loss:\t\t0.025252\n",
        "  validation accuracy:\t\t99.35 %\n",
        "Epoch 192 of 500 took 2.998s"
       ]
      },
      {
       "output_type": "stream",
       "stream": "stdout",
       "text": [
        "\n",
        "  training loss:\t\t0.028255\n",
        "  validation loss:\t\t0.024766\n",
        "  validation accuracy:\t\t99.41 %\n",
        "Epoch 193 of 500 took 2.998s"
       ]
      },
      {
       "output_type": "stream",
       "stream": "stdout",
       "text": [
        "\n",
        "  training loss:\t\t0.028028\n",
        "  validation loss:\t\t0.025073\n",
        "  validation accuracy:\t\t99.38 %\n",
        "Epoch 194 of 500 took 3.000s"
       ]
      },
      {
       "output_type": "stream",
       "stream": "stdout",
       "text": [
        "\n",
        "  training loss:\t\t0.028906\n",
        "  validation loss:\t\t0.024178\n",
        "  validation accuracy:\t\t99.34 %\n",
        "Epoch 195 of 500 took 2.997s"
       ]
      },
      {
       "output_type": "stream",
       "stream": "stdout",
       "text": [
        "\n",
        "  training loss:\t\t0.027468\n",
        "  validation loss:\t\t0.024693\n",
        "  validation accuracy:\t\t99.40 %\n",
        "Epoch 196 of 500 took 2.997s"
       ]
      },
      {
       "output_type": "stream",
       "stream": "stdout",
       "text": [
        "\n",
        "  training loss:\t\t0.026349\n",
        "  validation loss:\t\t0.025153\n",
        "  validation accuracy:\t\t99.40 %\n",
        "Epoch 197 of 500 took 2.998s"
       ]
      },
      {
       "output_type": "stream",
       "stream": "stdout",
       "text": [
        "\n",
        "  training loss:\t\t0.026234\n",
        "  validation loss:\t\t0.025755\n",
        "  validation accuracy:\t\t99.40 %\n",
        "Epoch 198 of 500 took 2.998s"
       ]
      },
      {
       "output_type": "stream",
       "stream": "stdout",
       "text": [
        "\n",
        "  training loss:\t\t0.025924\n",
        "  validation loss:\t\t0.026476\n",
        "  validation accuracy:\t\t99.29 %\n",
        "Epoch 199 of 500 took 2.998s"
       ]
      },
      {
       "output_type": "stream",
       "stream": "stdout",
       "text": [
        "\n",
        "  training loss:\t\t0.027893\n",
        "  validation loss:\t\t0.025274\n",
        "  validation accuracy:\t\t99.34 %\n",
        "Epoch 200 of 500 took 2.995s"
       ]
      },
      {
       "output_type": "stream",
       "stream": "stdout",
       "text": [
        "\n",
        "  training loss:\t\t0.029431\n",
        "  validation loss:\t\t0.024598\n",
        "  validation accuracy:\t\t99.35 %\n",
        "Epoch 201 of 500 took 2.997s"
       ]
      },
      {
       "output_type": "stream",
       "stream": "stdout",
       "text": [
        "\n",
        "  training loss:\t\t0.026499\n",
        "  validation loss:\t\t0.025444\n",
        "  validation accuracy:\t\t99.36 %\n",
        "Epoch 202 of 500 took 2.998s"
       ]
      },
      {
       "output_type": "stream",
       "stream": "stdout",
       "text": [
        "\n",
        "  training loss:\t\t0.026727\n",
        "  validation loss:\t\t0.024119\n",
        "  validation accuracy:\t\t99.40 %\n",
        "Epoch 203 of 500 took 2.998s"
       ]
      },
      {
       "output_type": "stream",
       "stream": "stdout",
       "text": [
        "\n",
        "  training loss:\t\t0.026828\n",
        "  validation loss:\t\t0.025659\n",
        "  validation accuracy:\t\t99.35 %\n",
        "Epoch 204 of 500 took 2.996s"
       ]
      },
      {
       "output_type": "stream",
       "stream": "stdout",
       "text": [
        "\n",
        "  training loss:\t\t0.026551\n",
        "  validation loss:\t\t0.024366\n",
        "  validation accuracy:\t\t99.36 %\n",
        "Epoch 205 of 500 took 2.995s"
       ]
      },
      {
       "output_type": "stream",
       "stream": "stdout",
       "text": [
        "\n",
        "  training loss:\t\t0.026482\n",
        "  validation loss:\t\t0.024379\n",
        "  validation accuracy:\t\t99.41 %\n",
        "Epoch 206 of 500 took 2.995s"
       ]
      },
      {
       "output_type": "stream",
       "stream": "stdout",
       "text": [
        "\n",
        "  training loss:\t\t0.025779\n",
        "  validation loss:\t\t0.025170\n",
        "  validation accuracy:\t\t99.41 %\n",
        "Epoch 207 of 500 took 3.008s"
       ]
      },
      {
       "output_type": "stream",
       "stream": "stdout",
       "text": [
        "\n",
        "  training loss:\t\t0.025717\n",
        "  validation loss:\t\t0.024764\n",
        "  validation accuracy:\t\t99.43 %\n",
        "Epoch 208 of 500 took 3.000s"
       ]
      },
      {
       "output_type": "stream",
       "stream": "stdout",
       "text": [
        "\n",
        "  training loss:\t\t0.028062\n",
        "  validation loss:\t\t0.025578\n",
        "  validation accuracy:\t\t99.38 %\n",
        "Epoch 209 of 500 took 3.003s"
       ]
      },
      {
       "output_type": "stream",
       "stream": "stdout",
       "text": [
        "\n",
        "  training loss:\t\t0.025489\n",
        "  validation loss:\t\t0.024488\n",
        "  validation accuracy:\t\t99.40 %\n",
        "Epoch 210 of 500 took 3.005s"
       ]
      },
      {
       "output_type": "stream",
       "stream": "stdout",
       "text": [
        "\n",
        "  training loss:\t\t0.025838\n",
        "  validation loss:\t\t0.025005\n",
        "  validation accuracy:\t\t99.39 %\n",
        "Epoch 211 of 500 took 3.003s"
       ]
      },
      {
       "output_type": "stream",
       "stream": "stdout",
       "text": [
        "\n",
        "  training loss:\t\t0.024647\n",
        "  validation loss:\t\t0.025099\n",
        "  validation accuracy:\t\t99.39 %\n",
        "Epoch 212 of 500 took 3.000s"
       ]
      },
      {
       "output_type": "stream",
       "stream": "stdout",
       "text": [
        "\n",
        "  training loss:\t\t0.026672\n",
        "  validation loss:\t\t0.024319\n",
        "  validation accuracy:\t\t99.40 %\n",
        "Epoch 213 of 500 took 2.998s"
       ]
      },
      {
       "output_type": "stream",
       "stream": "stdout",
       "text": [
        "\n",
        "  training loss:\t\t0.025595\n",
        "  validation loss:\t\t0.024618\n",
        "  validation accuracy:\t\t99.42 %\n",
        "Epoch 214 of 500 took 2.997s"
       ]
      },
      {
       "output_type": "stream",
       "stream": "stdout",
       "text": [
        "\n",
        "  training loss:\t\t0.025806\n",
        "  validation loss:\t\t0.025343\n",
        "  validation accuracy:\t\t99.41 %\n",
        "Epoch 215 of 500 took 2.999s"
       ]
      },
      {
       "output_type": "stream",
       "stream": "stdout",
       "text": [
        "\n",
        "  training loss:\t\t0.026426\n",
        "  validation loss:\t\t0.025057\n",
        "  validation accuracy:\t\t99.39 %\n",
        "Epoch 216 of 500 took 2.996s"
       ]
      },
      {
       "output_type": "stream",
       "stream": "stdout",
       "text": [
        "\n",
        "  training loss:\t\t0.024647\n",
        "  validation loss:\t\t0.023872\n",
        "  validation accuracy:\t\t99.42 %\n",
        "Epoch 217 of 500 took 2.997s"
       ]
      },
      {
       "output_type": "stream",
       "stream": "stdout",
       "text": [
        "\n",
        "  training loss:\t\t0.026805\n",
        "  validation loss:\t\t0.025408\n",
        "  validation accuracy:\t\t99.36 %\n",
        "Epoch 218 of 500 took 2.998s"
       ]
      },
      {
       "output_type": "stream",
       "stream": "stdout",
       "text": [
        "\n",
        "  training loss:\t\t0.023784\n",
        "  validation loss:\t\t0.024656\n",
        "  validation accuracy:\t\t99.37 %\n",
        "Epoch 219 of 500 took 2.998s"
       ]
      },
      {
       "output_type": "stream",
       "stream": "stdout",
       "text": [
        "\n",
        "  training loss:\t\t0.023724\n",
        "  validation loss:\t\t0.024329\n",
        "  validation accuracy:\t\t99.41 %\n",
        "Epoch 220 of 500 took 2.999s"
       ]
      },
      {
       "output_type": "stream",
       "stream": "stdout",
       "text": [
        "\n",
        "  training loss:\t\t0.026694\n",
        "  validation loss:\t\t0.024743\n",
        "  validation accuracy:\t\t99.37 %\n",
        "Epoch 221 of 500 took 3.000s"
       ]
      },
      {
       "output_type": "stream",
       "stream": "stdout",
       "text": [
        "\n",
        "  training loss:\t\t0.025459\n",
        "  validation loss:\t\t0.024005\n",
        "  validation accuracy:\t\t99.41 %\n",
        "Epoch 222 of 500 took 2.999s"
       ]
      },
      {
       "output_type": "stream",
       "stream": "stdout",
       "text": [
        "\n",
        "  training loss:\t\t0.023235\n",
        "  validation loss:\t\t0.023959\n",
        "  validation accuracy:\t\t99.39 %\n",
        "Epoch 223 of 500 took 2.997s"
       ]
      },
      {
       "output_type": "stream",
       "stream": "stdout",
       "text": [
        "\n",
        "  training loss:\t\t0.023253\n",
        "  validation loss:\t\t0.025120\n",
        "  validation accuracy:\t\t99.38 %\n",
        "Epoch 224 of 500 took 3.001s"
       ]
      },
      {
       "output_type": "stream",
       "stream": "stdout",
       "text": [
        "\n",
        "  training loss:\t\t0.027286\n",
        "  validation loss:\t\t0.026031\n",
        "  validation accuracy:\t\t99.34 %\n",
        "Epoch 225 of 500 took 3.002s"
       ]
      },
      {
       "output_type": "stream",
       "stream": "stdout",
       "text": [
        "\n",
        "  training loss:\t\t0.025457\n",
        "  validation loss:\t\t0.024685\n",
        "  validation accuracy:\t\t99.39 %\n",
        "Epoch 226 of 500 took 3.001s"
       ]
      },
      {
       "output_type": "stream",
       "stream": "stdout",
       "text": [
        "\n",
        "  training loss:\t\t0.024686\n",
        "  validation loss:\t\t0.024253\n",
        "  validation accuracy:\t\t99.39 %\n",
        "Epoch 227 of 500 took 3.001s"
       ]
      },
      {
       "output_type": "stream",
       "stream": "stdout",
       "text": [
        "\n",
        "  training loss:\t\t0.024828\n",
        "  validation loss:\t\t0.024792\n",
        "  validation accuracy:\t\t99.41 %\n",
        "Epoch 228 of 500 took 2.999s"
       ]
      },
      {
       "output_type": "stream",
       "stream": "stdout",
       "text": [
        "\n",
        "  training loss:\t\t0.025617\n",
        "  validation loss:\t\t0.025589\n",
        "  validation accuracy:\t\t99.32 %\n",
        "Epoch 229 of 500 took 3.008s"
       ]
      },
      {
       "output_type": "stream",
       "stream": "stdout",
       "text": [
        "\n",
        "  training loss:\t\t0.024696\n",
        "  validation loss:\t\t0.024674\n",
        "  validation accuracy:\t\t99.36 %\n",
        "Epoch 230 of 500 took 2.996s"
       ]
      },
      {
       "output_type": "stream",
       "stream": "stdout",
       "text": [
        "\n",
        "  training loss:\t\t0.023403\n",
        "  validation loss:\t\t0.024104\n",
        "  validation accuracy:\t\t99.41 %\n",
        "Epoch 231 of 500 took 2.995s"
       ]
      },
      {
       "output_type": "stream",
       "stream": "stdout",
       "text": [
        "\n",
        "  training loss:\t\t0.023280\n",
        "  validation loss:\t\t0.025161\n",
        "  validation accuracy:\t\t99.36 %\n",
        "Epoch 232 of 500 took 2.999s"
       ]
      },
      {
       "output_type": "stream",
       "stream": "stdout",
       "text": [
        "\n",
        "  training loss:\t\t0.025002\n",
        "  validation loss:\t\t0.024668\n",
        "  validation accuracy:\t\t99.40 %\n",
        "Epoch 233 of 500 took 2.997s"
       ]
      },
      {
       "output_type": "stream",
       "stream": "stdout",
       "text": [
        "\n",
        "  training loss:\t\t0.024556\n",
        "  validation loss:\t\t0.024386\n",
        "  validation accuracy:\t\t99.40 %\n",
        "Epoch 234 of 500 took 3.005s"
       ]
      },
      {
       "output_type": "stream",
       "stream": "stdout",
       "text": [
        "\n",
        "  training loss:\t\t0.024195\n",
        "  validation loss:\t\t0.024243\n",
        "  validation accuracy:\t\t99.42 %\n",
        "Epoch 235 of 500 took 3.004s"
       ]
      },
      {
       "output_type": "stream",
       "stream": "stdout",
       "text": [
        "\n",
        "  training loss:\t\t0.023517\n",
        "  validation loss:\t\t0.025210\n",
        "  validation accuracy:\t\t99.35 %\n",
        "Epoch 236 of 500 took 3.003s"
       ]
      },
      {
       "output_type": "stream",
       "stream": "stdout",
       "text": [
        "\n",
        "  training loss:\t\t0.023752\n",
        "  validation loss:\t\t0.024474\n",
        "  validation accuracy:\t\t99.38 %\n",
        "Epoch 237 of 500 took 3.005s"
       ]
      },
      {
       "output_type": "stream",
       "stream": "stdout",
       "text": [
        "\n",
        "  training loss:\t\t0.024120\n",
        "  validation loss:\t\t0.024890\n",
        "  validation accuracy:\t\t99.39 %\n",
        "Epoch 238 of 500 took 2.997s"
       ]
      },
      {
       "output_type": "stream",
       "stream": "stdout",
       "text": [
        "\n",
        "  training loss:\t\t0.023213\n",
        "  validation loss:\t\t0.026039\n",
        "  validation accuracy:\t\t99.37 %\n",
        "Epoch 239 of 500 took 2.997s"
       ]
      },
      {
       "output_type": "stream",
       "stream": "stdout",
       "text": [
        "\n",
        "  training loss:\t\t0.024293\n",
        "  validation loss:\t\t0.024197\n",
        "  validation accuracy:\t\t99.41 %\n",
        "Epoch 240 of 500 took 2.997s"
       ]
      },
      {
       "output_type": "stream",
       "stream": "stdout",
       "text": [
        "\n",
        "  training loss:\t\t0.023349\n",
        "  validation loss:\t\t0.024115\n",
        "  validation accuracy:\t\t99.36 %\n",
        "Epoch 241 of 500 took 2.999s"
       ]
      },
      {
       "output_type": "stream",
       "stream": "stdout",
       "text": [
        "\n",
        "  training loss:\t\t0.022293\n",
        "  validation loss:\t\t0.026302\n",
        "  validation accuracy:\t\t99.31 %\n",
        "Epoch 242 of 500 took 2.999s"
       ]
      },
      {
       "output_type": "stream",
       "stream": "stdout",
       "text": [
        "\n",
        "  training loss:\t\t0.022646\n",
        "  validation loss:\t\t0.024764\n",
        "  validation accuracy:\t\t99.38 %\n",
        "Epoch 243 of 500 took 2.998s"
       ]
      },
      {
       "output_type": "stream",
       "stream": "stdout",
       "text": [
        "\n",
        "  training loss:\t\t0.022250\n",
        "  validation loss:\t\t0.024310\n",
        "  validation accuracy:\t\t99.41 %\n",
        "Epoch 244 of 500 took 2.999s"
       ]
      },
      {
       "output_type": "stream",
       "stream": "stdout",
       "text": [
        "\n",
        "  training loss:\t\t0.023810\n",
        "  validation loss:\t\t0.024594\n",
        "  validation accuracy:\t\t99.37 %\n",
        "Epoch 245 of 500 took 3.000s"
       ]
      },
      {
       "output_type": "stream",
       "stream": "stdout",
       "text": [
        "\n",
        "  training loss:\t\t0.024025\n",
        "  validation loss:\t\t0.024011\n",
        "  validation accuracy:\t\t99.41 %\n",
        "Epoch 246 of 500 took 3.001s"
       ]
      },
      {
       "output_type": "stream",
       "stream": "stdout",
       "text": [
        "\n",
        "  training loss:\t\t0.024024\n",
        "  validation loss:\t\t0.025067\n",
        "  validation accuracy:\t\t99.36 %\n",
        "Epoch 247 of 500 took 2.997s"
       ]
      },
      {
       "output_type": "stream",
       "stream": "stdout",
       "text": [
        "\n",
        "  training loss:\t\t0.022796\n",
        "  validation loss:\t\t0.024524\n",
        "  validation accuracy:\t\t99.41 %\n",
        "Epoch 248 of 500 took 2.995s"
       ]
      },
      {
       "output_type": "stream",
       "stream": "stdout",
       "text": [
        "\n",
        "  training loss:\t\t0.024212\n",
        "  validation loss:\t\t0.026056\n",
        "  validation accuracy:\t\t99.36 %\n",
        "Epoch 249 of 500 took 2.997s"
       ]
      },
      {
       "output_type": "stream",
       "stream": "stdout",
       "text": [
        "\n",
        "  training loss:\t\t0.022460\n",
        "  validation loss:\t\t0.024796\n",
        "  validation accuracy:\t\t99.42 %\n",
        "Epoch 250 of 500 took 3.001s"
       ]
      },
      {
       "output_type": "stream",
       "stream": "stdout",
       "text": [
        "\n",
        "  training loss:\t\t0.023635\n",
        "  validation loss:\t\t0.024128\n",
        "  validation accuracy:\t\t99.41 %\n",
        "Epoch 251 of 500 took 2.999s"
       ]
      },
      {
       "output_type": "stream",
       "stream": "stdout",
       "text": [
        "\n",
        "  training loss:\t\t0.021806\n",
        "  validation loss:\t\t0.024152\n",
        "  validation accuracy:\t\t99.44 %\n",
        "Epoch 252 of 500 took 2.998s"
       ]
      },
      {
       "output_type": "stream",
       "stream": "stdout",
       "text": [
        "\n",
        "  training loss:\t\t0.023553\n",
        "  validation loss:\t\t0.023756\n",
        "  validation accuracy:\t\t99.41 %\n",
        "Epoch 253 of 500 took 3.000s"
       ]
      },
      {
       "output_type": "stream",
       "stream": "stdout",
       "text": [
        "\n",
        "  training loss:\t\t0.021672\n",
        "  validation loss:\t\t0.024536\n",
        "  validation accuracy:\t\t99.40 %\n",
        "Epoch 254 of 500 took 2.999s"
       ]
      },
      {
       "output_type": "stream",
       "stream": "stdout",
       "text": [
        "\n",
        "  training loss:\t\t0.020921\n",
        "  validation loss:\t\t0.024752\n",
        "  validation accuracy:\t\t99.42 %\n",
        "Epoch 255 of 500 took 3.001s"
       ]
      },
      {
       "output_type": "stream",
       "stream": "stdout",
       "text": [
        "\n",
        "  training loss:\t\t0.022689\n",
        "  validation loss:\t\t0.025065\n",
        "  validation accuracy:\t\t99.37 %\n",
        "Epoch 256 of 500 took 3.005s"
       ]
      },
      {
       "output_type": "stream",
       "stream": "stdout",
       "text": [
        "\n",
        "  training loss:\t\t0.023832\n",
        "  validation loss:\t\t0.024118\n",
        "  validation accuracy:\t\t99.41 %\n",
        "Epoch 257 of 500 took 3.003s"
       ]
      },
      {
       "output_type": "stream",
       "stream": "stdout",
       "text": [
        "\n",
        "  training loss:\t\t0.022211\n",
        "  validation loss:\t\t0.024980\n",
        "  validation accuracy:\t\t99.40 %\n",
        "Epoch 258 of 500 took 3.000s"
       ]
      },
      {
       "output_type": "stream",
       "stream": "stdout",
       "text": [
        "\n",
        "  training loss:\t\t0.021963\n",
        "  validation loss:\t\t0.025838\n",
        "  validation accuracy:\t\t99.37 %\n",
        "Epoch 259 of 500 took 2.995s"
       ]
      },
      {
       "output_type": "stream",
       "stream": "stdout",
       "text": [
        "\n",
        "  training loss:\t\t0.023668\n",
        "  validation loss:\t\t0.024609\n",
        "  validation accuracy:\t\t99.45 %\n",
        "Epoch 260 of 500 took 2.997s"
       ]
      },
      {
       "output_type": "stream",
       "stream": "stdout",
       "text": [
        "\n",
        "  training loss:\t\t0.022752\n",
        "  validation loss:\t\t0.025502\n",
        "  validation accuracy:\t\t99.34 %\n",
        "Epoch 261 of 500 took 2.999s"
       ]
      },
      {
       "output_type": "stream",
       "stream": "stdout",
       "text": [
        "\n",
        "  training loss:\t\t0.023093\n",
        "  validation loss:\t\t0.024163\n",
        "  validation accuracy:\t\t99.40 %\n",
        "Epoch 262 of 500 took 2.997s"
       ]
      },
      {
       "output_type": "stream",
       "stream": "stdout",
       "text": [
        "\n",
        "  training loss:\t\t0.021180\n",
        "  validation loss:\t\t0.025762\n",
        "  validation accuracy:\t\t99.31 %\n",
        "Epoch 263 of 500 took 2.995s"
       ]
      },
      {
       "output_type": "stream",
       "stream": "stdout",
       "text": [
        "\n",
        "  training loss:\t\t0.023059\n",
        "  validation loss:\t\t0.025464\n",
        "  validation accuracy:\t\t99.34 %\n",
        "Epoch 264 of 500 took 2.997s"
       ]
      },
      {
       "output_type": "stream",
       "stream": "stdout",
       "text": [
        "\n",
        "  training loss:\t\t0.022930\n",
        "  validation loss:\t\t0.025077\n",
        "  validation accuracy:\t\t99.42 %\n",
        "Epoch 265 of 500 took 2.999s"
       ]
      },
      {
       "output_type": "stream",
       "stream": "stdout",
       "text": [
        "\n",
        "  training loss:\t\t0.021893\n",
        "  validation loss:\t\t0.024254\n",
        "  validation accuracy:\t\t99.38 %\n",
        "Epoch 266 of 500 took 2.999s"
       ]
      },
      {
       "output_type": "stream",
       "stream": "stdout",
       "text": [
        "\n",
        "  training loss:\t\t0.023924\n",
        "  validation loss:\t\t0.024343\n",
        "  validation accuracy:\t\t99.39 %\n",
        "Epoch 267 of 500 took 2.996s"
       ]
      },
      {
       "output_type": "stream",
       "stream": "stdout",
       "text": [
        "\n",
        "  training loss:\t\t0.022146\n",
        "  validation loss:\t\t0.024419\n",
        "  validation accuracy:\t\t99.42 %\n",
        "Epoch 268 of 500 took 3.003s"
       ]
      },
      {
       "output_type": "stream",
       "stream": "stdout",
       "text": [
        "\n",
        "  training loss:\t\t0.022081\n",
        "  validation loss:\t\t0.024863\n",
        "  validation accuracy:\t\t99.40 %\n",
        "Epoch 269 of 500 took 2.997s"
       ]
      },
      {
       "output_type": "stream",
       "stream": "stdout",
       "text": [
        "\n",
        "  training loss:\t\t0.021461\n",
        "  validation loss:\t\t0.023654\n",
        "  validation accuracy:\t\t99.36 %\n",
        "Epoch 270 of 500 took 2.999s"
       ]
      },
      {
       "output_type": "stream",
       "stream": "stdout",
       "text": [
        "\n",
        "  training loss:\t\t0.021798\n",
        "  validation loss:\t\t0.025243\n",
        "  validation accuracy:\t\t99.36 %\n",
        "Epoch 271 of 500 took 2.999s"
       ]
      },
      {
       "output_type": "stream",
       "stream": "stdout",
       "text": [
        "\n",
        "  training loss:\t\t0.021068\n",
        "  validation loss:\t\t0.024449\n",
        "  validation accuracy:\t\t99.36 %\n",
        "Epoch 272 of 500 took 2.998s"
       ]
      },
      {
       "output_type": "stream",
       "stream": "stdout",
       "text": [
        "\n",
        "  training loss:\t\t0.022194\n",
        "  validation loss:\t\t0.024044\n",
        "  validation accuracy:\t\t99.42 %\n",
        "Epoch 273 of 500 took 2.997s"
       ]
      },
      {
       "output_type": "stream",
       "stream": "stdout",
       "text": [
        "\n",
        "  training loss:\t\t0.021597\n",
        "  validation loss:\t\t0.024521\n",
        "  validation accuracy:\t\t99.43 %\n",
        "Epoch 274 of 500 took 2.998s"
       ]
      },
      {
       "output_type": "stream",
       "stream": "stdout",
       "text": [
        "\n",
        "  training loss:\t\t0.021247\n",
        "  validation loss:\t\t0.023841\n",
        "  validation accuracy:\t\t99.45 %\n",
        "Epoch 275 of 500 took 2.999s"
       ]
      },
      {
       "output_type": "stream",
       "stream": "stdout",
       "text": [
        "\n",
        "  training loss:\t\t0.019939\n",
        "  validation loss:\t\t0.024840\n",
        "  validation accuracy:\t\t99.40 %\n",
        "Epoch 276 of 500 took 3.000s"
       ]
      },
      {
       "output_type": "stream",
       "stream": "stdout",
       "text": [
        "\n",
        "  training loss:\t\t0.020787\n",
        "  validation loss:\t\t0.023862\n",
        "  validation accuracy:\t\t99.42 %\n",
        "Epoch 277 of 500 took 3.001s"
       ]
      },
      {
       "output_type": "stream",
       "stream": "stdout",
       "text": [
        "\n",
        "  training loss:\t\t0.022214\n",
        "  validation loss:\t\t0.024162\n",
        "  validation accuracy:\t\t99.45 %\n",
        "Epoch 278 of 500 took 3.001s"
       ]
      },
      {
       "output_type": "stream",
       "stream": "stdout",
       "text": [
        "\n",
        "  training loss:\t\t0.021666\n",
        "  validation loss:\t\t0.024575\n",
        "  validation accuracy:\t\t99.42 %\n",
        "Epoch 279 of 500 took 3.000s"
       ]
      },
      {
       "output_type": "stream",
       "stream": "stdout",
       "text": [
        "\n",
        "  training loss:\t\t0.020772\n",
        "  validation loss:\t\t0.024433\n",
        "  validation accuracy:\t\t99.37 %\n",
        "Epoch 280 of 500 took 3.003s"
       ]
      },
      {
       "output_type": "stream",
       "stream": "stdout",
       "text": [
        "\n",
        "  training loss:\t\t0.019760\n",
        "  validation loss:\t\t0.024960\n",
        "  validation accuracy:\t\t99.41 %\n",
        "Epoch 281 of 500 took 3.003s"
       ]
      },
      {
       "output_type": "stream",
       "stream": "stdout",
       "text": [
        "\n",
        "  training loss:\t\t0.020699\n",
        "  validation loss:\t\t0.024608\n",
        "  validation accuracy:\t\t99.38 %\n",
        "Epoch 282 of 500 took 3.002s"
       ]
      },
      {
       "output_type": "stream",
       "stream": "stdout",
       "text": [
        "\n",
        "  training loss:\t\t0.021158\n",
        "  validation loss:\t\t0.024477\n",
        "  validation accuracy:\t\t99.40 %\n",
        "Epoch 283 of 500 took 2.999s"
       ]
      },
      {
       "output_type": "stream",
       "stream": "stdout",
       "text": [
        "\n",
        "  training loss:\t\t0.020309\n",
        "  validation loss:\t\t0.025080\n",
        "  validation accuracy:\t\t99.39 %\n",
        "Epoch 284 of 500 took 2.997s"
       ]
      },
      {
       "output_type": "stream",
       "stream": "stdout",
       "text": [
        "\n",
        "  training loss:\t\t0.020430\n",
        "  validation loss:\t\t0.024534\n",
        "  validation accuracy:\t\t99.39 %\n",
        "Epoch 285 of 500 took 3.001s"
       ]
      },
      {
       "output_type": "stream",
       "stream": "stdout",
       "text": [
        "\n",
        "  training loss:\t\t0.018441\n",
        "  validation loss:\t\t0.024959\n",
        "  validation accuracy:\t\t99.37 %\n",
        "Epoch 286 of 500 took 3.000s"
       ]
      },
      {
       "output_type": "stream",
       "stream": "stdout",
       "text": [
        "\n",
        "  training loss:\t\t0.022496\n",
        "  validation loss:\t\t0.023895\n",
        "  validation accuracy:\t\t99.36 %\n",
        "Epoch 287 of 500 took 2.996s"
       ]
      },
      {
       "output_type": "stream",
       "stream": "stdout",
       "text": [
        "\n",
        "  training loss:\t\t0.020063\n",
        "  validation loss:\t\t0.024259\n",
        "  validation accuracy:\t\t99.44 %\n",
        "Epoch 288 of 500 took 2.997s"
       ]
      },
      {
       "output_type": "stream",
       "stream": "stdout",
       "text": [
        "\n",
        "  training loss:\t\t0.021995\n",
        "  validation loss:\t\t0.024118\n",
        "  validation accuracy:\t\t99.45 %\n",
        "Epoch 289 of 500 took 3.000s"
       ]
      },
      {
       "output_type": "stream",
       "stream": "stdout",
       "text": [
        "\n",
        "  training loss:\t\t0.020951\n",
        "  validation loss:\t\t0.024457\n",
        "  validation accuracy:\t\t99.41 %\n",
        "Epoch 290 of 500 took 2.998s"
       ]
      },
      {
       "output_type": "stream",
       "stream": "stdout",
       "text": [
        "\n",
        "  training loss:\t\t0.020321\n",
        "  validation loss:\t\t0.024409\n",
        "  validation accuracy:\t\t99.40 %\n",
        "Epoch 291 of 500 took 2.999s"
       ]
      },
      {
       "output_type": "stream",
       "stream": "stdout",
       "text": [
        "\n",
        "  training loss:\t\t0.021771\n",
        "  validation loss:\t\t0.023915\n",
        "  validation accuracy:\t\t99.44 %\n",
        "Epoch 292 of 500 took 2.997s"
       ]
      },
      {
       "output_type": "stream",
       "stream": "stdout",
       "text": [
        "\n",
        "  training loss:\t\t0.021624\n",
        "  validation loss:\t\t0.024666\n",
        "  validation accuracy:\t\t99.38 %\n",
        "Epoch 293 of 500 took 3.001s"
       ]
      },
      {
       "output_type": "stream",
       "stream": "stdout",
       "text": [
        "\n",
        "  training loss:\t\t0.020391\n",
        "  validation loss:\t\t0.023826\n",
        "  validation accuracy:\t\t99.37 %\n",
        "Epoch 294 of 500 took 3.003s"
       ]
      },
      {
       "output_type": "stream",
       "stream": "stdout",
       "text": [
        "\n",
        "  training loss:\t\t0.021600\n",
        "  validation loss:\t\t0.024032\n",
        "  validation accuracy:\t\t99.41 %\n",
        "Epoch 295 of 500 took 3.003s"
       ]
      },
      {
       "output_type": "stream",
       "stream": "stdout",
       "text": [
        "\n",
        "  training loss:\t\t0.019884\n",
        "  validation loss:\t\t0.024539\n",
        "  validation accuracy:\t\t99.42 %\n",
        "Epoch 296 of 500 took 2.999s"
       ]
      },
      {
       "output_type": "stream",
       "stream": "stdout",
       "text": [
        "\n",
        "  training loss:\t\t0.020547\n",
        "  validation loss:\t\t0.024300\n",
        "  validation accuracy:\t\t99.40 %\n",
        "Epoch 297 of 500 took 2.998s"
       ]
      },
      {
       "output_type": "stream",
       "stream": "stdout",
       "text": [
        "\n",
        "  training loss:\t\t0.020626\n",
        "  validation loss:\t\t0.024200\n",
        "  validation accuracy:\t\t99.45 %\n",
        "Epoch 298 of 500 took 2.997s"
       ]
      },
      {
       "output_type": "stream",
       "stream": "stdout",
       "text": [
        "\n",
        "  training loss:\t\t0.019072\n",
        "  validation loss:\t\t0.024666\n",
        "  validation accuracy:\t\t99.42 %\n",
        "Epoch 299 of 500 took 2.994s"
       ]
      },
      {
       "output_type": "stream",
       "stream": "stdout",
       "text": [
        "\n",
        "  training loss:\t\t0.019847\n",
        "  validation loss:\t\t0.024084\n",
        "  validation accuracy:\t\t99.39 %\n",
        "Epoch 300 of 500 took 2.999s"
       ]
      },
      {
       "output_type": "stream",
       "stream": "stdout",
       "text": [
        "\n",
        "  training loss:\t\t0.020501\n",
        "  validation loss:\t\t0.024792\n",
        "  validation accuracy:\t\t99.39 %\n",
        "Epoch 301 of 500 took 2.998s"
       ]
      },
      {
       "output_type": "stream",
       "stream": "stdout",
       "text": [
        "\n",
        "  training loss:\t\t0.017561\n",
        "  validation loss:\t\t0.024582\n",
        "  validation accuracy:\t\t99.43 %\n",
        "Epoch 302 of 500 took 2.998s"
       ]
      },
      {
       "output_type": "stream",
       "stream": "stdout",
       "text": [
        "\n",
        "  training loss:\t\t0.020362\n",
        "  validation loss:\t\t0.023407\n",
        "  validation accuracy:\t\t99.43 %\n",
        "Epoch 303 of 500 took 2.990s"
       ]
      },
      {
       "output_type": "stream",
       "stream": "stdout",
       "text": [
        "\n",
        "  training loss:\t\t0.020222\n",
        "  validation loss:\t\t0.024358\n",
        "  validation accuracy:\t\t99.41 %\n",
        "Epoch 304 of 500 took 2.996s"
       ]
      },
      {
       "output_type": "stream",
       "stream": "stdout",
       "text": [
        "\n",
        "  training loss:\t\t0.019568\n",
        "  validation loss:\t\t0.023850\n",
        "  validation accuracy:\t\t99.45 %\n",
        "Epoch 305 of 500 took 2.998s"
       ]
      },
      {
       "output_type": "stream",
       "stream": "stdout",
       "text": [
        "\n",
        "  training loss:\t\t0.018926\n",
        "  validation loss:\t\t0.025147\n",
        "  validation accuracy:\t\t99.38 %\n",
        "Epoch 306 of 500 took 2.999s"
       ]
      },
      {
       "output_type": "stream",
       "stream": "stdout",
       "text": [
        "\n",
        "  training loss:\t\t0.019914\n",
        "  validation loss:\t\t0.024910\n",
        "  validation accuracy:\t\t99.40 %\n",
        "Epoch 307 of 500 took 3.004s"
       ]
      },
      {
       "output_type": "stream",
       "stream": "stdout",
       "text": [
        "\n",
        "  training loss:\t\t0.019917\n",
        "  validation loss:\t\t0.026093\n",
        "  validation accuracy:\t\t99.38 %\n",
        "Epoch 308 of 500 took 3.002s"
       ]
      },
      {
       "output_type": "stream",
       "stream": "stdout",
       "text": [
        "\n",
        "  training loss:\t\t0.019315\n",
        "  validation loss:\t\t0.024235\n",
        "  validation accuracy:\t\t99.47 %\n",
        "Epoch 309 of 500 took 2.998s"
       ]
      },
      {
       "output_type": "stream",
       "stream": "stdout",
       "text": [
        "\n",
        "  training loss:\t\t0.020275\n",
        "  validation loss:\t\t0.023874\n",
        "  validation accuracy:\t\t99.43 %\n",
        "Epoch 310 of 500 took 2.996s"
       ]
      },
      {
       "output_type": "stream",
       "stream": "stdout",
       "text": [
        "\n",
        "  training loss:\t\t0.018470\n",
        "  validation loss:\t\t0.024579\n",
        "  validation accuracy:\t\t99.40 %\n",
        "Epoch 311 of 500 took 3.002s"
       ]
      },
      {
       "output_type": "stream",
       "stream": "stdout",
       "text": [
        "\n",
        "  training loss:\t\t0.018719\n",
        "  validation loss:\t\t0.026731\n",
        "  validation accuracy:\t\t99.35 %\n",
        "Epoch 312 of 500 took 2.999s"
       ]
      },
      {
       "output_type": "stream",
       "stream": "stdout",
       "text": [
        "\n",
        "  training loss:\t\t0.019861\n",
        "  validation loss:\t\t0.024948\n",
        "  validation accuracy:\t\t99.41 %\n",
        "Epoch 313 of 500 took 3.001s"
       ]
      },
      {
       "output_type": "stream",
       "stream": "stdout",
       "text": [
        "\n",
        "  training loss:\t\t0.019161\n",
        "  validation loss:\t\t0.023249\n",
        "  validation accuracy:\t\t99.44 %\n",
        "Epoch 314 of 500 took 2.996s"
       ]
      },
      {
       "output_type": "stream",
       "stream": "stdout",
       "text": [
        "\n",
        "  training loss:\t\t0.019070\n",
        "  validation loss:\t\t0.024687\n",
        "  validation accuracy:\t\t99.42 %\n",
        "Epoch 315 of 500 took 2.998s"
       ]
      },
      {
       "output_type": "stream",
       "stream": "stdout",
       "text": [
        "\n",
        "  training loss:\t\t0.019443\n",
        "  validation loss:\t\t0.023266\n",
        "  validation accuracy:\t\t99.46 %\n",
        "Epoch 316 of 500 took 2.995s"
       ]
      },
      {
       "output_type": "stream",
       "stream": "stdout",
       "text": [
        "\n",
        "  training loss:\t\t0.018743\n",
        "  validation loss:\t\t0.024366\n",
        "  validation accuracy:\t\t99.43 %\n",
        "Epoch 317 of 500 took 3.002s"
       ]
      },
      {
       "output_type": "stream",
       "stream": "stdout",
       "text": [
        "\n",
        "  training loss:\t\t0.019161\n",
        "  validation loss:\t\t0.024266\n",
        "  validation accuracy:\t\t99.44 %\n",
        "Epoch 318 of 500 took 2.997s"
       ]
      },
      {
       "output_type": "stream",
       "stream": "stdout",
       "text": [
        "\n",
        "  training loss:\t\t0.019793\n",
        "  validation loss:\t\t0.023845\n",
        "  validation accuracy:\t\t99.41 %\n",
        "Epoch 319 of 500 took 2.996s"
       ]
      },
      {
       "output_type": "stream",
       "stream": "stdout",
       "text": [
        "\n",
        "  training loss:\t\t0.018120\n",
        "  validation loss:\t\t0.024350\n",
        "  validation accuracy:\t\t99.44 %\n",
        "Epoch 320 of 500 took 3.002s"
       ]
      },
      {
       "output_type": "stream",
       "stream": "stdout",
       "text": [
        "\n",
        "  training loss:\t\t0.017869\n",
        "  validation loss:\t\t0.023901\n",
        "  validation accuracy:\t\t99.46 %\n",
        "Epoch 321 of 500 took 3.004s"
       ]
      },
      {
       "output_type": "stream",
       "stream": "stdout",
       "text": [
        "\n",
        "  training loss:\t\t0.017879\n",
        "  validation loss:\t\t0.024369\n",
        "  validation accuracy:\t\t99.42 %\n",
        "Epoch 322 of 500 took 2.995s"
       ]
      },
      {
       "output_type": "stream",
       "stream": "stdout",
       "text": [
        "\n",
        "  training loss:\t\t0.018869\n",
        "  validation loss:\t\t0.024403\n",
        "  validation accuracy:\t\t99.44 %\n",
        "Epoch 323 of 500 took 2.999s"
       ]
      },
      {
       "output_type": "stream",
       "stream": "stdout",
       "text": [
        "\n",
        "  training loss:\t\t0.018166\n",
        "  validation loss:\t\t0.024372\n",
        "  validation accuracy:\t\t99.41 %\n",
        "Epoch 324 of 500 took 2.997s"
       ]
      },
      {
       "output_type": "stream",
       "stream": "stdout",
       "text": [
        "\n",
        "  training loss:\t\t0.019262\n",
        "  validation loss:\t\t0.024160\n",
        "  validation accuracy:\t\t99.39 %\n",
        "Epoch 325 of 500 took 2.998s"
       ]
      },
      {
       "output_type": "stream",
       "stream": "stdout",
       "text": [
        "\n",
        "  training loss:\t\t0.019406\n",
        "  validation loss:\t\t0.023971\n",
        "  validation accuracy:\t\t99.40 %\n",
        "Epoch 326 of 500 took 2.997s"
       ]
      },
      {
       "output_type": "stream",
       "stream": "stdout",
       "text": [
        "\n",
        "  training loss:\t\t0.020074\n",
        "  validation loss:\t\t0.026417\n",
        "  validation accuracy:\t\t99.31 %\n",
        "Epoch 327 of 500 took 3.007s"
       ]
      },
      {
       "output_type": "stream",
       "stream": "stdout",
       "text": [
        "\n",
        "  training loss:\t\t0.020151\n",
        "  validation loss:\t\t0.024641\n",
        "  validation accuracy:\t\t99.41 %\n",
        "Epoch 328 of 500 took 2.997s"
       ]
      },
      {
       "output_type": "stream",
       "stream": "stdout",
       "text": [
        "\n",
        "  training loss:\t\t0.018711\n",
        "  validation loss:\t\t0.023948\n",
        "  validation accuracy:\t\t99.43 %\n",
        "Epoch 329 of 500 took 2.996s"
       ]
      },
      {
       "output_type": "stream",
       "stream": "stdout",
       "text": [
        "\n",
        "  training loss:\t\t0.018723\n",
        "  validation loss:\t\t0.024016\n",
        "  validation accuracy:\t\t99.45 %\n",
        "Epoch 330 of 500 took 3.011s"
       ]
      },
      {
       "output_type": "stream",
       "stream": "stdout",
       "text": [
        "\n",
        "  training loss:\t\t0.017693\n",
        "  validation loss:\t\t0.024657\n",
        "  validation accuracy:\t\t99.41 %\n",
        "Epoch 331 of 500 took 3.002s"
       ]
      },
      {
       "output_type": "stream",
       "stream": "stdout",
       "text": [
        "\n",
        "  training loss:\t\t0.018450\n",
        "  validation loss:\t\t0.024598\n",
        "  validation accuracy:\t\t99.41 %\n",
        "Epoch 332 of 500 took 3.003s"
       ]
      },
      {
       "output_type": "stream",
       "stream": "stdout",
       "text": [
        "\n",
        "  training loss:\t\t0.017663\n",
        "  validation loss:\t\t0.023850\n",
        "  validation accuracy:\t\t99.46 %\n",
        "Epoch 333 of 500 took 2.997s"
       ]
      },
      {
       "output_type": "stream",
       "stream": "stdout",
       "text": [
        "\n",
        "  training loss:\t\t0.019698\n",
        "  validation loss:\t\t0.023851\n",
        "  validation accuracy:\t\t99.45 %\n",
        "Epoch 334 of 500 took 2.995s"
       ]
      },
      {
       "output_type": "stream",
       "stream": "stdout",
       "text": [
        "\n",
        "  training loss:\t\t0.019001\n",
        "  validation loss:\t\t0.024257\n",
        "  validation accuracy:\t\t99.45 %\n",
        "Epoch 335 of 500 took 2.998s"
       ]
      },
      {
       "output_type": "stream",
       "stream": "stdout",
       "text": [
        "\n",
        "  training loss:\t\t0.018368\n",
        "  validation loss:\t\t0.024786\n",
        "  validation accuracy:\t\t99.41 %\n",
        "Epoch 336 of 500 took 3.001s"
       ]
      },
      {
       "output_type": "stream",
       "stream": "stdout",
       "text": [
        "\n",
        "  training loss:\t\t0.018984\n",
        "  validation loss:\t\t0.023682\n",
        "  validation accuracy:\t\t99.38 %\n",
        "Epoch 337 of 500 took 2.999s"
       ]
      },
      {
       "output_type": "stream",
       "stream": "stdout",
       "text": [
        "\n",
        "  training loss:\t\t0.019017\n",
        "  validation loss:\t\t0.024127\n",
        "  validation accuracy:\t\t99.46 %\n",
        "Epoch 338 of 500 took 2.998s"
       ]
      },
      {
       "output_type": "stream",
       "stream": "stdout",
       "text": [
        "\n",
        "  training loss:\t\t0.019355\n",
        "  validation loss:\t\t0.024438\n",
        "  validation accuracy:\t\t99.44 %\n",
        "Epoch 339 of 500 took 2.996s"
       ]
      },
      {
       "output_type": "stream",
       "stream": "stdout",
       "text": [
        "\n",
        "  training loss:\t\t0.018859\n",
        "  validation loss:\t\t0.024283\n",
        "  validation accuracy:\t\t99.43 %\n",
        "Epoch 340 of 500 took 2.997s"
       ]
      },
      {
       "output_type": "stream",
       "stream": "stdout",
       "text": [
        "\n",
        "  training loss:\t\t0.018444\n",
        "  validation loss:\t\t0.024328\n",
        "  validation accuracy:\t\t99.44 %\n",
        "Epoch 341 of 500 took 2.998s"
       ]
      }
     ],
     "prompt_number": "*"
    },
    {
     "cell_type": "code",
     "collapsed": false,
     "input": [],
     "language": "python",
     "metadata": {},
     "outputs": []
    }
   ],
   "metadata": {}
  }
 ]
}