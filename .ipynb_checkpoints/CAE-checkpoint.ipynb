{
 "metadata": {
  "name": ""
 },
 "nbformat": 3,
 "nbformat_minor": 0,
 "worksheets": [
  {
   "cells": [
    {
     "cell_type": "code",
     "collapsed": false,
     "input": [
      "import lasagne as nn\n",
      "matplotlib.use('Agg')\n",
      "import math\n",
      "import time\n",
      "import numpy as np\n",
      "import theano\n",
      "import theano.tensor as T\n",
      "from theano.sandbox.neighbours import neibs2images\n",
      "from operator import mul\n",
      "import pickle\n",
      "import sys\n",
      "import os\n",
      "import glob\n",
      "from PIL import Image, ImageOps\n",
      "from numpy.random import RandomState\n",
      "from datetime import datetime\n",
      "from matplotlib import pyplot as plt"
     ],
     "language": "python",
     "metadata": {},
     "outputs": [],
     "prompt_number": 6
    },
    {
     "cell_type": "code",
     "collapsed": false,
     "input": [
      "prng = RandomState(datetime.now().microsecond)\n",
      "sys.setrecursionlimit(10000)\n",
      "nn.random.set_rng(prng)"
     ],
     "language": "python",
     "metadata": {},
     "outputs": [],
     "prompt_number": 7
    },
    {
     "cell_type": "code",
     "collapsed": false,
     "input": [
      "ch = 1\n",
      "im = Image.open('../gremlins_gray/out1.png')\n",
      "print im.size\n",
      "if ch == 1:\n",
      "    im = im.convert('L')\n",
      "X = np.asarray(im.getdata()).reshape(112,112,ch).transpose(2,1,0) / 255.\n",
      "X = X.reshape(-1,ch,112,112).astype(float32)\n",
      "n = 0\n",
      "for filename in glob.glob(\"../gremlins_gray/*.png\"):\n",
      "    n = n + 1\n",
      "    im = Image.open(filename)\n",
      "    Xim = np.asarray(im.getdata()).reshape(112,112,ch).transpose(2,1,0) / 255.\n",
      "    Xim = Xim.reshape(-1,ch,112,112).astype(float32)\n",
      "    X = np.concatenate((X, Xim), axis=0).astype(float32)\n",
      "    if n==50:\n",
      "        break\n",
      "    \n",
      "print 'X type and shape:', X.dtype, X.shape\n",
      "print 'X.min():', X.min()\n",
      "print 'X.max():', X.max()"
     ],
     "language": "python",
     "metadata": {},
     "outputs": [
      {
       "output_type": "stream",
       "stream": "stdout",
       "text": [
        "(112, 112)\n",
        "X type and shape:"
       ]
      },
      {
       "output_type": "stream",
       "stream": "stdout",
       "text": [
        " float32 (51, 1, 112, 112)\n",
        "X.min(): 0.0\n",
        "X.max(): 1.0\n"
       ]
      }
     ],
     "prompt_number": 8
    },
    {
     "cell_type": "code",
     "collapsed": false,
     "input": [
      "def csize(shape, fs1, poolsize):\n",
      "    return ((shape[0] - fs1 + 1) / poolsize, (shape[1] - fs1 + 1) / poolsize)\n",
      "def softsign(x):\n",
      "    return x/(1+abs(x))\n"
     ],
     "language": "python",
     "metadata": {},
     "outputs": [],
     "prompt_number": 9
    },
    {
     "cell_type": "code",
     "collapsed": false,
     "input": [
      "def build_cae(inputvar=None, specstr='', imgshape=(100,100),channels=3,pInit=[]):\n",
      "    l_input = nn.layers.InputLayer(shape=(None,channels,imgshape[0], imgshape[1]),\n",
      "            input_var=inputvar, name='input')\n",
      "    l_last = l_input\n",
      "    to_invert=[]\n",
      "    specs=map(lambda s: s.split('-'), specstr.split(','))\n",
      "    layerIdx = 1\n",
      "    for spec in specs:\n",
      "        if len(spec) == 2 and spec[0] == 'd':\n",
      "            # do not append, because we don't do the inverse of a dropout\n",
      "            # layer on the way up\n",
      "            l_last = nn.layers.DropoutLayer(l_last, p=float(spec[1]), rescale=True,\n",
      "                    name='dropout{}'.format(layerIdx))\n",
      "        elif len(spec) == 2:\n",
      "            nfilt = int(spec[0])\n",
      "            fsize = int(spec[1])\n",
      "            if pInit:\n",
      "                print 'wInit will be {}'.format(pInit[0].shape)\n",
      "            wInit = pInit.pop(0) if pInit else nn.init.GlorotUniform()\n",
      "            l_last = nn.layers.Conv2DLayer(l_last, num_filters=nfilt,\n",
      "                    filter_size=(fsize,fsize),\n",
      "                    W=wInit,\n",
      "                    nonlinearity=None,\n",
      "                    b=None,\n",
      "                    name='conv{}'.format(layerIdx))\n",
      "            to_invert.append(l_last)\n",
      "            if pInit:\n",
      "                print 'bInit will be {}'.format(pInit[0].shape)\n",
      "            bInit = pInit.pop(0) if pInit else nn.init.Constant(0)\n",
      "            l_last = nn.layers.BiasLayer(l_last,\n",
      "                    b=bInit,\n",
      "                    name='bias{}'.format(layerIdx))\n",
      "            l_last = nn.layers.NonlinearityLayer(l_last,\n",
      "                    nonlinearity=nn.nonlinearities.tanh,\n",
      "                    name='nl{}'.format(layerIdx))\n",
      "        elif len(spec) == 1:\n",
      "            if pInit:\n",
      "                print 'wInit will be {}'.format(pInit[0].shape)\n",
      "            wInit = pInit.pop(0) if pInit else nn.init.GlorotUniform()\n",
      "            l_last = nn.layers.DenseLayer(l_last, num_units=int(spec[0]),\n",
      "                    W = nn.init.GlorotUniform(),\n",
      "                    nonlinearity=None,\n",
      "                    b=None,\n",
      "                    name='dense{}'.format(layerIdx))\n",
      "            to_invert.append(l_last)\n",
      "            if pInit:\n",
      "                print 'bInit will be {}'.format(pInit[0].shape)\n",
      "            bInit = pInit.pop(0) if pInit else nn.init.Constant(0)\n",
      "            l_last = nn.layers.BiasLayer(l_last,\n",
      "                    b=bInit,\n",
      "                    name='bias{}'.format(layerIdx))\n",
      "            l_last = nn.layers.NonlinearityLayer(l_last,\n",
      "                    nonlinearity=nn.nonlinearities.tanh,\n",
      "                    name='nl{}'.format(layerIdx))\n",
      "        layerIdx += 1\n",
      "    l_last.nonlinearity=nn.nonlinearities.linear\n",
      "    l_last.name='encode'\n",
      "    for lay in to_invert[::-1]:\n",
      "        l_last=nn.layers.InverseLayer(l_last, lay, name='inv_{}'.format(lay.name))\n",
      "        l_last = nn.layers.BiasLayer(l_last,\n",
      "                name='inv_bias_{}'.format(lay.name))\n",
      "        l_last = nn.layers.NonlinearityLayer(l_last,\n",
      "                nonlinearity=nn.nonlinearities.tanh,\n",
      "                name='inv_nl_{}'.format(lay.name))\n",
      "    l_output = nn.layers.ReshapeLayer(l_last, shape=(([0], -1)), name='output')\n",
      "    return l_output\n"
     ],
     "language": "python",
     "metadata": {},
     "outputs": [],
     "prompt_number": 12
    },
    {
     "cell_type": "code",
     "collapsed": false,
     "input": [
      "def get_picture_array(X, index, shp=(100,100),channels=3):\n",
      "    ret = ((X[index]+0.5)*255.).reshape(channels,shp[0],shp[1]) \\\n",
      "        .transpose(2,1,0).clip(0,255).astype(np.uint8)\n",
      "    if channels == 1:\n",
      "        ret=ret.reshape(shp[1],shp[0])\n",
      "    return ret"
     ],
     "language": "python",
     "metadata": {},
     "outputs": [],
     "prompt_number": 11
    },
    {
     "cell_type": "code",
     "collapsed": false,
     "input": [],
     "language": "python",
     "metadata": {},
     "outputs": []
    }
   ],
   "metadata": {}
  }
 ]
}