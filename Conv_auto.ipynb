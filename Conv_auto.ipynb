{
 "metadata": {
  "name": ""
 },
 "nbformat": 3,
 "nbformat_minor": 0,
 "worksheets": [
  {
   "cells": [
    {
     "cell_type": "code",
     "collapsed": false,
     "input": [
      "import os, sys, urllib, gzip\n",
      "import cPickle as pickle\n",
      "sys.setrecursionlimit(10000)\n",
      "import glob\n",
      "from IPython.display import clear_output"
     ],
     "language": "python",
     "metadata": {},
     "outputs": [],
     "prompt_number": 1
    },
    {
     "cell_type": "code",
     "collapsed": false,
     "input": [
      "import matplotlib.pyplot as plt\n",
      "%matplotlib inline\n",
      "import numpy as np\n",
      "from IPython.display import Image as IPImage\n",
      "from PIL import Image"
     ],
     "language": "python",
     "metadata": {},
     "outputs": [],
     "prompt_number": 2
    },
    {
     "cell_type": "code",
     "collapsed": false,
     "input": [
      "from lasagne.layers import get_output, InputLayer, DenseLayer, Upscale2DLayer, ReshapeLayer\n",
      "from lasagne.nonlinearities import rectify, leaky_rectify, tanh\n",
      "from lasagne.updates import nesterov_momentum\n",
      "from lasagne.objectives import categorical_crossentropy\n",
      "from nolearn.lasagne import NeuralNet, BatchIterator, PrintLayerInfo"
     ],
     "language": "python",
     "metadata": {},
     "outputs": [
      {
       "output_type": "stream",
       "stream": "stderr",
       "text": [
        "Using gpu device 0: GRID K520 (CNMeM is disabled)\n"
       ]
      }
     ],
     "prompt_number": 3
    },
    {
     "cell_type": "code",
     "collapsed": false,
     "input": [
      "from lasagne.layers import Conv2DLayer as Conv2DLayerSlow\n",
      "from lasagne.layers import MaxPool2DLayer as MaxPool2DLayerSlow\n",
      "try:\n",
      "    from lasagne.layers.dnn import Conv2DDNNLayer as Conv2DLayer\n",
      "    from lasagne.layers.dnn import MaxPool2DDNNLayer as MaxPool2DLayer\n",
      "    print 'Using cuda_convnet (faster)'\n",
      "except ImportError:\n",
      "    from lasagne.layers import Conv2DLayer as Conv2DLayerFast\n",
      "    from lasagne.layers import MaxPool2DLayer as MaxPool2DLayerFast\n",
      "    print 'Using lasagne.layers (slower)'"
     ],
     "language": "python",
     "metadata": {},
     "outputs": [
      {
       "output_type": "stream",
       "stream": "stdout",
       "text": [
        "Using cuda_convnet (faster)\n"
       ]
      }
     ],
     "prompt_number": 5
    },
    {
     "cell_type": "code",
     "collapsed": false,
     "input": [
      "fname = 'mnist.pkl.gz'\n",
      "if not os.path.isfile(fname):\n",
      "    testfile = urllib.URLopener()\n",
      "    testfile.retrieve(\"http://deeplearning.net/data/mnist/mnist.pkl.gz\", fname)\n",
      "f = gzip.open(fname, 'rb')\n",
      "train_set, valid_set, test_set = pickle.load(f)\n",
      "f.close()\n",
      "X, y = train_set"
     ],
     "language": "python",
     "metadata": {},
     "outputs": [],
     "prompt_number": 6
    },
    {
     "cell_type": "code",
     "collapsed": false,
     "input": [
      "# reshape from (50000, 784) to 4D tensor (50000, 1, 28, 28)\n",
      "X = np.reshape(X, (-1, 1, 28, 28))\n",
      "print 'X type and shape:', X.dtype, X.shape\n",
      "print 'X.min():', X.min()\n",
      "print 'X.max():', X.max()"
     ],
     "language": "python",
     "metadata": {},
     "outputs": [
      {
       "output_type": "stream",
       "stream": "stdout",
       "text": [
        "X type and shape: float32 (50000, 1, 28, 28)\n",
        "X.min(): 0.0\n",
        "X.max(): 0.996094\n"
       ]
      }
     ],
     "prompt_number": 7
    },
    {
     "cell_type": "code",
     "collapsed": false,
     "input": [
      "# we need our target to be 1 dimensional\n",
      "X_out = X.reshape((X.shape[0], -1))\n",
      "print 'X_out:', X_out.dtype, X_out.shape"
     ],
     "language": "python",
     "metadata": {},
     "outputs": [
      {
       "output_type": "stream",
       "stream": "stdout",
       "text": [
        "X_out: float32 (50000, 784)\n"
       ]
      }
     ],
     "prompt_number": 8
    },
    {
     "cell_type": "code",
     "collapsed": false,
     "input": [
      "conv_num_filters = 16\n",
      "filter_size = 3\n",
      "pool_size = 2\n",
      "encode_size = 16\n",
      "dense_mid_size = 128\n",
      "pad_in = 'valid'\n",
      "pad_out = 'full'\n",
      "layers = [\n",
      "    (InputLayer, {'shape': (None, X.shape[1], X.shape[2], X.shape[3])}), \n",
      "    (Conv2DLayer, {'num_filters': conv_num_filters, 'filter_size': filter_size, 'pad': pad_in}),\n",
      "    (Conv2DLayer, {'num_filters': conv_num_filters, 'filter_size': filter_size, 'pad': pad_in}),\n",
      "    (MaxPool2DLayer, {'pool_size': pool_size}),\n",
      "    (Conv2DLayer, {'num_filters': 2*conv_num_filters, 'filter_size': filter_size, 'pad': pad_in}),\n",
      "    (MaxPool2DLayer, {'pool_size': pool_size}),\n",
      "    (ReshapeLayer, {'shape': (([0], -1))}),\n",
      "    (DenseLayer, {'num_units': dense_mid_size}),\n",
      "    (DenseLayer, {'name': 'encode', 'num_units': encode_size}),\n",
      "    (DenseLayer, {'num_units': dense_mid_size}),\n",
      "    (DenseLayer, {'num_units': 800}),\n",
      "    (ReshapeLayer, {'shape': (([0], 2*conv_num_filters, 5, 5))}),\n",
      "    (Upscale2DLayer, {'scale_factor': pool_size}),\n",
      "    (Conv2DLayer, {'num_filters': conv_num_filters, 'filter_size': filter_size, 'pad': pad_out}),\n",
      "    (Upscale2DLayer, {'scale_factor': pool_size}),\n",
      "    (Conv2DLayerSlow, {'num_filters': conv_num_filters, 'filter_size': filter_size, 'pad': pad_out}),\n",
      "    (Conv2DLayerSlow, {'num_filters': 1, 'filter_size': filter_size, 'pad': pad_out}),\n",
      "    (ReshapeLayer, {'shape': (([0], -1))}),\n",
      "]\n"
     ],
     "language": "python",
     "metadata": {},
     "outputs": [],
     "prompt_number": 23
    },
    {
     "cell_type": "code",
     "collapsed": false,
     "input": [
      "ae = NeuralNet(\n",
      "    layers=layers,\n",
      "    max_epochs=20,\n",
      "    \n",
      "    update=nesterov_momentum,\n",
      "    update_learning_rate=0.01,\n",
      "    update_momentum=0.975,\n",
      "    \n",
      "    regression=True,\n",
      "    verbose=1\n",
      ")\n",
      "# ae.initialize()\n",
      "# PrintLayerInfo()(ae)"
     ],
     "language": "python",
     "metadata": {},
     "outputs": [],
     "prompt_number": 24
    },
    {
     "cell_type": "code",
     "collapsed": false,
     "input": [
      "ae.fit(X, X_out)"
     ],
     "language": "python",
     "metadata": {},
     "outputs": [
      {
       "output_type": "stream",
       "stream": "stdout",
       "text": [
        "# Neural Network with 224177 learnable parameters\n",
        "\n",
        "## Layer information\n",
        "\n",
        "  #  name           size\n",
        "---  -------------  --------\n",
        "  0  input0         1x28x28\n",
        "  1  conv2ddnn1     16x26x26\n",
        "  2  conv2ddnn2     16x24x24\n",
        "  3  maxpool2ddnn3  16x12x12\n",
        "  4  conv2ddnn4     32x10x10\n",
        "  5  maxpool2ddnn5  32x5x5\n",
        "  6  reshape6       800\n",
        "  7  dense7         128\n",
        "  8  encode         16\n",
        "  9  dense9         128\n",
        " 10  dense10        800\n",
        " 11  reshape11      32x5x5\n",
        " 12  upscale2d12    32x10x10\n",
        " 13  conv2ddnn13    16x12x12\n",
        " 14  upscale2d14    16x24x24\n",
        " 15  conv2ddnn15    16x26x26\n",
        " 16  conv2ddnn16    1x28x28\n",
        " 17  reshape17      784\n",
        "\n"
       ]
      },
      {
       "output_type": "stream",
       "stream": "stdout",
       "text": [
        "  epoch    train loss    valid loss    train/val  dur\n",
        "-------  ------------  ------------  -----------  ------\n",
        "      1       \u001b[36m0.06993\u001b[0m       \u001b[32m0.05104\u001b[0m      1.37021  12.97s\n"
       ]
      },
      {
       "output_type": "stream",
       "stream": "stdout",
       "text": [
        "      2       \u001b[36m0.04133\u001b[0m       \u001b[32m0.03462\u001b[0m      1.19369  12.91s\n"
       ]
      },
      {
       "metadata": {},
       "output_type": "pyout",
       "prompt_number": 25,
       "text": [
        "NeuralNet(X_tensor_type=None,\n",
        "     batch_iterator_test=<nolearn.lasagne.base.BatchIterator object at 0x7f8ce818bcd0>,\n",
        "     batch_iterator_train=<nolearn.lasagne.base.BatchIterator object at 0x7f8ce818bc50>,\n",
        "     custom_score=None,\n",
        "     layers=[(<class 'lasagne.layers.input.InputLayer'>, {'shape': (None, 1, 28, 28)}), (<class 'lasagne.layers.dnn.Conv2DDNNLayer'>, {'filter_size': 3, 'pad': 'valid', 'num_filters': 16}), (<class 'lasagne.layers.dnn.Conv2DDNNLayer'>, {'filter_size': 3, 'pad': 'valid', 'num_filters': 16}), (<class 'lasa...d': 'full', 'num_filters': 1}), (<class 'lasagne.layers.shape.ReshapeLayer'>, {'shape': ([0], -1)})],\n",
        "     loss=None, max_epochs=20, more_params={},\n",
        "     objective=<function objective at 0x7f8ce81958c0>,\n",
        "     objective_loss_function=<function squared_error at 0x7f8cebde0ed8>,\n",
        "     on_batch_finished=[],\n",
        "     on_epoch_finished=[<nolearn.lasagne.handlers.PrintLog instance at 0x7f8caa9fa908>],\n",
        "     on_training_finished=[],\n",
        "     on_training_started=[<nolearn.lasagne.handlers.PrintLayerInfo instance at 0x7f8caa9faa70>],\n",
        "     regression=True,\n",
        "     train_split=<nolearn.lasagne.base.TrainSplit object at 0x7f8ce818bd10>,\n",
        "     update=<function nesterov_momentum at 0x7f8cebde97d0>,\n",
        "     update_learning_rate=0.01, update_momentum=0.975,\n",
        "     use_label_encoder=False, verbose=1,\n",
        "     y_tensor_type=TensorType(float32, matrix))"
       ]
      }
     ],
     "prompt_number": 25
    },
    {
     "cell_type": "code",
     "collapsed": false,
     "input": [
      "from nolearn.lasagne.visualize import plot_loss\n",
      "plot_loss(ae)"
     ],
     "language": "python",
     "metadata": {},
     "outputs": [
      {
       "metadata": {},
       "output_type": "display_data",
       "png": "[encoded data removed]",
       "text": [
        "<matplotlib.figure.Figure at 0x7f8cb9a6cf90>"
       ]
      }
     ],
     "prompt_number": 14
    },
    {
     "cell_type": "code",
     "collapsed": false,
     "input": [
      "!mkdir mnist\n",
      "# ae.save_params_to('mnist/conv_ae.np')\n",
      "pickle.dump(ae, open('mnist/conv_ae.pkl','w'))\n",
      "# ae = pickle.load(open('mnist/conv_ae.pkl','r'))\n",
      "# ae.layers"
     ],
     "language": "python",
     "metadata": {},
     "outputs": [],
     "prompt_number": 16
    },
    {
     "cell_type": "code",
     "collapsed": false,
     "input": [
      "X_pred = ae.predict(X).reshape(-1, 28, 28)\n",
      "X_pred = np.rint(256. * X_pred).astype(int)\n",
      "X_pred = np.clip(X_pred, a_min = 0, a_max = 255)\n",
      "X_pred = X_pred.astype('uint8')\n",
      "print X_pred.shape , X.shape"
     ],
     "language": "python",
     "metadata": {},
     "outputs": [
      {
       "output_type": "stream",
       "stream": "stdout",
       "text": [
        "(50000, 28, 28) (50000, 1, 28, 28)\n"
       ]
      }
     ],
     "prompt_number": 17
    },
    {
     "cell_type": "code",
     "collapsed": false,
     "input": [
      "!mkdir -p data\n",
      "!mkdir -p montage"
     ],
     "language": "python",
     "metadata": {},
     "outputs": [],
     "prompt_number": 18
    },
    {
     "cell_type": "code",
     "collapsed": false,
     "input": [
      "###  show random inputs / outputs side by side\n",
      "\n",
      "def get_picture_array(X, rescale=4):\n",
      "    array = X.reshape(28,28)\n",
      "    array = np.clip(array, a_min = 0, a_max = 255)\n",
      "    return  array.repeat(rescale, axis = 0).repeat(rescale, axis = 1).astype(np.uint8())\n",
      "\n",
      "def compare_images(index):\n",
      "    print index\n",
      "    original_image = Image.fromarray(get_picture_array(255 * X[index]))\n",
      "    new_size = (original_image.size[0] * 2, original_image.size[1])\n",
      "    new_im = Image.new('L', new_size)\n",
      "    new_im.paste(original_image, (0,0))\n",
      "    rec_image = Image.fromarray(get_picture_array(X_pred[index]))\n",
      "    new_im.paste(rec_image, (original_image.size[0],0))\n",
      "    new_im.save('data/test.png', format=\"PNG\")\n",
      "    return IPImage('data/test.png')\n",
      "\n",
      "compare_images(2)\n",
      "# compare_images(np.random.randint(50000))"
     ],
     "language": "python",
     "metadata": {},
     "outputs": [
      {
       "output_type": "stream",
       "stream": "stdout",
       "text": [
        "2\n"
       ]
      },
      {
       "metadata": {},
       "output_type": "pyout",
       "png": "[encoded data removed]",
       "prompt_number": 19,
       "text": [
        "<IPython.core.display.Image at 0x7f8caa9b4850>"
       ]
      }
     ],
     "prompt_number": 19
    },
    {
     "cell_type": "code",
     "collapsed": false,
     "input": [
      "## we find the encode layer from our ae, and use it to define an encoding function\n",
      "\n",
      "def get_layer_by_name(net, name):\n",
      "    for i, layer in enumerate(net.get_all_layers()):\n",
      "        if layer.name == name:\n",
      "            return layer, i\n",
      "    return None, None\n",
      "encode_layer, encode_layer_index = get_layer_by_name(ae, 'encode')\n",
      "\n",
      "def encode_input(encode_layer, X):\n",
      "    return get_output(encode_layer, inputs=X).eval()\n",
      "\n",
      "X_encoded = encode_input(encode_layer, X)"
     ],
     "language": "python",
     "metadata": {},
     "outputs": [],
     "prompt_number": 20
    },
    {
     "cell_type": "code",
     "collapsed": false,
     "input": [
      "next_layer = ae.get_all_layers()[encode_layer_index + 1]\n",
      "final_layer = ae.get_all_layers()[-1]\n",
      "new_layer = InputLayer(shape=(None, encode_layer.num_units))\n",
      "\n",
      "# N.B after we do this, we won't be able to use the original autoencoder , as the layers are broken up\n",
      "next_layer.input_layer = new_layer"
     ],
     "language": "python",
     "metadata": {},
     "outputs": [],
     "prompt_number": 21
    },
    {
     "cell_type": "code",
     "collapsed": false,
     "input": [],
     "language": "python",
     "metadata": {},
     "outputs": [],
     "prompt_number": 22
    },
    {
     "cell_type": "code",
     "collapsed": false,
     "input": [],
     "language": "python",
     "metadata": {},
     "outputs": []
    }
   ],
   "metadata": {}
  }
 ]
}